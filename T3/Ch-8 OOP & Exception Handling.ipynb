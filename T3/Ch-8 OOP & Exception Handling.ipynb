{
 "cells": [
  {
   "cell_type": "code",
   "execution_count": 4,
   "metadata": {},
   "outputs": [
    {
     "name": "stdout",
     "output_type": "stream",
     "text": [
      "5.0\n"
     ]
    }
   ],
   "source": [
    "try:\n",
    "    print(5/0)\n",
    "except:\n",
    "    print(5/1)"
   ]
  },
  {
   "cell_type": "markdown",
   "metadata": {},
   "source": [
    "### try - test a block of code for errors.\n",
    "### except - lets you handle the error.\n",
    "### else - lets you execute the code when there is no error.\n",
    "### finally - lets you execute the code, regardless of the result of the try and except."
   ]
  },
  {
   "cell_type": "code",
   "execution_count": 21,
   "metadata": {},
   "outputs": [
    {
     "name": "stdout",
     "output_type": "stream",
     "text": [
      "ishan dalwadi is my name !!\n",
      "hi \n",
      "hello\n",
      "5\n",
      "division by zero\n"
     ]
    }
   ],
   "source": [
    "try:\n",
    "    m = 5\n",
    "    f = open(\"demo.txt\",\"r\")\n",
    "    print(f.read())\n",
    "    print(m)\n",
    "    print(5/0)\n",
    "    l = [1,2,3]\n",
    "    l[100]\n",
    "except Exception as e:\n",
    "    print(e)"
   ]
  },
  {
   "cell_type": "code",
   "execution_count": 1,
   "metadata": {},
   "outputs": [
    {
     "name": "stdout",
     "output_type": "stream",
     "text": [
      "name 'b' is not defined\n",
      "Rs=est of the code\n"
     ]
    }
   ],
   "source": [
    "a = 10\n",
    "k = 0\n",
    "try: \n",
    "    d = a/b\n",
    "    print(d)\n",
    "except (NameError,ZeroDivisionError) as obj:\n",
    "    print(obj)\n",
    "print(\"Rs=est of the code\")"
   ]
  },
  {
   "cell_type": "markdown",
   "metadata": {},
   "source": [
    "### Raise an Exception"
   ]
  },
  {
   "cell_type": "code",
   "execution_count": 7,
   "metadata": {},
   "outputs": [
    {
     "ename": "TypeError",
     "evalue": "Not allowed different tpye",
     "output_type": "error",
     "traceback": [
      "\u001b[1;31m---------------------------------------------------------------------------\u001b[0m",
      "\u001b[1;31mTypeError\u001b[0m                                 Traceback (most recent call last)",
      "\u001b[1;32m<ipython-input-7-ce4ac51e807e>\u001b[0m in \u001b[0;36m<module>\u001b[1;34m\u001b[0m\n\u001b[0;32m      4\u001b[0m     \u001b[1;32melse\u001b[0m\u001b[1;33m:\u001b[0m\u001b[1;33m\u001b[0m\u001b[1;33m\u001b[0m\u001b[0m\n\u001b[0;32m      5\u001b[0m         \u001b[1;32mreturn\u001b[0m \u001b[0ma\u001b[0m\u001b[1;33m+\u001b[0m\u001b[0mb\u001b[0m\u001b[1;33m\u001b[0m\u001b[1;33m\u001b[0m\u001b[0m\n\u001b[1;32m----> 6\u001b[1;33m \u001b[0modd\u001b[0m\u001b[1;33m(\u001b[0m\u001b[1;36m2.0232\u001b[0m\u001b[1;33m,\u001b[0m\u001b[1;36m90\u001b[0m\u001b[1;33m)\u001b[0m\u001b[1;33m\u001b[0m\u001b[1;33m\u001b[0m\u001b[0m\n\u001b[0m",
      "\u001b[1;32m<ipython-input-7-ce4ac51e807e>\u001b[0m in \u001b[0;36modd\u001b[1;34m(a, b)\u001b[0m\n\u001b[0;32m      1\u001b[0m \u001b[1;32mdef\u001b[0m \u001b[0modd\u001b[0m\u001b[1;33m(\u001b[0m\u001b[0ma\u001b[0m\u001b[1;33m,\u001b[0m\u001b[0mb\u001b[0m\u001b[1;33m)\u001b[0m\u001b[1;33m:\u001b[0m\u001b[1;33m\u001b[0m\u001b[1;33m\u001b[0m\u001b[0m\n\u001b[0;32m      2\u001b[0m     \u001b[1;32mif\u001b[0m \u001b[0mtype\u001b[0m\u001b[1;33m(\u001b[0m\u001b[0ma\u001b[0m\u001b[1;33m)\u001b[0m \u001b[1;32mand\u001b[0m \u001b[0mtype\u001b[0m\u001b[1;33m(\u001b[0m\u001b[0mb\u001b[0m\u001b[1;33m)\u001b[0m \u001b[1;33m!=\u001b[0m \u001b[0mstr\u001b[0m\u001b[1;33m:\u001b[0m\u001b[1;33m\u001b[0m\u001b[1;33m\u001b[0m\u001b[0m\n\u001b[1;32m----> 3\u001b[1;33m         \u001b[1;32mraise\u001b[0m \u001b[0mTypeError\u001b[0m\u001b[1;33m(\u001b[0m\u001b[1;34m\"Not allowed different tpye\"\u001b[0m\u001b[1;33m)\u001b[0m\u001b[1;33m\u001b[0m\u001b[1;33m\u001b[0m\u001b[0m\n\u001b[0m\u001b[0;32m      4\u001b[0m     \u001b[1;32melse\u001b[0m\u001b[1;33m:\u001b[0m\u001b[1;33m\u001b[0m\u001b[1;33m\u001b[0m\u001b[0m\n\u001b[0;32m      5\u001b[0m         \u001b[1;32mreturn\u001b[0m \u001b[0ma\u001b[0m\u001b[1;33m+\u001b[0m\u001b[0mb\u001b[0m\u001b[1;33m\u001b[0m\u001b[1;33m\u001b[0m\u001b[0m\n",
      "\u001b[1;31mTypeError\u001b[0m: Not allowed different tpye"
     ]
    }
   ],
   "source": [
    "def odd(a,b):\n",
    "    if type(a) and type(b) != str:\n",
    "        raise TypeError(\"Not allowed different tpye\")\n",
    "    else:\n",
    "        return a+b\n",
    "    \n",
    "odd(2.0232,90)"
   ]
  },
  {
   "cell_type": "markdown",
   "metadata": {},
   "source": [
    "### Custom Exception"
   ]
  },
  {
   "cell_type": "code",
   "execution_count": 12,
   "metadata": {},
   "outputs": [
    {
     "data": {
      "text/plain": [
       "8"
      ]
     },
     "execution_count": 12,
     "metadata": {},
     "output_type": "execute_result"
    }
   ],
   "source": [
    "class myerror(Exception):\n",
    "    def __init__(self,arg):\n",
    "        self.msg = arg\n",
    "        \n",
    "def add(a,b):\n",
    "    if type(a) == str:\n",
    "        raise myerror(\"personalized Massage\")\n",
    "    if type(b) == str:\n",
    "        raise TypeError(\"B should be int\")\n",
    "    return(a+b)\n",
    "\n",
    "# add(\"ishn\",\"dalwadi\") \"personalized Massage\"\n",
    "# add(3,\"ishan\") \"B should be int\"\n",
    "add(4,4)"
   ]
  },
  {
   "cell_type": "code",
   "execution_count": 8,
   "metadata": {},
   "outputs": [
    {
     "name": "stdout",
     "output_type": "stream",
     "text": [
      "Enter money :10000\n",
      "Enter withdrawal amount :9000\n",
      "Bhai nahi ho payega .\n",
      "Low Balanace\n"
     ]
    }
   ],
   "source": [
    "class InvailidError(Exception):\n",
    "    def __init__(self,arg):\n",
    "        self.msg = arg\n",
    "        \n",
    "def checkbalance(money,withdraw):\n",
    "    balance = money - withdraw\n",
    "    try:\n",
    "        if balance < 2000:\n",
    "            raise InvailidError(\"Bhai nahi ho payega .\")\n",
    "        else:\n",
    "            print(\"Current balance - \",balance)\n",
    "    except Exception as e:\n",
    "        print(e)\n",
    "    finally:\n",
    "        print(\"Low Balanace\")\n",
    "        \n",
    "money = int(input(\"Enter money :\"))\n",
    "withdraw = int(input(\"Enter withdrawal amount :\"))\n",
    "checkbalance(money,withdraw)\n",
    "    if type(money) == str:\n",
    "        raise TypeError(\"Enter amount will be in integer\")\n",
    "    elif type(withdraw) == str:\n",
    "        raise TypeError(\"Enter withdrawal amount will be in integer\")\n",
    "    else:\n",
    "        checkbalance(money,withdraw)\n",
    "except Exception as e:\n",
    "    print(e)"
   ]
  },
  {
   "cell_type": "markdown",
   "metadata": {},
   "source": [
    "### OOP - Object Oriented Programing\n",
    "    - Everything in python is class/Object"
   ]
  },
  {
   "cell_type": "code",
   "execution_count": 9,
   "metadata": {},
   "outputs": [
    {
     "name": "stdout",
     "output_type": "stream",
     "text": [
      "<class 'int'>\n",
      "<class 'str'>\n",
      "<class 'function'>\n",
      "<class 'module'>\n"
     ]
    }
   ],
   "source": [
    "x = 42\n",
    "print(type(x))\n",
    "x = \"hello\"\n",
    "print(type(x))\n",
    "\n",
    "def z():\n",
    "    pass\n",
    "print(type(z))\n",
    "\n",
    "import math\n",
    "print(type(math))"
   ]
  },
  {
   "cell_type": "markdown",
   "metadata": {},
   "source": [
    "### How to create a class"
   ]
  },
  {
   "cell_type": "markdown",
   "metadata": {},
   "source": [
    "#### class Classname:\n",
    "    def __init__(self):  # Constructor\n",
    "        self.Variable_name = Value\n",
    "        self Variable_name = \"Value\"\n",
    "        \n",
    "    def method_name(self):\n",
    "        Body of Method"
   ]
  },
  {
   "cell_type": "code",
   "execution_count": 11,
   "metadata": {},
   "outputs": [
    {
     "name": "stdout",
     "output_type": "stream",
     "text": [
      "Employee Name : ishan Employee Age : 19 Employee Salary : 200000000\n",
      "Employee Name : ishanni Employee Age : 20 Employee Salary : 1000000000000\n"
     ]
    }
   ],
   "source": [
    "# Create a Employee class\n",
    "class Employee:\n",
    "    def __init__(self,name,age,salary):\n",
    "        self.name = name\n",
    "        self.age = age\n",
    "        self.salary = salary\n",
    "        \n",
    "    def display(self):\n",
    "        print(\"Employee Name :\",self.name,\"Employee Age :\",self.age,\"Employee Salary :\",self.salary)\n",
    "        \n",
    "\n",
    "emp1 = Employee(\"ishan\",19,200000000)\n",
    "emp1.display()\n",
    "emp2 = Employee(\"ishanni\",20,1000000000000)\n",
    "emp2.display()"
   ]
  }
 ],
 "metadata": {
  "kernelspec": {
   "display_name": "Python 3",
   "language": "python",
   "name": "python3"
  },
  "language_info": {
   "codemirror_mode": {
    "name": "ipython",
    "version": 3
   },
   "file_extension": ".py",
   "mimetype": "text/x-python",
   "name": "python",
   "nbconvert_exporter": "python",
   "pygments_lexer": "ipython3",
   "version": "3.8.5"
  }
 },
 "nbformat": 4,
 "nbformat_minor": 4
}

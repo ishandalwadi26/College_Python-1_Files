{
 "cells": [
  {
   "cell_type": "code",
   "execution_count": 1,
   "metadata": {},
   "outputs": [],
   "source": [
    "import pandas as pd\n",
    "import numpy as np"
   ]
  },
  {
   "cell_type": "markdown",
   "metadata": {},
   "source": [
    "## Calcluate R2 Score Using Model "
   ]
  },
  {
   "cell_type": "code",
   "execution_count": 12,
   "metadata": {},
   "outputs": [
    {
     "data": {
      "text/html": [
       "<div>\n",
       "<style scoped>\n",
       "    .dataframe tbody tr th:only-of-type {\n",
       "        vertical-align: middle;\n",
       "    }\n",
       "\n",
       "    .dataframe tbody tr th {\n",
       "        vertical-align: top;\n",
       "    }\n",
       "\n",
       "    .dataframe thead th {\n",
       "        text-align: right;\n",
       "    }\n",
       "</style>\n",
       "<table border=\"1\" class=\"dataframe\">\n",
       "  <thead>\n",
       "    <tr style=\"text-align: right;\">\n",
       "      <th></th>\n",
       "      <th>X</th>\n",
       "      <th>Y</th>\n",
       "    </tr>\n",
       "  </thead>\n",
       "  <tbody>\n",
       "    <tr>\n",
       "      <th>0</th>\n",
       "      <td>15</td>\n",
       "      <td>49</td>\n",
       "    </tr>\n",
       "    <tr>\n",
       "      <th>1</th>\n",
       "      <td>23</td>\n",
       "      <td>63</td>\n",
       "    </tr>\n",
       "    <tr>\n",
       "      <th>2</th>\n",
       "      <td>18</td>\n",
       "      <td>58</td>\n",
       "    </tr>\n",
       "    <tr>\n",
       "      <th>3</th>\n",
       "      <td>23</td>\n",
       "      <td>60</td>\n",
       "    </tr>\n",
       "    <tr>\n",
       "      <th>4</th>\n",
       "      <td>24</td>\n",
       "      <td>58</td>\n",
       "    </tr>\n",
       "    <tr>\n",
       "      <th>5</th>\n",
       "      <td>22</td>\n",
       "      <td>61</td>\n",
       "    </tr>\n",
       "    <tr>\n",
       "      <th>6</th>\n",
       "      <td>22</td>\n",
       "      <td>60</td>\n",
       "    </tr>\n",
       "    <tr>\n",
       "      <th>7</th>\n",
       "      <td>19</td>\n",
       "      <td>63</td>\n",
       "    </tr>\n",
       "    <tr>\n",
       "      <th>8</th>\n",
       "      <td>19</td>\n",
       "      <td>60</td>\n",
       "    </tr>\n",
       "    <tr>\n",
       "      <th>9</th>\n",
       "      <td>16</td>\n",
       "      <td>52</td>\n",
       "    </tr>\n",
       "    <tr>\n",
       "      <th>10</th>\n",
       "      <td>24</td>\n",
       "      <td>62</td>\n",
       "    </tr>\n",
       "    <tr>\n",
       "      <th>11</th>\n",
       "      <td>11</td>\n",
       "      <td>30</td>\n",
       "    </tr>\n",
       "    <tr>\n",
       "      <th>12</th>\n",
       "      <td>24</td>\n",
       "      <td>59</td>\n",
       "    </tr>\n",
       "    <tr>\n",
       "      <th>13</th>\n",
       "      <td>16</td>\n",
       "      <td>49</td>\n",
       "    </tr>\n",
       "    <tr>\n",
       "      <th>14</th>\n",
       "      <td>23</td>\n",
       "      <td>68</td>\n",
       "    </tr>\n",
       "  </tbody>\n",
       "</table>\n",
       "</div>"
      ],
      "text/plain": [
       "     X   Y\n",
       "0   15  49\n",
       "1   23  63\n",
       "2   18  58\n",
       "3   23  60\n",
       "4   24  58\n",
       "5   22  61\n",
       "6   22  60\n",
       "7   19  63\n",
       "8   19  60\n",
       "9   16  52\n",
       "10  24  62\n",
       "11  11  30\n",
       "12  24  59\n",
       "13  16  49\n",
       "14  23  68"
      ]
     },
     "execution_count": 12,
     "metadata": {},
     "output_type": "execute_result"
    }
   ],
   "source": [
    "data = pd.read_excel('ex_model_data.xlsx')\n",
    "data"
   ]
  },
  {
   "cell_type": "code",
   "execution_count": 13,
   "metadata": {},
   "outputs": [
    {
     "name": "stdout",
     "output_type": "stream",
     "text": [
      "     X\n",
      "0   15\n",
      "1   23\n",
      "2   18\n",
      "3   23\n",
      "4   24\n",
      "5   22\n",
      "6   22\n",
      "7   19\n",
      "8   19\n",
      "9   16\n",
      "10  24\n",
      "11  11\n",
      "12  24\n",
      "13  16\n",
      "14  23\n",
      "0     49\n",
      "1     63\n",
      "2     58\n",
      "3     60\n",
      "4     58\n",
      "5     61\n",
      "6     60\n",
      "7     63\n",
      "8     60\n",
      "9     52\n",
      "10    62\n",
      "11    30\n",
      "12    59\n",
      "13    49\n",
      "14    68\n",
      "Name: Y, dtype: int64\n",
      "<class 'pandas.core.frame.DataFrame'>\n",
      "<class 'pandas.core.series.Series'>\n"
     ]
    }
   ],
   "source": [
    "x = data.iloc[:, 0:1]\n",
    "y = data.iloc[:, -1]\n",
    "\n",
    "print(x)\n",
    "print(y)\n",
    "\n",
    "print(type(x))\n",
    "print(type(y))"
   ]
  },
  {
   "cell_type": "code",
   "execution_count": 14,
   "metadata": {},
   "outputs": [
    {
     "name": "stdout",
     "output_type": "stream",
     "text": [
      "(15, 1)\n",
      "(15,)\n"
     ]
    }
   ],
   "source": [
    "print(x.shape)\n",
    "print(y.shape)"
   ]
  },
  {
   "cell_type": "code",
   "execution_count": 15,
   "metadata": {},
   "outputs": [
    {
     "name": "stdout",
     "output_type": "stream",
     "text": [
      "[47.45652174 62.60810811 53.13836663 62.60810811 64.5020564  60.71415981\n",
      " 60.71415981 55.03231492 55.03231492 49.35047004 64.5020564  39.88072855\n",
      " 64.5020564  49.35047004 62.60810811]\n"
     ]
    }
   ],
   "source": [
    "from sklearn.linear_model import LinearRegression \n",
    "lr = LinearRegression()\n",
    "lr.fit(x,y)\n",
    "\n",
    "y_pred = lr.predict(x)\n",
    "print(y_pred)"
   ]
  },
  {
   "cell_type": "code",
   "execution_count": 16,
   "metadata": {},
   "outputs": [
    {
     "name": "stdout",
     "output_type": "stream",
     "text": [
      "    Actual  Predicted\n",
      "0       49  47.456522\n",
      "1       63  62.608108\n",
      "2       58  53.138367\n",
      "3       60  62.608108\n",
      "4       58  64.502056\n",
      "5       61  60.714160\n",
      "6       60  60.714160\n",
      "7       63  55.032315\n",
      "8       60  55.032315\n",
      "9       52  49.350470\n",
      "10      62  64.502056\n",
      "11      30  39.880729\n",
      "12      59  64.502056\n",
      "13      49  49.350470\n",
      "14      68  62.608108\n"
     ]
    }
   ],
   "source": [
    "diff = pd.DataFrame({\n",
    "    'Actual':y,\n",
    "    'Predicted':y_pred\n",
    "})\n",
    "print(diff)"
   ]
  },
  {
   "cell_type": "code",
   "execution_count": 17,
   "metadata": {},
   "outputs": [
    {
     "name": "stdout",
     "output_type": "stream",
     "text": [
      "Coefficent : [1.8939483]\n",
      "Intercept : 19.047297297297284\n"
     ]
    }
   ],
   "source": [
    "print(\"Coefficent :\",lr.coef_) # M\n",
    "print(\"Intercept :\",lr.intercept_) # C"
   ]
  },
  {
   "cell_type": "code",
   "execution_count": 18,
   "metadata": {},
   "outputs": [
    {
     "name": "stdout",
     "output_type": "stream",
     "text": [
      "MAE : 3.7412847630238946\n",
      "MSE : 22.292068155111636\n",
      "R2 Score : 0.7088287858527738\n"
     ]
    }
   ],
   "source": [
    "from sklearn import metrics\n",
    "print(\"MAE :\",metrics.mean_absolute_error(y,y_pred)) # Abosulte Error\n",
    "print(\"MSE :\",metrics.mean_squared_error(y,y_pred)) # Sqaurd Error\n",
    "print(\"R2 Score :\",metrics.r2_score(y,y_pred))"
   ]
  },
  {
   "cell_type": "code",
   "execution_count": 23,
   "metadata": {},
   "outputs": [
    {
     "data": {
      "image/png": "[encoded data removed]",
      "text/plain": [
       "<Figure size 432x288 with 1 Axes>"
      ]
     },
     "metadata": {
      "needs_background": "light"
     },
     "output_type": "display_data"
    }
   ],
   "source": [
    "import matplotlib.pyplot as plt\n",
    "plt.scatter(x,y,color = 'blue',label = 'Actual Score')\n",
    "plt.plot(x,y_pred,color = 'red',label='Predicted Score')\n",
    "plt.legend()\n",
    "plt.show()"
   ]
  },
  {
   "cell_type": "code",
   "execution_count": 24,
   "metadata": {},
   "outputs": [
    {
     "name": "stdout",
     "output_type": "stream",
     "text": [
      "R² score (linear fit): 0.96\n"
     ]
    },
    {
     "data": {
      "image/png": "[encoded data removed]",
      "text/plain": [
       "<Figure size 432x288 with 1 Axes>"
      ]
     },
     "metadata": {
      "needs_background": "light"
     },
     "output_type": "display_data"
    }
   ],
   "source": [
    "import numpy as np\n",
    "import matplotlib.pyplot as plt\n",
    "from sklearn.metrics import r2_score\n",
    "from sklearn.linear_model import LinearRegression\n",
    "\n",
    "# Data\n",
    "x = np.array([1, 2, 3, 4, 5])\n",
    "y = np.array([1, 4, 9, 16, 25])\n",
    "\n",
    "\n",
    "model = LinearRegression()\n",
    "model.fit(x.reshape(-1, 1), y) \n",
    "y_predicted = model.predict(x.reshape(-1, 1))\n",
    "\n",
    "r2 = r2_score(y, y_predicted)\n",
    "print(f\"R² score (linear fit): {r2:.2f}\")\n",
    "\n",
    "plt.scatter(x, y, label=\"Data points\")\n",
    "plt.plot(x, y_predicted, color='red', label=\"Linear Regression Line\")\n",
    "plt.xlabel(\"x\")\n",
    "plt.ylabel(\"y\")\n",
    "plt.title(\"Scatter Plot of x and y with Linear Regression\")\n",
    "plt.legend()\n",
    "plt.grid(True)\n",
    "plt.show()"
   ]
  },
  {
   "cell_type": "markdown",
   "metadata": {},
   "source": [
    "# ============================================================="
   ]
  },
  {
   "cell_type": "code",
   "execution_count": 114,
   "metadata": {},
   "outputs": [
    {
     "data": {
      "text/html": [
       "<div>\n",
       "<style scoped>\n",
       "    .dataframe tbody tr th:only-of-type {\n",
       "        vertical-align: middle;\n",
       "    }\n",
       "\n",
       "    .dataframe tbody tr th {\n",
       "        vertical-align: top;\n",
       "    }\n",
       "\n",
       "    .dataframe thead th {\n",
       "        text-align: right;\n",
       "    }\n",
       "</style>\n",
       "<table border=\"1\" class=\"dataframe\">\n",
       "  <thead>\n",
       "    <tr style=\"text-align: right;\">\n",
       "      <th></th>\n",
       "      <th>cgpa</th>\n",
       "      <th>package</th>\n",
       "    </tr>\n",
       "  </thead>\n",
       "  <tbody>\n",
       "    <tr>\n",
       "      <th>0</th>\n",
       "      <td>6.89</td>\n",
       "      <td>3.26</td>\n",
       "    </tr>\n",
       "    <tr>\n",
       "      <th>1</th>\n",
       "      <td>5.12</td>\n",
       "      <td>1.98</td>\n",
       "    </tr>\n",
       "    <tr>\n",
       "      <th>2</th>\n",
       "      <td>7.82</td>\n",
       "      <td>3.25</td>\n",
       "    </tr>\n",
       "    <tr>\n",
       "      <th>3</th>\n",
       "      <td>7.42</td>\n",
       "      <td>3.67</td>\n",
       "    </tr>\n",
       "    <tr>\n",
       "      <th>4</th>\n",
       "      <td>6.94</td>\n",
       "      <td>3.57</td>\n",
       "    </tr>\n",
       "    <tr>\n",
       "      <th>...</th>\n",
       "      <td>...</td>\n",
       "      <td>...</td>\n",
       "    </tr>\n",
       "    <tr>\n",
       "      <th>195</th>\n",
       "      <td>6.93</td>\n",
       "      <td>2.46</td>\n",
       "    </tr>\n",
       "    <tr>\n",
       "      <th>196</th>\n",
       "      <td>5.89</td>\n",
       "      <td>2.57</td>\n",
       "    </tr>\n",
       "    <tr>\n",
       "      <th>197</th>\n",
       "      <td>7.21</td>\n",
       "      <td>3.24</td>\n",
       "    </tr>\n",
       "    <tr>\n",
       "      <th>198</th>\n",
       "      <td>7.63</td>\n",
       "      <td>3.96</td>\n",
       "    </tr>\n",
       "    <tr>\n",
       "      <th>199</th>\n",
       "      <td>6.22</td>\n",
       "      <td>2.33</td>\n",
       "    </tr>\n",
       "  </tbody>\n",
       "</table>\n",
       "<p>200 rows × 2 columns</p>\n",
       "</div>"
      ],
      "text/plain": [
       "     cgpa  package\n",
       "0    6.89     3.26\n",
       "1    5.12     1.98\n",
       "2    7.82     3.25\n",
       "3    7.42     3.67\n",
       "4    6.94     3.57\n",
       "..    ...      ...\n",
       "195  6.93     2.46\n",
       "196  5.89     2.57\n",
       "197  7.21     3.24\n",
       "198  7.63     3.96\n",
       "199  6.22     2.33\n",
       "\n",
       "[200 rows x 2 columns]"
      ]
     },
     "execution_count": 114,
     "metadata": {},
     "output_type": "execute_result"
    }
   ],
   "source": [
    "bdata = pd.read_csv('Book1.csv')\n",
    "bdata"
   ]
  },
  {
   "cell_type": "code",
   "execution_count": 115,
   "metadata": {},
   "outputs": [
    {
     "data": {
      "text/plain": [
       "cgpa       0\n",
       "package    0\n",
       "dtype: int64"
      ]
     },
     "execution_count": 115,
     "metadata": {},
     "output_type": "execute_result"
    }
   ],
   "source": [
    "bdata.isna().sum()"
   ]
  },
  {
   "cell_type": "code",
   "execution_count": 116,
   "metadata": {},
   "outputs": [
    {
     "data": {
      "text/plain": [
       "cgpa       float64\n",
       "package    float64\n",
       "dtype: object"
      ]
     },
     "execution_count": 116,
     "metadata": {},
     "output_type": "execute_result"
    }
   ],
   "source": [
    "bdata.dtypes"
   ]
  },
  {
   "cell_type": "code",
   "execution_count": 117,
   "metadata": {},
   "outputs": [
    {
     "name": "stdout",
     "output_type": "stream",
     "text": [
      "<class 'pandas.core.frame.DataFrame'>\n",
      "RangeIndex: 200 entries, 0 to 199\n",
      "Data columns (total 2 columns):\n",
      " #   Column   Non-Null Count  Dtype  \n",
      "---  ------   --------------  -----  \n",
      " 0   cgpa     200 non-null    float64\n",
      " 1   package  200 non-null    float64\n",
      "dtypes: float64(2)\n",
      "memory usage: 3.2 KB\n"
     ]
    }
   ],
   "source": [
    "bdata.info()"
   ]
  },
  {
   "cell_type": "code",
   "execution_count": 118,
   "metadata": {},
   "outputs": [
    {
     "name": "stdout",
     "output_type": "stream",
     "text": [
      "(200, 1)\n",
      "(200,)\n"
     ]
    }
   ],
   "source": [
    "x = bdata.iloc[:,0:1]\n",
    "y = bdata.iloc[:,1]\n",
    "\n",
    "print(x.shape)\n",
    "print(y.shape)"
   ]
  },
  {
   "cell_type": "code",
   "execution_count": 119,
   "metadata": {},
   "outputs": [
    {
     "name": "stdout",
     "output_type": "stream",
     "text": [
      "     cgpa\n",
      "0    6.89\n",
      "1    5.12\n",
      "2    7.82\n",
      "3    7.42\n",
      "4    6.94\n",
      "..    ...\n",
      "195  6.93\n",
      "196  5.89\n",
      "197  7.21\n",
      "198  7.63\n",
      "199  6.22\n",
      "\n",
      "[200 rows x 1 columns]\n"
     ]
    }
   ],
   "source": [
    "print(x)"
   ]
  },
  {
   "cell_type": "code",
   "execution_count": 120,
   "metadata": {},
   "outputs": [
    {
     "name": "stdout",
     "output_type": "stream",
     "text": [
      "0      3.26\n",
      "1      1.98\n",
      "2      3.25\n",
      "3      3.67\n",
      "4      3.57\n",
      "       ... \n",
      "195    2.46\n",
      "196    2.57\n",
      "197    3.24\n",
      "198    3.96\n",
      "199    2.33\n",
      "Name: package, Length: 200, dtype: float64\n"
     ]
    }
   ],
   "source": [
    "print(y)"
   ]
  },
  {
   "cell_type": "code",
   "execution_count": 121,
   "metadata": {},
   "outputs": [
    {
     "name": "stdout",
     "output_type": "stream",
     "text": [
      "(160, 1)\n",
      "(40, 1)\n",
      "(160,)\n",
      "(40,)\n"
     ]
    }
   ],
   "source": [
    "#Split the data in training & testing\n",
    "from sklearn.model_selection import train_test_split\n",
    "x_train, x_test, y_train, y_test = train_test_split(x,y,test_size = 0.2, random_state = 19)\n",
    "\n",
    "print(x_train.shape)\n",
    "print(x_test.shape)\n",
    "print(y_train.shape)\n",
    "print(y_test.shape)"
   ]
  },
  {
   "cell_type": "code",
   "execution_count": 122,
   "metadata": {},
   "outputs": [
    {
     "name": "stdout",
     "output_type": "stream",
     "text": [
      "[4.38757493 3.54100435 2.64260291 2.56773612 2.97662396 2.34313577\n",
      " 3.34519891 3.17818838 2.37768967 4.12842067 3.65042503 2.78081852\n",
      " 2.92479311 2.55045917 2.38344865 4.34726204 3.46613756 2.8211314\n",
      " 3.23001923 2.71171071 3.08604464 2.21643813 2.63684393 3.00541888\n",
      " 2.55045917 2.95358802 3.33943992 1.61750384 2.34889475 2.61380799\n",
      " 1.93424793 2.14157134 3.21274228 3.22426025 3.77136369 3.73680979\n",
      " 2.49286934 3.2069833  3.22426025 2.24523305]\n"
     ]
    }
   ],
   "source": [
    "#Creating LinearRegression Model\n",
    "from sklearn.linear_model import LinearRegression\n",
    "\n",
    "lr=LinearRegression()\n",
    "lr.fit(x_train,y_train)\n",
    "\n",
    "y_pred=lr.predict(x_test)\n",
    "print(y_pred)"
   ]
  },
  {
   "cell_type": "code",
   "execution_count": 123,
   "metadata": {},
   "outputs": [
    {
     "name": "stdout",
     "output_type": "stream",
     "text": [
      "     Actual  Predicted\n",
      "40     4.02   4.387575\n",
      "140    3.15   3.541004\n",
      "33     2.73   2.642603\n",
      "91     2.14   2.567736\n",
      "13     2.89   2.976624\n",
      "94     2.42   2.343136\n",
      "148    3.40   3.345199\n",
      "20     3.16   3.178188\n",
      "196    2.57   2.377690\n",
      "163    3.91   4.128421\n",
      "31     3.89   3.650425\n",
      "78     2.21   2.780819\n",
      "16     2.35   2.924793\n",
      "180    2.72   2.550459\n",
      "37     2.43   2.383449\n",
      "169    4.37   4.347262\n",
      "72     3.62   3.466138\n",
      "105    2.82   2.821131\n",
      "152    3.08   3.230019\n",
      "157    2.70   2.711711\n",
      "117    2.99   3.086045\n",
      "60     2.19   2.216438\n",
      "62     2.09   2.636844\n",
      "155    3.09   3.005419\n",
      "190    2.69   2.550459\n",
      "41     2.70   2.953588\n",
      "59     3.31   3.339440\n",
      "193    1.94   1.617504\n",
      "132    2.48   2.348895\n",
      "150    2.73   2.613808\n",
      "1      1.98   1.934248\n",
      "61     1.61   2.141571\n",
      "34     3.42   3.212742\n",
      "30     3.26   3.224260\n",
      "26     3.42   3.771364\n",
      "192    3.75   3.736810\n",
      "8      2.31   2.492869\n",
      "125    3.16   3.206983\n",
      "64     2.92   3.224260\n",
      "147    2.21   2.245233\n"
     ]
    }
   ],
   "source": [
    "diff = pd.DataFrame({\n",
    "    'Actual': y_test,\n",
    "    'Predicted':y_pred\n",
    "})\n",
    "print(diff)"
   ]
  },
  {
   "cell_type": "code",
   "execution_count": 124,
   "metadata": {},
   "outputs": [
    {
     "name": "stdout",
     "output_type": "stream",
     "text": [
      "Coefficent : [0.57589836]\n",
      "Intercept : -1.0143516483691801\n"
     ]
    }
   ],
   "source": [
    "print(\"Coefficent :\",lr.coef_) # M\n",
    "print(\"Intercept :\",lr.intercept_) # C"
   ]
  },
  {
   "cell_type": "code",
   "execution_count": 125,
   "metadata": {},
   "outputs": [
    {
     "name": "stdout",
     "output_type": "stream",
     "text": [
      "MAE:  0.18405380979816172\n",
      "MSE:  0.06222087452033198\n",
      "R2 Score:  0.8416316029332689\n"
     ]
    }
   ],
   "source": [
    "from sklearn import metrics\n",
    "print(\"MAE: \",metrics.mean_absolute_error(y_test,y_pred))\n",
    "print(\"MSE: \",metrics.mean_squared_error(y_test,y_pred))\n",
    "print(\"R2 Score: \",metrics.r2_score(y_test,y_pred))"
   ]
  },
  {
   "cell_type": "code",
   "execution_count": 126,
   "metadata": {},
   "outputs": [
    {
     "data": {
      "image/png": "[encoded data removed]",
      "text/plain": [
       "<Figure size 432x288 with 1 Axes>"
      ]
     },
     "metadata": {
      "needs_background": "light"
     },
     "output_type": "display_data"
    }
   ],
   "source": [
    "plt.scatter(bdata[\"cgpa\"],bdata[\"package\"])\n",
    "plt.plot(x_test,y_pred,color=\"red\")\n",
    "plt.show()"
   ]
  },
  {
   "cell_type": "code",
   "execution_count": 134,
   "metadata": {},
   "outputs": [
    {
     "name": "stdout",
     "output_type": "stream",
     "text": [
      "Predict Package: [3.88078438]\n"
     ]
    }
   ],
   "source": [
    " # Predict for 9.9\n",
    "prediction = lr.predict([[8.5]])\n",
    "print(\"Predict Package:\",prediction)"
   ]
  },
  {
   "cell_type": "code",
   "execution_count": 112,
   "metadata": {},
   "outputs": [
    {
     "name": "stdout",
     "output_type": "stream",
     "text": [
      "0 0.7297167943957027\n",
      "1 0.7283345498058083\n",
      "2 0.780730147510384\n",
      "3 0.6516754875100943\n",
      "4 0.797266185221225\n",
      "5 0.7576283066961189\n",
      "6 0.7931883791241285\n",
      "7 0.74999736702749\n",
      "8 0.7750446547055034\n",
      "9 0.7537489289007485\n",
      "10 0.7681105472626018\n",
      "11 0.7834680873599649\n",
      "12 0.7814843672108371\n",
      "13 0.7431142550564668\n",
      "14 0.7319641370046674\n",
      "15 0.6757798883208352\n",
      "16 0.6056918235519968\n",
      "17 0.6778264290984857\n",
      "18 0.7524160321677125\n",
      "19 0.8416316029332689\n",
      "20 0.7415961128378261\n",
      "21 0.8174090402563694\n",
      "22 0.7507685626720515\n",
      "23 0.7309298089286885\n",
      "24 0.7575613457470172\n",
      "25 0.8376622340186116\n",
      "26 0.8048234457252446\n",
      "27 0.7309557444768802\n",
      "28 0.8060228914356113\n",
      "29 0.6999434392546031\n",
      "30 0.7196907227282943\n",
      "31 0.7847458684928423\n",
      "32 0.8086536217796094\n",
      "33 0.7574974746709521\n",
      "34 0.7150369641356499\n",
      "35 0.8411951968894585\n",
      "36 0.8106133427774883\n",
      "37 0.7015301996955197\n",
      "38 0.8236213089926823\n",
      "39 0.7510679098555051\n",
      "40 0.6462843124730797\n",
      "41 0.7950830105648082\n",
      "42 0.7730984312051673\n",
      "\n",
      "[0.7297167943957027, 0.7283345498058083, 0.780730147510384, 0.6516754875100943, 0.797266185221225, 0.7576283066961189, 0.7931883791241285, 0.74999736702749, 0.7750446547055034, 0.7537489289007485, 0.7681105472626018, 0.7834680873599649, 0.7814843672108371, 0.7431142550564668, 0.7319641370046674, 0.6757798883208352, 0.6056918235519968, 0.6778264290984857, 0.7524160321677125, 0.8416316029332689, 0.7415961128378261, 0.8174090402563694, 0.7507685626720515, 0.7309298089286885, 0.7575613457470172, 0.8376622340186116, 0.8048234457252446, 0.7309557444768802, 0.8060228914356113, 0.6999434392546031, 0.7196907227282943, 0.7847458684928423, 0.8086536217796094, 0.7574974746709521, 0.7150369641356499, 0.8411951968894585, 0.8106133427774883, 0.7015301996955197, 0.8236213089926823, 0.7510679098555051, 0.6462843124730797, 0.7950830105648082, 0.7730984312051673]\n"
     ]
    },
    {
     "data": {
      "image/png": "[encoded data removed]",
      "text/plain": [
       "<Figure size 432x288 with 1 Axes>"
      ]
     },
     "metadata": {
      "needs_background": "light"
     },
     "output_type": "display_data"
    }
   ],
   "source": [
    "#Split the data in training & testing\n",
    "from sklearn.model_selection import train_test_split\n",
    "from sklearn.linear_model import LinearRegression\n",
    "from sklearn import metrics\n",
    "import matplotlib.pyplot as plt\n",
    "\n",
    "x = bdata.iloc[:,0:1]\n",
    "y = bdata.iloc[:,1]\n",
    "lr=LinearRegression()\n",
    "ac_ls = []\n",
    "for i in range(0,43):\n",
    "    x_train, x_test, y_train, y_test = train_test_split(x,y,test_size = 0.2, random_state = i)\n",
    "    \n",
    "    #Creating LinearRegression Model\n",
    "    \n",
    "    lr.fit(x_train,y_train)\n",
    "\n",
    "    y_pred=lr.predict(x_test)\n",
    "\n",
    "\n",
    "    diff = pd.DataFrame({\n",
    "        'Actual': y_test,\n",
    "        'Predicted':y_pred\n",
    "    })\n",
    "    ans = metrics.r2_score(y_test,y_pred)\n",
    "    print(i,ans)\n",
    "    ac_ls.append(ans)\n",
    "\n",
    "print()\n",
    "print(ac_ls)\n",
    "\n",
    "x = range(0,43)\n",
    "plt.plot(x, ac_ls, marker = 'o')\n",
    "plt.grid(True)\n",
    "plt.show()"
   ]
  },
  {
   "cell_type": "markdown",
   "metadata": {},
   "source": [
    "# ============================================================="
   ]
  },
  {
   "cell_type": "code",
   "execution_count": null,
   "metadata": {},
   "outputs": [],
   "source": []
  }
 ],
 "metadata": {
  "kernelspec": {
   "display_name": "Python 3",
   "language": "python",
   "name": "python3"
  },
  "language_info": {
   "codemirror_mode": {
    "name": "ipython",
    "version": 3
   },
   "file_extension": ".py",
   "mimetype": "text/x-python",
   "name": "python",
   "nbconvert_exporter": "python",
   "pygments_lexer": "ipython3",
   "version": "3.8.5"
  }
 },
 "nbformat": 4,
 "nbformat_minor": 4
}

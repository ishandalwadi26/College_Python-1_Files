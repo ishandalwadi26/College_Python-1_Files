{
 "cells": [
  {
   "cell_type": "markdown",
   "metadata": {},
   "source": [
    "### Module\n",
    "    - File containing defination and statments.\n",
    "    - Module can define function, Classes and variables.\n",
    "    - Grouping realted code into a module makes the code easier to understand and use.\n",
    "    \n",
    "    "
   ]
  },
  {
   "cell_type": "code",
   "execution_count": 3,
   "metadata": {},
   "outputs": [
    {
     "data": {
      "text/plain": [
       "<function math.sqrt(x, /)>"
      ]
     },
     "execution_count": 3,
     "metadata": {},
     "output_type": "execute_result"
    }
   ],
   "source": [
    "#Inbuilt Module\n",
    "import math\n",
    "dir(math)\n",
    "math.pi # tab\n",
    "math.sqrt # shift + tab"
   ]
  },
  {
   "cell_type": "code",
   "execution_count": 7,
   "metadata": {},
   "outputs": [
    {
     "name": "stdout",
     "output_type": "stream",
     "text": [
      "Overwriting demoo.txt\n"
     ]
    }
   ],
   "source": [
    "%%writefile demoo.txt \n",
    "This is python\n",
    "This is java\n",
    "\n",
    "#This should be first in any cell"
   ]
  },
  {
   "cell_type": "code",
   "execution_count": 18,
   "metadata": {},
   "outputs": [
    {
     "name": "stdout",
     "output_type": "stream",
     "text": [
      "Writing mymodule.py\n"
     ]
    }
   ],
   "source": [
    "%%writefile mymodule.py\n",
    "def sum(a,b):\n",
    "    print(\"Addition :\",a+b)\n",
    "\n",
    "def sub(a,b):\n",
    "    print(\"Divition :\",a-b)\n",
    "    \n",
    "def mul(a,b):\n",
    "    print(\"Multiplication :\",a*b)\n",
    "    \n",
    "def div(a,b):\n",
    "    print(\"Division :\",a/b)\n",
    "    \n",
    "def fdiv(a,b):\n",
    "    print(\"FloorDivision :\",a//b)"
   ]
  },
  {
   "cell_type": "code",
   "execution_count": 2,
   "metadata": {},
   "outputs": [
    {
     "name": "stdout",
     "output_type": "stream",
     "text": [
      "Multiplication : 12\n"
     ]
    }
   ],
   "source": [
    "import mymodule as i\n",
    "dir(mymodule)\n",
    "i.mul(2,6)"
   ]
  },
  {
   "cell_type": "code",
   "execution_count": 15,
   "metadata": {},
   "outputs": [
    {
     "name": "stdout",
     "output_type": "stream",
     "text": [
      "Divition : -1\n"
     ]
    }
   ],
   "source": [
    "from mymodule import sub as a, sum as b\n",
    "a(2,3) # Do this "
   ]
  },
  {
   "cell_type": "code",
   "execution_count": 16,
   "metadata": {},
   "outputs": [
    {
     "ename": "ImportError",
     "evalue": "cannot import name 'b' from 'mymodule' (C:\\Users\\LJENG\\mymodule.py)",
     "output_type": "error",
     "traceback": [
      "\u001b[1;31m---------------------------------------------------------------------------\u001b[0m",
      "\u001b[1;31mImportError\u001b[0m                               Traceback (most recent call last)",
      "\u001b[1;32m<ipython-input-16-743b7ecc5689>\u001b[0m in \u001b[0;36m<module>\u001b[1;34m\u001b[0m\n\u001b[1;32m----> 1\u001b[1;33m \u001b[1;32mfrom\u001b[0m \u001b[0mmymodule\u001b[0m \u001b[1;32mimport\u001b[0m \u001b[0msub\u001b[0m\u001b[1;33m,\u001b[0m\u001b[0msum\u001b[0m \u001b[1;32mas\u001b[0m \u001b[0ma\u001b[0m\u001b[1;33m,\u001b[0m\u001b[0mb\u001b[0m\u001b[1;33m\u001b[0m\u001b[1;33m\u001b[0m\u001b[0m\n\u001b[0m\u001b[0;32m      2\u001b[0m \u001b[0ma\u001b[0m\u001b[1;33m(\u001b[0m\u001b[1;36m2\u001b[0m\u001b[1;33m,\u001b[0m\u001b[1;36m3\u001b[0m\u001b[1;33m)\u001b[0m\u001b[1;33m\u001b[0m\u001b[1;33m\u001b[0m\u001b[0m\n",
      "\u001b[1;31mImportError\u001b[0m: cannot import name 'b' from 'mymodule' (C:\\Users\\LJENG\\mymodule.py)"
     ]
    }
   ],
   "source": [
    "from mymodule import sub,sum as a,b\n",
    "a(2,3) # Do not this"
   ]
  },
  {
   "cell_type": "markdown",
   "metadata": {},
   "source": [
    "## Python os module\n"
   ]
  },
  {
   "cell_type": "markdown",
   "metadata": {},
   "source": [
    "### 1. Handling the current working directory"
   ]
  },
  {
   "cell_type": "code",
   "execution_count": 10,
   "metadata": {},
   "outputs": [
    {
     "data": {
      "text/plain": [
       "'C:\\\\Users\\\\LJENG'"
      ]
     },
     "execution_count": 10,
     "metadata": {},
     "output_type": "execute_result"
    }
   ],
   "source": [
    "import os\n",
    "os.getcwd()\n",
    "# OR only pwd\n"
   ]
  },
  {
   "cell_type": "markdown",
   "metadata": {},
   "source": [
    "### 2. Changing the current working directory"
   ]
  },
  {
   "cell_type": "code",
   "execution_count": 17,
   "metadata": {},
   "outputs": [
    {
     "data": {
      "text/plain": [
       "'D:\\\\B4_Ishan\\\\Python'"
      ]
     },
     "execution_count": 17,
     "metadata": {},
     "output_type": "execute_result"
    }
   ],
   "source": [
    "import os\n",
    "os.getcwd()\n",
    "os.chdir(\"D://\")\n",
    "os.getcwd()"
   ]
  },
  {
   "cell_type": "markdown",
   "metadata": {},
   "source": [
    "### 3. For Create a dicrectories"
   ]
  },
  {
   "cell_type": "code",
   "execution_count": 18,
   "metadata": {},
   "outputs": [],
   "source": [
    "import os\n",
    "os.mkdir(\"D:\\\\hello\")"
   ]
  },
  {
   "cell_type": "markdown",
   "metadata": {},
   "source": [
    "### 4. Listing out files and directory"
   ]
  },
  {
   "cell_type": "code",
   "execution_count": 21,
   "metadata": {},
   "outputs": [
    {
     "data": {
      "text/plain": [
       "[]"
      ]
     },
     "execution_count": 21,
     "metadata": {},
     "output_type": "execute_result"
    }
   ],
   "source": [
    "import os\n",
    "os.listdir() # beacuse im working in new floder."
   ]
  },
  {
   "cell_type": "markdown",
   "metadata": {},
   "source": [
    "### 5. Deleting directory and files\n",
    "    - 1. os.remove()\n",
    "    - 2. os.rmdir()"
   ]
  },
  {
   "cell_type": "code",
   "execution_count": 36,
   "metadata": {},
   "outputs": [
    {
     "ename": "NotADirectoryError",
     "evalue": "[WinError 267] The directory name is invalid: 'D:\\\\hello\\\\ishan.txt'",
     "output_type": "error",
     "traceback": [
      "\u001b[1;31m---------------------------------------------------------------------------\u001b[0m",
      "\u001b[1;31mNotADirectoryError\u001b[0m                        Traceback (most recent call last)",
      "\u001b[1;32m<ipython-input-36-050e18f21931>\u001b[0m in \u001b[0;36m<module>\u001b[1;34m\u001b[0m\n\u001b[0;32m      4\u001b[0m \u001b[1;33m\u001b[0m\u001b[0m\n\u001b[0;32m      5\u001b[0m \u001b[1;31m# os.rmdir(\"D:\\\\hello\") # Condition the directory is empty.\u001b[0m\u001b[1;33m\u001b[0m\u001b[1;33m\u001b[0m\u001b[1;33m\u001b[0m\u001b[0m\n\u001b[1;32m----> 6\u001b[1;33m \u001b[0mos\u001b[0m\u001b[1;33m.\u001b[0m\u001b[0mrmdir\u001b[0m\u001b[1;33m(\u001b[0m\u001b[1;34m\"D:\\\\hello\\ishan.txt\"\u001b[0m\u001b[1;33m)\u001b[0m \u001b[1;31m# it will give an error , us remove to delet file\u001b[0m\u001b[1;33m\u001b[0m\u001b[1;33m\u001b[0m\u001b[0m\n\u001b[0m",
      "\u001b[1;31mNotADirectoryError\u001b[0m: [WinError 267] The directory name is invalid: 'D:\\\\hello\\\\ishan.txt'"
     ]
    }
   ],
   "source": [
    "import os\n",
    "os.remove(\"D:\\\\hello\\h.txt\")\n",
    "os.remove(\"D:\\\\hello\") #it will give an error permission error , use rmdir to delete folder\n",
    "\n",
    "os.rmdir(\"D:\\\\hello\") # Condition the directory is empty.\n",
    "os.rmdir(\"D:\\\\hello\\ishan.txt\") # it will give an NotADirectoryError , us remove to delet file"
   ]
  },
  {
   "cell_type": "markdown",
   "metadata": {},
   "source": [
    "### WAP to make a module which contains all the basic functions related to string and import that module and use that module and use that with string entered by user\n",
    "\n",
    "    - len\n",
    "    - upper\n",
    "    - lower\n",
    "    - capitilize\n",
    "    - title\n",
    "    - isupper\n",
    "    - islower\n",
    "    - isalpha\n",
    "    - isdigit\n",
    "    - isalnum\n",
    "    "
   ]
  },
  {
   "cell_type": "code",
   "execution_count": 38,
   "metadata": {},
   "outputs": [
    {
     "name": "stdout",
     "output_type": "stream",
     "text": [
      "Writing string_utils.py\n"
     ]
    }
   ],
   "source": [
    "%%writefile string_utils.py\n",
    "\n",
    "def get_length(input_str):\n",
    "    return len(input_str)\n",
    "\n",
    "def to_upper(input_str):\n",
    "    return input_str.upper()\n",
    "\n",
    "def to_lower(input_str):\n",
    "    return input_str.lower()\n",
    "\n",
    "def capitalize(input_str):\n",
    "    return input_str.capitalize()\n",
    "\n",
    "def to_title(input_str):\n",
    "    return input_str.title()\n",
    "\n",
    "def is_all_upper(input_str):\n",
    "    return input_str.isupper()\n",
    "\n",
    "def is_all_lower(input_str):\n",
    "    return input_str.islower()\n",
    "\n",
    "def is_alpha(input_str):\n",
    "    return input_str.isalpha()\n",
    "\n",
    "def is_digit(input_str):\n",
    "    return input_str.isdigit()\n",
    "\n",
    "def is_alnum(input_str):\n",
    "    return input_str.isalnum()\n"
   ]
  },
  {
   "cell_type": "code",
   "execution_count": 39,
   "metadata": {},
   "outputs": [
    {
     "name": "stdout",
     "output_type": "stream",
     "text": [
      "Enter a string: ishan\n",
      "Length of the string: 5\n",
      "Uppercase: ISHAN\n",
      "Lowercase: ishan\n",
      "Capitalized: Ishan\n",
      "Title case: Ishan\n",
      "Is all upper: False\n",
      "Is all lower: True\n",
      "Is alphabetic: True\n",
      "Is numeric: False\n",
      "Is alphanumeric: True\n"
     ]
    }
   ],
   "source": [
    "import string_utils\n",
    "\n",
    "user_input = input(\"Enter a string: \")\n",
    "\n",
    "print(\"Length of the string:\", string_utils.get_length(user_input))\n",
    "print(\"Uppercase:\", string_utils.to_upper(user_input))\n",
    "print(\"Lowercase:\", string_utils.to_lower(user_input))\n",
    "print(\"Capitalized:\", string_utils.capitalize(user_input))\n",
    "print(\"Title case:\", string_utils.to_title(user_input))\n",
    "print(\"Is all upper:\", string_utils.is_all_upper(user_input))\n",
    "print(\"Is all lower:\", string_utils.is_all_lower(user_input))\n",
    "print(\"Is alphabetic:\", string_utils.is_alpha(user_input))\n",
    "print(\"Is numeric:\", string_utils.is_digit(user_input))\n",
    "print(\"Is alphanumeric:\", string_utils.is_alnum(user_input))\n"
   ]
  }
 ],
 "metadata": {
  "kernelspec": {
   "display_name": "Python 3",
   "language": "python",
   "name": "python3"
  },
  "language_info": {
   "codemirror_mode": {
    "name": "ipython",
    "version": 3
   },
   "file_extension": ".py",
   "mimetype": "text/x-python",
   "name": "python",
   "nbconvert_exporter": "python",
   "pygments_lexer": "ipython3",
   "version": "3.8.5"
  }
 },
 "nbformat": 4,
 "nbformat_minor": 4
}

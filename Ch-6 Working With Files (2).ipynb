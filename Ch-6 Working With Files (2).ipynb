{
 "cells": [
  {
   "cell_type": "markdown",
   "metadata": {},
   "source": [
    "### Inbulit Function\n",
    "    -Create\n",
    "    -Write\n",
    "    -Reading"
   ]
  },
  {
   "cell_type": "markdown",
   "metadata": {},
   "source": [
    "###### Types Of Files - 1. Text\n",
    "                 2. binary (Not we Use)\n",
    "                 \n",
    "###### Modes : r,r+,w,w+,a,a+"
   ]
  },
  {
   "cell_type": "markdown",
   "metadata": {},
   "source": [
    "### Read Only ('r')\n",
    "    -Handle Position At The Begining Of the File\n",
    "    -If File Does not exist, raise the an error\n",
    "    -default mode\n",
    "    \n",
    "    "
   ]
  },
  {
   "cell_type": "markdown",
   "metadata": {},
   "source": [
    "### First Way To Open a File ---"
   ]
  },
  {
   "cell_type": "code",
   "execution_count": 6,
   "metadata": {},
   "outputs": [
    {
     "name": "stdout",
     "output_type": "stream",
     "text": [
      "gr uer uihre ue rht hergeriher iu ierh gh er giher gerg reg erg  hgtrge rgoihb  fdg fgyreg er geg\n",
      "False\n",
      "True\n"
     ]
    }
   ],
   "source": [
    "f = open(\"demo.txt\",\"r\")\n",
    "print(f.read())\n",
    "print(f.closed)\n",
    "f.close()\n",
    "print(f.closed)"
   ]
  },
  {
   "cell_type": "markdown",
   "metadata": {},
   "source": [
    "### Second Way To Open a File ---"
   ]
  },
  {
   "cell_type": "code",
   "execution_count": 11,
   "metadata": {},
   "outputs": [
    {
     "name": "stdout",
     "output_type": "stream",
     "text": [
      "gr uer uihre ue rht hergeriher iu ierh gh er giher gerg reg erg  hgtrge rgoihb  fdg fgyreg er geg\n",
      "False\n",
      "True\n"
     ]
    }
   ],
   "source": [
    "with open(\"demo.txt\",\"r\") as f:\n",
    "    print(f.read())\n",
    "    print(f.closed)\n",
    "print(f.closed)"
   ]
  },
  {
   "cell_type": "code",
   "execution_count": 2,
   "metadata": {},
   "outputs": [
    {
     "name": "stdout",
     "output_type": "stream",
     "text": [
      "4\n",
      " is python\n",
      "3\n",
      "o is python\n"
     ]
    }
   ],
   "source": [
    "f = open(\"demo.txt\",\"r+\")\n",
    "f.write(\"Helo\")\n",
    "print(f.tell())\n",
    "print(f.read())\n",
    "f.seek(3)\n",
    "print(f.tell())\n",
    "print(f.read())\n",
    "f.close()"
   ]
  },
  {
   "cell_type": "markdown",
   "metadata": {},
   "source": [
    "### Read Functions --\n",
    "#### read()\n",
    "#### readline()\n",
    "#### readlines()"
   ]
  },
  {
   "cell_type": "code",
   "execution_count": 10,
   "metadata": {},
   "outputs": [
    {
     "name": "stdout",
     "output_type": "stream",
     "text": [
      "Helo \n",
      "is python u \n"
     ]
    }
   ],
   "source": [
    "f = open(\"demo.txt\",\"r\")\n",
    "print(f.read(5))\n",
    "print(f.read(12))"
   ]
  },
  {
   "cell_type": "code",
   "execution_count": 14,
   "metadata": {},
   "outputs": [
    {
     "name": "stdout",
     "output_type": "stream",
     "text": [
      "he\n",
      "loo is\n",
      "han hi 1\n",
      "\n",
      "heloo\n",
      " \n"
     ]
    }
   ],
   "source": [
    "f = open(\"demo.txt\",\"r\")\n",
    "print(f.readline(2))\n",
    "print(f.readline(6))\n",
    "print(f.readline(10))\n",
    "print(f.readline(5))\n",
    "print(f.readline(1))"
   ]
  },
  {
   "cell_type": "code",
   "execution_count": 7,
   "metadata": {},
   "outputs": [
    {
     "name": "stdout",
     "output_type": "stream",
     "text": [
      "['heloo ishan hi 1\\n', 'heloo ishan hi 2\\n']\n"
     ]
    }
   ],
   "source": [
    "f = open(\"demo.txt\",\"r\")\n",
    "print(f.readlines(33))"
   ]
  },
  {
   "cell_type": "markdown",
   "metadata": {},
   "source": [
    "### Write Functoins --\n",
    "    --write()\n",
    "    --writelines()"
   ]
  },
  {
   "cell_type": "code",
   "execution_count": 11,
   "metadata": {},
   "outputs": [],
   "source": [
    "f = open(\"demo.txt\",\"w\")\n",
    "f.write(\"This is test data\")\n",
    "f.close()"
   ]
  },
  {
   "cell_type": "code",
   "execution_count": 13,
   "metadata": {},
   "outputs": [],
   "source": [
    "f = open(\"demo.txt\",\"w\")\n",
    "l = ['a','b','c','d']\n",
    "f.writelines(l)\n",
    "f.close()"
   ]
  },
  {
   "cell_type": "markdown",
   "metadata": {},
   "source": [
    "### Ex :- 1"
   ]
  },
  {
   "cell_type": "code",
   "execution_count": 16,
   "metadata": {},
   "outputs": [
    {
     "name": "stdout",
     "output_type": "stream",
     "text": [
      "Enter name :ishan\n",
      "Enter name :dalwadi\n",
      "Enter name :devam\n",
      "Enter name :jha\n",
      "Enter name :jaswani\n"
     ]
    }
   ],
   "source": [
    "f = open(\"ex1.txt\",\"w\")\n",
    "for i in range(0,5):\n",
    "    name = input(\"Enter name :\")\n",
    "    f.write(name+\"\\n\")\n",
    "f.close()"
   ]
  },
  {
   "cell_type": "code",
   "execution_count": 6,
   "metadata": {},
   "outputs": [
    {
     "name": "stdout",
     "output_type": "stream",
     "text": [
      "False\n",
      "demo.txt\n",
      "r+\n",
      "ishan dalwadi is my name !!\n",
      "True\n"
     ]
    }
   ],
   "source": [
    "f = open(\"demo.txt\",\"r+\")\n",
    "print(f.closed)\n",
    "print(f.name)\n",
    "print(f.mode)\n",
    "print(f.readline())\n",
    "print(f.writable())"
   ]
  },
  {
   "cell_type": "markdown",
   "metadata": {},
   "source": [
    "### Ex - 2 write a programe to copy the content to anthor file."
   ]
  },
  {
   "cell_type": "code",
   "execution_count": 11,
   "metadata": {},
   "outputs": [],
   "source": [
    "f = open(\"demo.txt\",\"r\")\n",
    "x = f.readline()\n",
    "f1 = open(\"ishan.txt\",\"w+\")\n",
    "f1.write(x)\n",
    "f.close()"
   ]
  },
  {
   "cell_type": "markdown",
   "metadata": {},
   "source": [
    "### Ex - 3 Write a dictinoary to the file."
   ]
  },
  {
   "cell_type": "code",
   "execution_count": 23,
   "metadata": {},
   "outputs": [],
   "source": [
    "i_p = {\"Name\":\"alice\",\"Age\":21,\"Degree\":\"CSE\",\"Unversity\":\"LJ\"}\n",
    "\n",
    "op = open(\"details.txt\",\"w\")\n",
    "for key,value in i_p.items():\n",
    "    op.write(f\"{key}: {value}\\n\")"
   ]
  },
  {
   "cell_type": "markdown",
   "metadata": {},
   "source": [
    "### Ex - 4 Write a py programe  copy to content of file to anthor file."
   ]
  },
  {
   "cell_type": "code",
   "execution_count": 31,
   "metadata": {},
   "outputs": [
    {
     "ename": "AttributeError",
     "evalue": "'str' object has no attribute 'readlines'",
     "output_type": "error",
     "traceback": [
      "\u001b[1;31m---------------------------------------------------------------------------\u001b[0m",
      "\u001b[1;31mAttributeError\u001b[0m                            Traceback (most recent call last)",
      "\u001b[1;32m<ipython-input-31-bcbcd3594ef2>\u001b[0m in \u001b[0;36m<module>\u001b[1;34m\u001b[0m\n\u001b[0;32m     11\u001b[0m \u001b[0mf3\u001b[0m\u001b[1;33m.\u001b[0m\u001b[0mclose\u001b[0m\u001b[1;33m(\u001b[0m\u001b[1;33m)\u001b[0m\u001b[1;33m\u001b[0m\u001b[1;33m\u001b[0m\u001b[0m\n\u001b[0;32m     12\u001b[0m \u001b[1;33m\u001b[0m\u001b[0m\n\u001b[1;32m---> 13\u001b[1;33m \u001b[0ma\u001b[0m \u001b[1;33m=\u001b[0m \u001b[0mx\u001b[0m\u001b[1;33m.\u001b[0m\u001b[0mreadlines\u001b[0m\u001b[1;33m(\u001b[0m\u001b[1;33m)\u001b[0m\u001b[1;33m\u001b[0m\u001b[1;33m\u001b[0m\u001b[0m\n\u001b[0m\u001b[0;32m     14\u001b[0m \u001b[1;32mwith\u001b[0m \u001b[0mopen\u001b[0m\u001b[1;33m(\u001b[0m\u001b[1;34m\"demo4_copy_line_rev.txt\"\u001b[0m\u001b[1;33m,\u001b[0m\u001b[1;34m\"w+\"\u001b[0m\u001b[1;33m)\u001b[0m \u001b[1;32mas\u001b[0m \u001b[0mf4\u001b[0m\u001b[1;33m:\u001b[0m\u001b[1;33m\u001b[0m\u001b[1;33m\u001b[0m\u001b[0m\n\u001b[0;32m     15\u001b[0m     \u001b[0mf4\u001b[0m\u001b[1;33m.\u001b[0m\u001b[0mwritelines\u001b[0m\u001b[1;33m(\u001b[0m\u001b[0ma\u001b[0m\u001b[1;33m[\u001b[0m\u001b[1;33m:\u001b[0m\u001b[1;33m:\u001b[0m\u001b[1;33m-\u001b[0m\u001b[1;36m1\u001b[0m\u001b[1;33m]\u001b[0m\u001b[1;33m)\u001b[0m\u001b[1;33m\u001b[0m\u001b[1;33m\u001b[0m\u001b[0m\n",
      "\u001b[1;31mAttributeError\u001b[0m: 'str' object has no attribute 'readlines'"
     ]
    }
   ],
   "source": [
    "with open(\"demo.txt\",\"r\") as f1:\n",
    "    x = f1.read()\n",
    "up = x.upper()\n",
    "with open(\"demo2_copy_upper.txt\",\"w\") as f2:\n",
    "    f2.write(up)\n",
    "f2.close()\n",
    "\n",
    "rev = x[::-1]\n",
    "with open(\"demo3_copy_rev.txt\",\"w\") as f3:\n",
    "    f3.write(rev)\n",
    "f3.close()\n",
    "\n",
    "a = x.readlines()\n",
    "with open(\"demo4_copy_line_rev.txt\",\"w+\") as f4:\n",
    "    f4.writelines(a[::-1])\n",
    "f4.close()"
   ]
  },
  {
   "cell_type": "markdown",
   "metadata": {},
   "source": [
    "### Ex - 4 WAP to print user Enter Line."
   ]
  },
  {
   "cell_type": "code",
   "execution_count": null,
   "metadata": {},
   "outputs": [],
   "source": [
    "f = open(\"demo.txt\",\"r\")\n",
    "n = int(input(\"Enter data:\"))\n",
    "x = f.readlines()\n",
    "print(x[l-1])"
   ]
  },
  {
   "cell_type": "markdown",
   "metadata": {},
   "source": [
    "### Ex - 5 WAP to disaply all line expect those '#' sign"
   ]
  },
  {
   "cell_type": "code",
   "execution_count": 12,
   "metadata": {},
   "outputs": [
    {
     "name": "stdout",
     "output_type": "stream",
     "text": [
      "Lines without '#' have been copied to 'output_file.txt'.\n"
     ]
    }
   ],
   "source": [
    "def copy_lines_without_hash(input_file, output_file):\n",
    "    try:\n",
    "        with open(input_file, 'r') as infile, open(output_file, 'w') as outfile:\n",
    "            for line in infile:\n",
    "                if '#' not in line:\n",
    "                    outfile.write(line)\n",
    "        print(f\"Lines without '#' have been copied to '{output_file}'.\")\n",
    "\n",
    "    except FileNotFoundError:\n",
    "        print(f\"File '{input_file}' not found.\")\n",
    "    except Exception as e:\n",
    "        print(f\"An error occurred: {e}\")\n",
    "\n",
    "input_file = \"input_file.txt\"\n",
    "output_file = \"output_file.txt\"\n",
    "copy_lines_without_hash(input_file, output_file)\n"
   ]
  },
  {
   "cell_type": "markdown",
   "metadata": {},
   "source": [
    "### WAP to compare too files and find the difference in line and charecter."
   ]
  },
  {
   "cell_type": "code",
   "execution_count": 17,
   "metadata": {},
   "outputs": [
    {
     "name": "stdout",
     "output_type": "stream",
     "text": [
      "Line : 1 Postition : 9\n",
      "Line : 2 Postition : 9\n",
      "Line : 3 Postition : 9\n",
      "Line : 4 Postition : 9\n"
     ]
    }
   ],
   "source": [
    "with open(\"test1.txt\",\"r\") as test1, open(\"test2.txt\",\"r\") as test2:\n",
    "    s1 = test1.read()\n",
    "    s2 = test2.read()\n",
    "\n",
    "c = n = 1\n",
    "for i in range(len(s1)):\n",
    "    if s1[i] == s2[i]:\n",
    "        c+=1\n",
    "        if s1[i] == \"\\n\":\n",
    "            n += 1\n",
    "            c = 1\n",
    "    else:\n",
    "        print(\"Line :\",n,\"Postition :\",c)\n",
    "        c+=1"
   ]
  },
  {
   "cell_type": "markdown",
   "metadata": {},
   "source": [
    "### WAP to count words,char and spaces from the text file."
   ]
  },
  {
   "cell_type": "code",
   "execution_count": 3,
   "metadata": {},
   "outputs": [
    {
     "name": "stdout",
     "output_type": "stream",
     "text": [
      "Word count: 12\n",
      "Character count: 55\n",
      "Space count: 8\n"
     ]
    }
   ],
   "source": [
    "def count_words_chars_spaces(file_path):\n",
    "    word_count = 0\n",
    "    char_count = 0\n",
    "    space_count = 0\n",
    "          \n",
    "    with open(file_path, 'r') as file:\n",
    "        for line in file:\n",
    "            char_count += len(line)  \n",
    "            space_count += line.count(' ')  \n",
    "                \n",
    "            words = line.split()\n",
    "            word_count += len(words)\n",
    "        \n",
    "    print(f\"Word count: {word_count}\")\n",
    "    print(f\"Character count: {char_count}\")\n",
    "    print(f\"Space count: {space_count}\")\n",
    "\n",
    "file_path = \"test1.txt\"  \n",
    "count_words_chars_spaces(file_path)"
   ]
  },
  {
   "cell_type": "markdown",
   "metadata": {},
   "source": [
    "### WAP to read line by line from given files py1 and py2 and write into py3.\n",
    "    py1 - 1\\n2\\n3\\n4\\n5\\n\n",
    "    py2 - 1\\n2\\n3\\n4\\n5\\n6\\n7\\n8\\n9\\n10\n",
    "    \n",
    "    output - py3 - 1\\n1\\n2\\n2\\n upto 5\\n5\\n6\\n7\\n8"
   ]
  },
  {
   "cell_type": "code",
   "execution_count": 1,
   "metadata": {},
   "outputs": [],
   "source": [
    "with open(\"py1.txt\", 'r') as file1:\n",
    "    f1 = file1.readlines()\n",
    "            \n",
    "with open(\"py2.txt\", 'r') as file2:\n",
    "    f2 = file2.readlines()\n",
    "    \n",
    "file3 = open(\"py3.txt\",\"w\")\n",
    "            \n",
    "lf1 = len(f1)\n",
    "lf2 = len(f2)\n",
    "n = max(lf1,lf2)\n",
    "\n",
    "for i in range(n):\n",
    "    if i < lf1:\n",
    "        file3.write(f1[i])\n",
    "    if i < lf2:\n",
    "        file3.write(f2[i])\n",
    "\n",
    "file1.close()\n",
    "file2.close()\n",
    "file3.close()"
   ]
  },
  {
   "cell_type": "markdown",
   "metadata": {},
   "source": [
    "### WAP to find the longest word in the text file"
   ]
  },
  {
   "cell_type": "code",
   "execution_count": 14,
   "metadata": {},
   "outputs": [
    {
     "name": "stdout",
     "output_type": "stream",
     "text": [
      "The longest word is: ishannnnnnnnn\n",
      "Length of the longest word: 13\n"
     ]
    }
   ],
   "source": [
    "word_count = 0\n",
    "max_length = 0\n",
    "longest_word = ''\n",
    "\n",
    "with open(\"len.txt\", 'r') as file:\n",
    "    for line in file:\n",
    "        words = line.split(\" \")\n",
    "        for word in words:\n",
    "            word_length = len(word)\n",
    "            if word_length > max_length:\n",
    "                max_length = word_length\n",
    "                longest_word = word\n",
    "                \n",
    "print(f\"The longest word is: {longest_word}\")\n",
    "print(f\"Length of the longest word: {max_length}\")"
   ]
  }
 ],
 "metadata": {
  "kernelspec": {
   "display_name": "Python 3",
   "language": "python",
   "name": "python3"
  },
  "language_info": {
   "codemirror_mode": {
    "name": "ipython",
    "version": 3
   },
   "file_extension": ".py",
   "mimetype": "text/x-python",
   "name": "python",
   "nbconvert_exporter": "python",
   "pygments_lexer": "ipython3",
   "version": "3.8.5"
  }
 },
 "nbformat": 4,
 "nbformat_minor": 4
}

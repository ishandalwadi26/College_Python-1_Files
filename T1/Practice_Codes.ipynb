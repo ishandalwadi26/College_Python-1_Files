{
 "cells": [
  {
   "cell_type": "markdown",
   "metadata": {},
   "source": [
    "#### WAP to check Is it Happy number or not"
   ]
  },
  {
   "cell_type": "code",
   "execution_count": 4,
   "metadata": {},
   "outputs": [
    {
     "name": "stdout",
     "output_type": "stream",
     "text": [
      "Enter a No : 54\n",
      "it's Not happy Number\n"
     ]
    }
   ],
   "source": [
    "a = int(input(\"Enter a No : \"))\n",
    "\n",
    "\n",
    "while a!=1 and a!=4:\n",
    "    sum=0\n",
    "    for i in str(a):\n",
    "        sum += int(i)**2\n",
    "    a = sum\n",
    "    \n",
    "if a==1:\n",
    "    print(\"it's an happy number .\")\n",
    "else:\n",
    "    print(\"it's Not happy Number\")"
   ]
  },
  {
   "cell_type": "markdown",
   "metadata": {},
   "source": [
    "#### WAP to check whether the given number is Disaraim or not."
   ]
  },
  {
   "cell_type": "code",
   "execution_count": 6,
   "metadata": {},
   "outputs": [
    {
     "name": "stdout",
     "output_type": "stream",
     "text": [
      "Enter a number: 89\n",
      "89 is a Disarium number.\n"
     ]
    }
   ],
   "source": [
    "number = int(input(\"Enter a number: \"))\n",
    "str_num = str(number)  \n",
    "length = len(str_num)  \n",
    "\n",
    "sum_of_powers = 0\n",
    "\n",
    "for index in range(length):\n",
    "    digit = int(str_num[index])\n",
    "    sum_of_powers += digit ** (index + 1)\n",
    "\n",
    "if sum_of_powers == number:\n",
    "    print(f\"{number} is a Disarium number.\")\n",
    "else:\n",
    "    print(f\"{number} is not a Disarium number.\")"
   ]
  }
 ],
 "metadata": {
  "kernelspec": {
   "display_name": "Python 3",
   "language": "python",
   "name": "python3"
  },
  "language_info": {
   "codemirror_mode": {
    "name": "ipython",
    "version": 3
   },
   "file_extension": ".py",
   "mimetype": "text/x-python",
   "name": "python",
   "nbconvert_exporter": "python",
   "pygments_lexer": "ipython3",
   "version": "3.8.5"
  }
 },
 "nbformat": 4,
 "nbformat_minor": 4
}

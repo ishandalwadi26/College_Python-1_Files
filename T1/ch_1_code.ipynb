{
 "cells": [
  {
   "cell_type": "markdown",
   "metadata": {},
   "source": [
    "#### Pb :- 55\n",
    "##### Write a Python program to find the area of Circle."
   ]
  },
  {
   "cell_type": "code",
   "execution_count": 5,
   "metadata": {},
   "outputs": [
    {
     "name": "stdout",
     "output_type": "stream",
     "text": [
      "The area of the circle is: 28.274333882308138\n"
     ]
    }
   ],
   "source": [
    "import math  # to use the value of π (pi)\n",
    "\n",
    "# Input radius\n",
    "radius = float(input(\"Enter the radius of the circle: \"))\n",
    "\n",
    "# Calculate area\n",
    "area = math.pi * radius ** 2\n",
    "\n",
    "# Output the area\n",
    "print(\"The area of the circle is:\", area)\n"
   ]
  },
  {
   "cell_type": "markdown",
   "metadata": {},
   "source": [
    "#### Pb :- 56\n",
    "##### Write a Python program to find the area of Triangle.\n"
   ]
  },
  {
   "cell_type": "code",
   "execution_count": 7,
   "metadata": {},
   "outputs": [
    {
     "name": "stdout",
     "output_type": "stream",
     "text": [
      "The area of the triangle is: 6.0\n"
     ]
    }
   ],
   "source": [
    "# Input base and height\n",
    "base = float(input(\"Enter the base of the triangle: \"))\n",
    "height = float(input(\"Enter the height of the triangle: \"))\n",
    "\n",
    "# Calculate area\n",
    "area = 0.5 * base * height\n",
    "\n",
    "# Output the area\n",
    "print(\"The area of the triangle is:\", area)\n"
   ]
  },
  {
   "cell_type": "markdown",
   "metadata": {},
   "source": [
    "#### Pb :- 57\n",
    "##### Write a Python program to calculate the area of a trapezoid.\n"
   ]
  },
  {
   "cell_type": "code",
   "execution_count": 2,
   "metadata": {},
   "outputs": [
    {
     "name": "stdout",
     "output_type": "stream",
     "text": [
      "The area of the trapezoid is: 2.5\n"
     ]
    }
   ],
   "source": [
    "# Input the lengths of the parallel sides (bases) and the height\n",
    "base1 = float(input(\"Enter the length of the first base: \"))\n",
    "base2 = float(input(\"Enter the length of the second base: \"))\n",
    "height = float(input(\"Enter the height of the trapezoid: \"))\n",
    "\n",
    "# Calculate the area\n",
    "area = 0.5 * (base1 + base2) * height\n",
    "\n",
    "# Output the area\n",
    "print(\"The area of the trapezoid is:\", area)\n"
   ]
  },
  {
   "cell_type": "markdown",
   "metadata": {},
   "source": [
    "#### Pb :- 58\n",
    "##### Write a Python program to calculate surface volume and area of a cylinder."
   ]
  },
  {
   "cell_type": "code",
   "execution_count": 1,
   "metadata": {},
   "outputs": [
    {
     "name": "stdout",
     "output_type": "stream",
     "text": [
      "The volume of the cylinder is: 133.59622759390595\n",
      "The surface area of the cylinder is: 186.61060362323371\n"
     ]
    }
   ],
   "source": [
    "import math  # to use the value of π (pi)\n",
    "\n",
    "# Input radius and height\n",
    "radius = float(input(\"Enter the radius of the cylinder: \"))\n",
    "height = float(input(\"Enter the height of the cylinder: \"))\n",
    "\n",
    "# Calculate volume\n",
    "volume = math.pi * radius ** 2 * height\n",
    "\n",
    "# Calculate surface area\n",
    "surface_area = 2 * math.pi * radius * (radius + height)\n",
    "\n",
    "# Output the results\n",
    "print(\"The volume of the cylinder is:\", volume)\n",
    "print(\"The surface area of the cylinder is:\", surface_area)\n"
   ]
  },
  {
   "cell_type": "markdown",
   "metadata": {},
   "source": [
    "#### Pb :- 59\n",
    "##### Write a Python program to convert Fahrenheit to Celsius and vice versa"
   ]
  },
  {
   "cell_type": "code",
   "execution_count": 3,
   "metadata": {},
   "outputs": [
    {
     "name": "stdout",
     "output_type": "stream",
     "text": [
      "Choose the conversion type:\n",
      "1. Fahrenheit to Celsius\n",
      "2. Celsius to Fahrenheit\n",
      "40.0° Celsius is equal to 129.60° Fahrenheit.\n"
     ]
    }
   ],
   "source": [
    "# Function to convert Fahrenheit to Celsius\n",
    "def fahrenheit_to_celsius(f):\n",
    "    return (5/9) * (f - 32)\n",
    "\n",
    "# Function to convert Celsius to Fahrenheit\n",
    "def celsius_to_fahrenheit(c):\n",
    "    return (9/5) * (c + 32)\n",
    "\n",
    "\n",
    "# Ask user for the conversion type\n",
    "print(\"Choose the conversion type:\")\n",
    "print(\"1. Fahrenheit to Celsius\")\n",
    "print(\"2. Celsius to Fahrenheit\")\n",
    "\n",
    "choice = int(input(\"Enter 1 or 2: \"))\n",
    "\n",
    "# Based on the choice, perform the conversion\n",
    "if choice == 1:\n",
    "    # Convert Fahrenheit to Celsius\n",
    "    fahrenheit = float(input(\"Enter temperature in Fahrenheit: \"))\n",
    "    celsius = fahrenheit_to_celsius(fahrenheit)\n",
    "    print(f\"{fahrenheit}° Fahrenheit is equal to {celsius:.2f}° Celsius.\")\n",
    "    \n",
    "elif choice == 2:\n",
    "    # Convert Celsius to Fahrenheit\n",
    "    celsius = float(input(\"Enter temperature in Celsius: \"))\n",
    "    fahrenheit = celsius_to_fahrenheit(celsius)\n",
    "    print(f\"{celsius}° Celsius is equal to {fahrenheit:.2f}° Fahrenheit.\")\n",
    "    \n",
    "else:\n",
    "    print(\"Invalid choice. Please enter 1 or 2.\")\n"
   ]
  },
  {
   "cell_type": "markdown",
   "metadata": {},
   "source": [
    "#### Pb :- 60\n",
    "##### Write a python code to demonstrate calculator functionality."
   ]
  },
  {
   "cell_type": "code",
   "execution_count": 5,
   "metadata": {},
   "outputs": [
    {
     "name": "stdout",
     "output_type": "stream",
     "text": [
      "Select operation:\n",
      "1. Add\n",
      "2. Subtract\n",
      "3. Multiply\n",
      "4. Divide\n",
      "The result of 2.0 + 6.0 is: 8.0\n"
     ]
    }
   ],
   "source": [
    "# Display the available operations\n",
    "print(\"Select operation:\")\n",
    "print(\"1. Add\")\n",
    "print(\"2. Subtract\")\n",
    "print(\"3. Multiply\")\n",
    "print(\"4. Divide\")\n",
    "\n",
    "# Get user choice   \n",
    "choice = input(\"Enter choice (1/2/3/4): \")\n",
    "\n",
    "# Input two numbers\n",
    "num1 = float(input(\"Enter first number: \"))\n",
    "num2 = float(input(\"Enter second number: \"))\n",
    "\n",
    "# Perform the chosen operation and display the result\n",
    "if choice == '1':\n",
    "    result = num1 + num2\n",
    "    print(f\"The result of {num1} + {num2} is: {result}\")\n",
    "\n",
    "elif choice == '2':\n",
    "    result = num1 - num2\n",
    "    print(f\"The result of {num1} - {num2} is: {result}\")\n",
    "\n",
    "elif choice == '3':\n",
    "    result = num1 * num2\n",
    "    print(f\"The result of {num1} * {num2} is: {result}\")\n",
    "\n",
    "elif choice == '4':\n",
    "    if num2 != 0:\n",
    "        result = num1 / num2\n",
    "        print(f\"The result of {num1} / {num2} is: {result}\")\n",
    "    else:\n",
    "        print(\"Error! Division by zero is not allowed.\")\n",
    "\n",
    "else:\n",
    "    print(\"Invalid input. Please enter a valid operation (1/2/3/4).\")\n"
   ]
  },
  {
   "cell_type": "markdown",
   "metadata": {},
   "source": [
    "#### Pb :- 61\n",
    "##### Write a python program to convert Days into Years, Months and Days. (Ex: if input of Days = 370 then output will be, years=1, months=0 and days = 5)."
   ]
  },
  {
   "cell_type": "code",
   "execution_count": 8,
   "metadata": {},
   "outputs": [
    {
     "name": "stdout",
     "output_type": "stream",
     "text": [
      "380 days is equal to 1 year(s), 0 month(s), and 15 day(s).\n"
     ]
    }
   ],
   "source": [
    "# Input number of days from the user\n",
    "days = int(input(\"Enter the number of days: \"))\n",
    "\n",
    "# Calculate years, months, and remaining days\n",
    "years = days // 365\n",
    "remaining_days = days % 365\n",
    "months = remaining_days // 30\n",
    "days_left = remaining_days % 30\n",
    "\n",
    "# Output the result\n",
    "print(f\"{days} days is equal to {years} year(s), {months} month(s), and {days_left} day(s).\")\n"
   ]
  },
  {
   "cell_type": "markdown",
   "metadata": {},
   "source": [
    "#### Pb :- 62\n",
    "##### Write a Python program to convert hours into minutes and seconds (Ex : input of hours = 6 then output will be, minutes = 360 and seconds = 21600 )."
   ]
  },
  {
   "cell_type": "code",
   "execution_count": 11,
   "metadata": {},
   "outputs": [
    {
     "name": "stdout",
     "output_type": "stream",
     "text": [
      "1 hour(s) is equal to 60 minute(s) and 3600 second(s).\n"
     ]
    }
   ],
   "source": [
    "# Input number of hours from the user\n",
    "hours = int(input(\"Enter the number of hours: \"))\n",
    "\n",
    "# Convert hours to minutes and seconds\n",
    "minutes = hours * 60\n",
    "seconds = hours * 60 * 60\n",
    "\n",
    "# Output the result\n",
    "print(f\"{hours} hour(s) is equal to {minutes} minute(s) and {seconds} second(s).\")\n"
   ]
  },
  {
   "cell_type": "markdown",
   "metadata": {},
   "source": [
    "#### Pb :- 63\n",
    "##### Write a Python program to find an integer exponent x such that a^x = n. Input: a = 2 : n = 1024 Output: 10\n"
   ]
  },
  {
   "cell_type": "code",
   "execution_count": 13,
   "metadata": {},
   "outputs": [
    {
     "name": "stdout",
     "output_type": "stream",
     "text": [
      "The exponent x such that 4^3 = 64 is: 3\n"
     ]
    }
   ],
   "source": [
    "# Input values for a and n\n",
    "a = int(input(\"Enter the base (a): \"))\n",
    "n = int(input(\"Enter the number (n): \"))\n",
    "\n",
    "# Initialize exponent\n",
    "x = 0\n",
    "\n",
    "# Calculate powers of a until it equals n or exceeds it\n",
    "while True:\n",
    "    power = a ** x\n",
    "    if power == n:\n",
    "        print(f\"The exponent x such that {a}^{x} = {n} is: {x}\")\n",
    "        break\n",
    "    elif power > n:\n",
    "        print(f\"No integer exponent x found such that {a}^x = {n}.\")\n",
    "        break\n",
    "    x += 1\n"
   ]
  }
 ],
 "metadata": {
  "kernelspec": {
   "display_name": "Python 3",
   "language": "python",
   "name": "python3"
  },
  "language_info": {
   "codemirror_mode": {
    "name": "ipython",
    "version": 3
   },
   "file_extension": ".py",
   "mimetype": "text/x-python",
   "name": "python",
   "nbconvert_exporter": "python",
   "pygments_lexer": "ipython3",
   "version": "3.12.4"
  }
 },
 "nbformat": 4,
 "nbformat_minor": 2
}

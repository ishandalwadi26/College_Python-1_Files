{
 "cells": [
  {
   "cell_type": "markdown",
   "metadata": {},
   "source": [
    "#### PB :- 222\n",
    "##### Create a pair of functions to convert Fahrenheit to Celsius temperature values and vice versa. Where C = (F - 32) * (5 / 9)."
   ]
  },
  {
   "cell_type": "code",
   "execution_count": 1,
   "metadata": {},
   "outputs": [
    {
     "name": "stdout",
     "output_type": "stream",
     "text": [
      "Choose the conversion type:\n",
      "1. Fahrenheit to Celsius\n",
      "2. Celsius to Fahrenheit\n",
      "40.0° Fahrenheit is equal to 4.44° Celsius.\n"
     ]
    }
   ],
   "source": [
    "# Function to convert Fahrenheit to Celsius\n",
    "def fahrenheit_to_celsius(f):\n",
    "    return (5/9) * (f - 32)\n",
    "\n",
    "# Function to convert Celsius to Fahrenheit\n",
    "def celsius_to_fahrenheit(c):\n",
    "    return (9/5) * (c + 32)\n",
    "\n",
    "\n",
    "# Ask user for the conversion type\n",
    "print(\"Choose the conversion type:\")\n",
    "print(\"1. Fahrenheit to Celsius\")\n",
    "print(\"2. Celsius to Fahrenheit\")\n",
    "\n",
    "choice = int(input(\"Enter 1 or 2: \"))\n",
    "\n",
    "# Based on the choice, perform the conversion\n",
    "if choice == 1:\n",
    "    # Convert Fahrenheit to Celsius\n",
    "    fahrenheit = float(input(\"Enter temperature in Fahrenheit: \"))\n",
    "    celsius = fahrenheit_to_celsius(fahrenheit)\n",
    "    print(f\"{fahrenheit}° Fahrenheit is equal to {celsius:.2f}° Celsius.\")\n",
    "    \n",
    "elif choice == 2:\n",
    "    # Convert Celsius to Fahrenheit\n",
    "    celsius = float(input(\"Enter temperature in Celsius: \"))\n",
    "    fahrenheit = celsius_to_fahrenheit(celsius)\n",
    "    print(f\"{celsius}° Celsius is equal to {fahrenheit:.2f}° Fahrenheit.\")\n",
    "    \n",
    "else:\n",
    "    print(\"Invalid choice. Please enter 1 or 2.\")\n"
   ]
  },
  {
   "cell_type": "markdown",
   "metadata": {},
   "source": [
    "#### PB :- 223\n",
    "##### Write a Python function to calculate the factorial of a given number."
   ]
  },
  {
   "cell_type": "markdown",
   "metadata": {},
   "source": [
    "#### 1. Itrative Approch"
   ]
  },
  {
   "cell_type": "code",
   "execution_count": 2,
   "metadata": {},
   "outputs": [
    {
     "name": "stdout",
     "output_type": "stream",
     "text": [
      "Factorial of 3 (Iterative) is: 6\n"
     ]
    }
   ],
   "source": [
    "def factorial_iterative(n):\n",
    "    fact = 1\n",
    "    for i in range(2, n + 1):\n",
    "        fact *= i\n",
    "    return fact\n",
    "\n",
    "# Example usage:\n",
    "number = int(input(\"Enter a number: \"))\n",
    "print(f\"Factorial of {number} (Iterative) is: {factorial_iterative(number)}\")\n"
   ]
  },
  {
   "cell_type": "markdown",
   "metadata": {},
   "source": [
    "#### 2. Recursive Approch"
   ]
  },
  {
   "cell_type": "code",
   "execution_count": 2,
   "metadata": {},
   "outputs": [
    {
     "name": "stdout",
     "output_type": "stream",
     "text": [
      "Factorial of 28 (Recursive) is: 304888344611713860501504000000\n"
     ]
    }
   ],
   "source": [
    "def factorial_recursive(n):\n",
    "    if n == 0 or n == 1:\n",
    "        return 1\n",
    "    else:\n",
    "        return n * factorial_recursive(n - 1)\n",
    "\n",
    "# Example usage:\n",
    "number = int(input(\"Enter a number: \"))\n",
    "print(f\"Factorial of {number} (Recursive) is: {factorial_recursive(number)}\")\n",
    "\n"
   ]
  },
  {
   "cell_type": "markdown",
   "metadata": {},
   "source": [
    "#### PB :- 224\n",
    "##### Write a Python function to check whether a number is in a given range."
   ]
  },
  {
   "cell_type": "code",
   "execution_count": 11,
   "metadata": {},
   "outputs": [
    {
     "name": "stdout",
     "output_type": "stream",
     "text": [
      "3 is in the range between 1 and 6.\n"
     ]
    }
   ],
   "source": [
    "def is_in_range(number, start, end):\n",
    "    if start <= number <= end:\n",
    "        return True\n",
    "    else:\n",
    "        return False\n",
    "\n",
    "# Example usage:\n",
    "number = int(input(\"Enter a number: \"))\n",
    "start_range = int(input(\"Enter the start of the range: \"))\n",
    "end_range = int(input(\"Enter the end of the range: \"))\n",
    "\n",
    "if is_in_range(number, start_range, end_range):\n",
    "    print(f\"{number} is in the range between {start_range} and {end_range}.\")\n",
    "else:\n",
    "    print(f\"{number} is NOT in the range between {start_range} and {end_range}.\")\n"
   ]
  },
  {
   "cell_type": "markdown",
   "metadata": {},
   "source": [
    "#### PB :- 225\n",
    "#### Write a Python function to display the Fibonacci sequence till the given user input n."
   ]
  },
  {
   "cell_type": "code",
   "execution_count": 6,
   "metadata": {},
   "outputs": [
    {
     "name": "stdout",
     "output_type": "stream",
     "text": [
      "The first 5 terms of the Fibonacci sequence are:\n",
      "0 1 1 2 3 "
     ]
    }
   ],
   "source": [
    "def fibonacci(n):\n",
    "    a, b = 0, 1\n",
    "    for _ in range(n):\n",
    "        print(a, end=\" \")\n",
    "        a, b = b, a + b  # Update a and b for the next iteration\n",
    "\n",
    "# Example usage:\n",
    "n = int(input(\"Enter the number of terms in the Fibonacci sequence: \"))\n",
    "\n",
    "if n <= 0:\n",
    "    print(\"Please enter a positive integer.\")\n",
    "else:\n",
    "    print(f\"The first {n} terms of the Fibonacci sequence are:\")\n",
    "    fibonacci(n)\n"
   ]
  },
  {
   "cell_type": "markdown",
   "metadata": {},
   "source": [
    "#### PB :- 226\n",
    "##### Write a Python function to find the Max of TWO numbers."
   ]
  },
  {
   "cell_type": "code",
   "execution_count": 17,
   "metadata": {},
   "outputs": [
    {
     "name": "stdout",
     "output_type": "stream",
     "text": [
      "The maximum of 4.0 and 10.0 is: 10.0\n"
     ]
    }
   ],
   "source": [
    "def find_max(a, b):\n",
    "    if a > b:\n",
    "        return a\n",
    "    else:\n",
    "        return b\n",
    "\n",
    "# Example usage:\n",
    "num1 = float(input(\"Enter the first number: \"))\n",
    "num2 = float(input(\"Enter the second number: \"))\n",
    "\n",
    "maximum = find_max(num1, num2)\n",
    "print(f\"The maximum of {num1} and {num2} is: {maximum}\")\n"
   ]
  },
  {
   "cell_type": "markdown",
   "metadata": {},
   "source": [
    "#### PB :- 227\n",
    "##### Write a Python program to accept two numbers and check it for odd or even number "
   ]
  },
  {
   "cell_type": "code",
   "execution_count": 18,
   "metadata": {},
   "outputs": [
    {
     "name": "stdout",
     "output_type": "stream",
     "text": [
      "The first number 20 is Even.\n",
      "The second number 19 is Odd.\n"
     ]
    }
   ],
   "source": [
    "# Function to check if a number is odd or even\n",
    "def check_odd_even(num):\n",
    "    if num % 2 == 0:\n",
    "        return \"Even\"\n",
    "    else:\n",
    "        return \"Odd\"\n",
    "\n",
    "# Accept two numbers from the user\n",
    "num1 = int(input(\"Enter the first number: \"))\n",
    "num2 = int(input(\"Enter the second number: \"))\n",
    "\n",
    "# Check if the numbers are odd or even\n",
    "result1 = check_odd_even(num1)\n",
    "result2 = check_odd_even(num2)\n",
    "\n",
    "# Print the results\n",
    "print(f\"The first number {num1} is {result1}.\")\n",
    "print(f\"The second number {num2} is {result2}.\")\n"
   ]
  },
  {
   "cell_type": "markdown",
   "metadata": {},
   "source": [
    "#### PB :- 228\n",
    "##### Write a Python program to check whether the given no is Armstrong or not using user defined function. "
   ]
  },
  {
   "cell_type": "code",
   "execution_count": 20,
   "metadata": {},
   "outputs": [
    {
     "name": "stdout",
     "output_type": "stream",
     "text": [
      "153 is an Armstrong number.\n"
     ]
    }
   ],
   "source": [
    "n=int(input(\"enter no.: \"))\n",
    "temp=n\n",
    "count=0\n",
    "while n != 0:\n",
    "    n //=10\n",
    "    count+=1\n",
    "n=temp\n",
    "sum=0\n",
    "while n !=0:\n",
    "    r=n%10\n",
    "    sum += r**count\n",
    "    n //=10\n",
    "if sum==temp:\n",
    "    print(\"Armstrong Number\")\n",
    "else:\n",
    "    print(\"Not Armstrong Number\")"
   ]
  },
  {
   "cell_type": "markdown",
   "metadata": {},
   "source": [
    "#### PB :- 231\n",
    "##### Write a Python program to demonstrate the function of finding sum and average of first n natural numbers."
   ]
  },
  {
   "cell_type": "code",
   "execution_count": 1,
   "metadata": {},
   "outputs": [
    {
     "name": "stdout",
     "output_type": "stream",
     "text": [
      "The sum of the first 8 natural numbers is: 36\n",
      "The average of the first 8 natural numbers is: 4.5\n"
     ]
    }
   ],
   "source": [
    "def sum_and_average(n):\n",
    "    total_sum = 0  \n",
    "    count = 0\n",
    "    for i in range(1, n + 1):  \n",
    "        total_sum += i  \n",
    "        count += 1\n",
    "    \n",
    "    average = total_sum / count if count > 0 else 0  # To avoid division by zero\n",
    "    return total_sum, average\n",
    "\n",
    "n = int(input(\"Enter a positive integer n: \"))\n",
    "\n",
    "total_sum, average = sum_and_average(n)\n",
    "\n",
    "print(f\"The sum of the first {n} natural numbers is: {total_sum}\")\n",
    "print(f\"The average of the first {n} natural numbers is: {average}\")\n"
   ]
  },
  {
   "cell_type": "markdown",
   "metadata": {},
   "source": [
    "#### PB :- 233\n",
    "##### Write a Python program to find reverse of given number using user defined function. "
   ]
  },
  {
   "cell_type": "code",
   "execution_count": 3,
   "metadata": {},
   "outputs": [
    {
     "name": "stdout",
     "output_type": "stream",
     "text": [
      "The reverse of 123 is: 321\n"
     ]
    }
   ],
   "source": [
    "def reverse_number(num):\n",
    "    reversed_num = 0\n",
    "    while num > 0:\n",
    "        digit = num % 10\n",
    "        reversed_num = (reversed_num * 10) + digit\n",
    "        num //= 10\n",
    "    return reversed_num\n",
    "\n",
    "number = int(input(\"Enter a number: \"))\n",
    "reversed_number = reverse_number(number)\n",
    "print(f\"The reverse of {number} is: {reversed_number}\")\n"
   ]
  },
  {
   "cell_type": "markdown",
   "metadata": {},
   "source": [
    "#### PB :- 234\n",
    "##### Write your own python program for computing square roots that implements Newton’s Method. Use of inbuilt function, math library or x**0.5 is not allowed.Newton Method is a category of guess-and-check approach. You first guess what the square root might be and then see how close your guess is. You can use this information to make another guess and continue guessing until you have found the square root (or a close approximation to it). Suppose x is the number we want the root of and guess is the current guessed answer. The guess can be improved by using (guess+ x/guess)/2 as the next guess.The program should - 1.\tPrompt the user for the value to find the square root of (x) and the number of times to improve the guess. 2.\tStarting with a guess value of x/2, your program should loop the specified number of times applying Newton’s method and report the final value of guess. "
   ]
  },
  {
   "cell_type": "code",
   "execution_count": 4,
   "metadata": {},
   "outputs": [
    {
     "name": "stdout",
     "output_type": "stream",
     "text": [
      "The approximate square root of 16.0 is: 4.1\n"
     ]
    }
   ],
   "source": [
    "def newton_sqrt(x, iterations):\n",
    "    guess = x / 2  # Initial guess\n",
    "    for _ in range(iterations):\n",
    "        guess = (guess + x / guess) / 2  \n",
    "    return guess\n",
    "\n",
    "x = float(input(\"Enter the value to find the square root of: \"))\n",
    "iterations = int(input(\"Enter the number of iterations for improvement: \"))\n",
    "\n",
    "sqrt_value = newton_sqrt(x, iterations)\n",
    "\n",
    "print(f\"The approximate square root of {x} is: {sqrt_value}\")\n"
   ]
  }
 ],
 "metadata": {
  "kernelspec": {
   "display_name": "Python 3",
   "language": "python",
   "name": "python3"
  },
  "language_info": {
   "codemirror_mode": {
    "name": "ipython",
    "version": 3
   },
   "file_extension": ".py",
   "mimetype": "text/x-python",
   "name": "python",
   "nbconvert_exporter": "python",
   "pygments_lexer": "ipython3",
   "version": "3.12.4"
  }
 },
 "nbformat": 4,
 "nbformat_minor": 2
}

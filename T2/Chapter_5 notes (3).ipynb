{
 "cells": [
  {
   "cell_type": "code",
   "execution_count": 5,
   "metadata": {},
   "outputs": [
    {
     "name": "stdout",
     "output_type": "stream",
     "text": [
      "[0, 5, 10, 15]\n",
      "['I', 's', 'h', 'a', 'n', 'n', 'i']\n"
     ]
    }
   ],
   "source": [
    "l = list(range(0,20,5))\n",
    "x = list(\"Ishanni\")\n",
    "print(l)\n",
    "print(x)"
   ]
  },
  {
   "cell_type": "code",
   "execution_count": 9,
   "metadata": {},
   "outputs": [
    {
     "name": "stdout",
     "output_type": "stream",
     "text": [
      "Enter data :[3,5,7,8,9,7]\n",
      "[3, 5, 7, 8, 9, 7]\n",
      "<class 'list'>\n"
     ]
    }
   ],
   "source": [
    "l = eval(input(\"Enter data :\"))\n",
    "print(l)\n",
    "print(type(l))"
   ]
  },
  {
   "cell_type": "markdown",
   "metadata": {},
   "source": [
    "##### List is mutable !!"
   ]
  },
  {
   "cell_type": "code",
   "execution_count": 10,
   "metadata": {},
   "outputs": [
    {
     "name": "stdout",
     "output_type": "stream",
     "text": [
      "[1, 2, 3, 4, 66, 6, 7, 8, 9, 10]\n"
     ]
    }
   ],
   "source": [
    "x = [1,2,3,4,5,6,7,8,9,10]\n",
    "x[4] = 66\n",
    "print(x)"
   ]
  },
  {
   "cell_type": "markdown",
   "metadata": {},
   "source": [
    "### Accesing element by List\n",
    "#### 1. By index \n",
    "#### 2. By slicing"
   ]
  },
  {
   "cell_type": "code",
   "execution_count": 11,
   "metadata": {},
   "outputs": [
    {
     "name": "stdout",
     "output_type": "stream",
     "text": [
      "3\n",
      "5\n",
      "[4, 5, 6, 7]\n",
      "[2, 3, 4]\n",
      "[7, 6, 5, 4, 3]\n"
     ]
    }
   ],
   "source": [
    "l = [1,2,3,4,5,6,7]\n",
    "print(l[2])\n",
    "print(l[-3])\n",
    "print(l[3:10])\n",
    "print(l[1:4])\n",
    "print(l[-1:-6:-1])"
   ]
  },
  {
   "cell_type": "markdown",
   "metadata": {},
   "source": [
    "### 1. len()"
   ]
  },
  {
   "cell_type": "code",
   "execution_count": 12,
   "metadata": {},
   "outputs": [
    {
     "name": "stdout",
     "output_type": "stream",
     "text": [
      "5\n"
     ]
    }
   ],
   "source": [
    "n = [1,2,3,4,5]\n",
    "print(len(n))"
   ]
  },
  {
   "cell_type": "markdown",
   "metadata": {},
   "source": [
    "### 2. count()"
   ]
  },
  {
   "cell_type": "code",
   "execution_count": 13,
   "metadata": {},
   "outputs": [
    {
     "name": "stdout",
     "output_type": "stream",
     "text": [
      "4\n",
      "1\n"
     ]
    }
   ],
   "source": [
    "n = [1,2,3,4,5,6,2,2,2]\n",
    "print(n.count(2))\n",
    "print(n.count(1))"
   ]
  },
  {
   "cell_type": "markdown",
   "metadata": {},
   "source": [
    "### 3. index()"
   ]
  },
  {
   "cell_type": "code",
   "execution_count": 15,
   "metadata": {},
   "outputs": [
    {
     "name": "stdout",
     "output_type": "stream",
     "text": [
      "1\n",
      "3\n"
     ]
    }
   ],
   "source": [
    "n = [1,2,2,3,3,3]\n",
    "print(n.index(2))\n",
    "print(n.index(3))"
   ]
  },
  {
   "cell_type": "markdown",
   "metadata": {},
   "source": [
    "### 4. append()"
   ]
  },
  {
   "cell_type": "code",
   "execution_count": 17,
   "metadata": {},
   "outputs": [
    {
     "name": "stdout",
     "output_type": "stream",
     "text": [
      "['M', 'n', 'A', 'B']\n"
     ]
    }
   ],
   "source": [
    "l = [\"M\",\"n\"]\n",
    "l.append(\"A\")\n",
    "l.append(\"B\")\n",
    "print(l)"
   ]
  },
  {
   "cell_type": "markdown",
   "metadata": {},
   "source": [
    "### 5. insert()"
   ]
  },
  {
   "cell_type": "code",
   "execution_count": 2,
   "metadata": {},
   "outputs": [
    {
     "name": "stdout",
     "output_type": "stream",
     "text": [
      "[1, 24, 2, 3, 5, 6, 21]\n",
      "[1, 24, 2, 3, 5, 6, 30, 21]\n"
     ]
    }
   ],
   "source": [
    "l = [1,2,3,5,6]\n",
    "l.insert(1,24)\n",
    "#first is index and second one is adding element.\n",
    "\n",
    "l.insert(100,21)\n",
    "#If we enter index which is out of length then it will not give an error rather then its add to at last position,\n",
    "print(l)\n",
    "\n",
    "l.insert(-1,30)\n",
    "print(l)"
   ]
  },
  {
   "cell_type": "markdown",
   "metadata": {},
   "source": [
    "### 6. extend()"
   ]
  },
  {
   "cell_type": "code",
   "execution_count": 5,
   "metadata": {},
   "outputs": [
    {
     "name": "stdout",
     "output_type": "stream",
     "text": [
      "['apple', 'banana', 'is my', 'Fav']\n",
      "['is my', 'Fav', 'apple', 'banana', 'is my', 'Fav']\n"
     ]
    }
   ],
   "source": [
    "l1 = [\"apple\",\"banana\"]\n",
    "l2 = [\"is my\",\"Fav\"]\n",
    "l1.extend(l2)\n",
    "l2.extend(l1)\n",
    "print(l1)\n",
    "print(l2)"
   ]
  },
  {
   "cell_type": "markdown",
   "metadata": {},
   "source": [
    "### 7. remove()"
   ]
  },
  {
   "cell_type": "code",
   "execution_count": 9,
   "metadata": {},
   "outputs": [
    {
     "name": "stdout",
     "output_type": "stream",
     "text": [
      "[2, 1, 3, 1]\n",
      "[2, 3, 1]\n"
     ]
    },
    {
     "ename": "ValueError",
     "evalue": "list.remove(x): x not in list",
     "output_type": "error",
     "traceback": [
      "\u001b[1;31m---------------------------------------------------------------------------\u001b[0m",
      "\u001b[1;31mValueError\u001b[0m                                Traceback (most recent call last)",
      "\u001b[1;32m<ipython-input-9-04dee59a33f8>\u001b[0m in \u001b[0;36m<module>\u001b[1;34m\u001b[0m\n\u001b[0;32m      4\u001b[0m \u001b[0mn\u001b[0m\u001b[1;33m.\u001b[0m\u001b[0mremove\u001b[0m\u001b[1;33m(\u001b[0m\u001b[1;36m1\u001b[0m\u001b[1;33m)\u001b[0m\u001b[1;33m\u001b[0m\u001b[1;33m\u001b[0m\u001b[0m\n\u001b[0;32m      5\u001b[0m \u001b[0mprint\u001b[0m\u001b[1;33m(\u001b[0m\u001b[0mn\u001b[0m\u001b[1;33m)\u001b[0m\u001b[1;33m\u001b[0m\u001b[1;33m\u001b[0m\u001b[0m\n\u001b[1;32m----> 6\u001b[1;33m \u001b[0mn\u001b[0m\u001b[1;33m.\u001b[0m\u001b[0mremove\u001b[0m\u001b[1;33m(\u001b[0m\u001b[1;36m5\u001b[0m\u001b[1;33m)\u001b[0m\u001b[1;33m\u001b[0m\u001b[1;33m\u001b[0m\u001b[0m\n\u001b[0m\u001b[0;32m      7\u001b[0m \u001b[0mprint\u001b[0m\u001b[1;33m(\u001b[0m\u001b[0mn\u001b[0m\u001b[1;33m)\u001b[0m\u001b[1;33m\u001b[0m\u001b[1;33m\u001b[0m\u001b[0m\n",
      "\u001b[1;31mValueError\u001b[0m: list.remove(x): x not in list"
     ]
    }
   ],
   "source": [
    "n = [1,2,1,3,1]\n",
    "n.remove(1)\n",
    "print(n)\n",
    "n.remove(1)\n",
    "print(n)\n",
    "n.remove(5)\n",
    "print(n)"
   ]
  },
  {
   "cell_type": "markdown",
   "metadata": {},
   "source": [
    "### 8. pop()"
   ]
  },
  {
   "cell_type": "code",
   "execution_count": 15,
   "metadata": {},
   "outputs": [
    {
     "name": "stdout",
     "output_type": "stream",
     "text": [
      "40\n",
      "20\n",
      "[]\n"
     ]
    },
    {
     "ename": "IndexError",
     "evalue": "pop from empty list",
     "output_type": "error",
     "traceback": [
      "\u001b[1;31m---------------------------------------------------------------------------\u001b[0m",
      "\u001b[1;31mIndexError\u001b[0m                                Traceback (most recent call last)",
      "\u001b[1;32m<ipython-input-15-58664ae9de22>\u001b[0m in \u001b[0;36m<module>\u001b[1;34m\u001b[0m\n\u001b[0;32m      5\u001b[0m \u001b[0mn\u001b[0m\u001b[1;33m.\u001b[0m\u001b[0mpop\u001b[0m\u001b[1;33m(\u001b[0m\u001b[1;33m)\u001b[0m\u001b[1;33m\u001b[0m\u001b[1;33m\u001b[0m\u001b[0m\n\u001b[0;32m      6\u001b[0m \u001b[0mprint\u001b[0m\u001b[1;33m(\u001b[0m\u001b[0mn\u001b[0m\u001b[1;33m)\u001b[0m\u001b[1;33m\u001b[0m\u001b[1;33m\u001b[0m\u001b[0m\n\u001b[1;32m----> 7\u001b[1;33m \u001b[0mprint\u001b[0m\u001b[1;33m(\u001b[0m\u001b[0mn\u001b[0m\u001b[1;33m.\u001b[0m\u001b[0mpop\u001b[0m\u001b[1;33m(\u001b[0m\u001b[1;33m)\u001b[0m\u001b[1;33m)\u001b[0m\u001b[1;33m\u001b[0m\u001b[1;33m\u001b[0m\u001b[0m\n\u001b[0m",
      "\u001b[1;31mIndexError\u001b[0m: pop from empty list"
     ]
    }
   ],
   "source": [
    "n = [10,20,30,40]\n",
    "print(n.pop())\n",
    "n.pop()\n",
    "print(n.pop())\n",
    "n.pop()\n",
    "print(n)\n",
    "print(n.pop())"
   ]
  },
  {
   "cell_type": "markdown",
   "metadata": {},
   "source": [
    "### 9. clear()"
   ]
  },
  {
   "cell_type": "code",
   "execution_count": 17,
   "metadata": {},
   "outputs": [
    {
     "name": "stdout",
     "output_type": "stream",
     "text": [
      "[]\n"
     ]
    }
   ],
   "source": [
    "n = [1,2,3,4,5]\n",
    "n.clear()\n",
    "print(n)"
   ]
  },
  {
   "cell_type": "markdown",
   "metadata": {},
   "source": [
    "### 10. reverse()"
   ]
  },
  {
   "cell_type": "code",
   "execution_count": 18,
   "metadata": {},
   "outputs": [
    {
     "name": "stdout",
     "output_type": "stream",
     "text": [
      "[5, 4, 3, 2, 1]\n"
     ]
    }
   ],
   "source": [
    "n = [1,2,3,4,5]\n",
    "n.reverse()\n",
    "print(n)"
   ]
  },
  {
   "cell_type": "markdown",
   "metadata": {},
   "source": [
    "### 11. sort()"
   ]
  },
  {
   "cell_type": "code",
   "execution_count": 22,
   "metadata": {},
   "outputs": [
    {
     "name": "stdout",
     "output_type": "stream",
     "text": [
      "[2, 3, 4, 5, 6, 7]\n",
      "[7, 6, 5, 4, 3, 2]\n"
     ]
    }
   ],
   "source": [
    "n = [2,3,4,5,7,6]\n",
    "n.sort()\n",
    "print(n)\n",
    "n.sort(reverse=True)\n",
    "print(n)"
   ]
  },
  {
   "cell_type": "markdown",
   "metadata": {},
   "source": [
    "### Comparison Oprators for List.."
   ]
  },
  {
   "cell_type": "code",
   "execution_count": 1,
   "metadata": {},
   "outputs": [
    {
     "name": "stdout",
     "output_type": "stream",
     "text": [
      "True\n",
      "False\n",
      "True\n"
     ]
    }
   ],
   "source": [
    "x = [\"Dog\",\"Cat\",\"Rat\"]\n",
    "y = [\"Dog\",\"Cat\",\"Rat\"]\n",
    "z = [\"DOG\",\"CAT\",\"RAT\"]\n",
    "print(x==y)\n",
    "print(x==z)\n",
    "print(x!=z)"
   ]
  },
  {
   "cell_type": "code",
   "execution_count": 3,
   "metadata": {},
   "outputs": [
    {
     "name": "stdout",
     "output_type": "stream",
     "text": [
      "True\n",
      "True\n",
      "False\n",
      "False\n"
     ]
    }
   ],
   "source": [
    "x = [\"Dog\",\"Cat\",\"Rat\"]\n",
    "y = [\"Cat\",\"Rat\",\"Dog\"]\n",
    "print(x>y)\n",
    "print(x>=z)\n",
    "print(x<y)\n",
    "print(x<=y)"
   ]
  },
  {
   "cell_type": "code",
   "execution_count": 6,
   "metadata": {},
   "outputs": [
    {
     "name": "stdout",
     "output_type": "stream",
     "text": [
      "False\n",
      "False\n",
      "True\n",
      "True\n"
     ]
    }
   ],
   "source": [
    "x = [50,20,30]\n",
    "y = [50,60,100,200]\n",
    "print(x>y)\n",
    "print(x>=y)\n",
    "print(x<y)\n",
    "print(x<=y)"
   ]
  },
  {
   "cell_type": "markdown",
   "metadata": {},
   "source": [
    "### Membership Porators for List \n",
    "### 1. in\n",
    "### 2. Out"
   ]
  },
  {
   "cell_type": "code",
   "execution_count": 9,
   "metadata": {},
   "outputs": [
    {
     "name": "stdout",
     "output_type": "stream",
     "text": [
      "True\n",
      "True\n",
      "False\n",
      "False\n",
      "True\n"
     ]
    }
   ],
   "source": [
    "n = [10,20,30,40]\n",
    "print(10 in n)\n",
    "print(40 in n)\n",
    "print(50 in n)\n",
    "print(10 not in n)\n",
    "print(50 not in n)"
   ]
  },
  {
   "cell_type": "markdown",
   "metadata": {},
   "source": [
    "### Aliasing and Cloning Of List "
   ]
  },
  {
   "cell_type": "code",
   "execution_count": 13,
   "metadata": {
    "scrolled": true
   },
   "outputs": [
    {
     "name": "stdout",
     "output_type": "stream",
     "text": [
      "[1, 2, 3, 4, 5]\n",
      "[1, 2, 100, 4, 5]\n",
      "[1, 2, 100, 4, 5]\n"
     ]
    }
   ],
   "source": [
    "n = [1,2,3,4,5]\n",
    "x = n             # n[:] or n.copy() :- to get original n after changing in x.\n",
    "print(x)\n",
    "x[2] = 100\n",
    "print(x)\n",
    "print(n)"
   ]
  },
  {
   "cell_type": "markdown",
   "metadata": {},
   "source": [
    "### Nested List"
   ]
  },
  {
   "cell_type": "code",
   "execution_count": 14,
   "metadata": {},
   "outputs": [
    {
     "name": "stdout",
     "output_type": "stream",
     "text": [
      "20\n",
      "[1, 2, 3, 6]\n",
      "1\n"
     ]
    }
   ],
   "source": [
    "n = [10,20,[20,40,50],[1,2,3,6]]\n",
    "print(n[1])\n",
    "print(n[3])\n",
    "print(n[3][0]) #here two daimention to get nested list element."
   ]
  },
  {
   "cell_type": "markdown",
   "metadata": {},
   "source": [
    "### Nested List as matrix"
   ]
  },
  {
   "cell_type": "code",
   "execution_count": 22,
   "metadata": {},
   "outputs": [
    {
     "name": "stdout",
     "output_type": "stream",
     "text": [
      "[1, 2, 3]\n",
      "[20, 40, 50]\n",
      "[1, 2, 3]\n",
      "\n",
      "for Matrix --->\n",
      "\n",
      "1 2 3 \n",
      "20 40 50 \n",
      "1 2 3 \n"
     ]
    }
   ],
   "source": [
    "n = [[1,2,3],[20,40,50],[1,2,3]]\n",
    "for i in n:\n",
    "    print(i)\n",
    "print()\n",
    "print(\"for Matrix --->\")\n",
    "print()\n",
    "for i in range(len(n)):\n",
    "    for j in range(len(n[i])):\n",
    "        print(n[i][j],end=\" \")\n",
    "    print()"
   ]
  },
  {
   "cell_type": "markdown",
   "metadata": {},
   "source": [
    "### List Comprehenson"
   ]
  },
  {
   "cell_type": "code",
   "execution_count": 27,
   "metadata": {},
   "outputs": [
    {
     "name": "stdout",
     "output_type": "stream",
     "text": [
      "[1, 4, 9, 16, 25, 36, 49, 64, 81, 100]\n",
      "\n",
      "[2, 4, 8, 16, 32]\n",
      "\n",
      "[4, 16, 36, 64, 100]\n"
     ]
    }
   ],
   "source": [
    "# List = [expresion for i in list if condition]\n",
    "s = [x*x for x in range(1,11)]\n",
    "print(s)\n",
    "print()\n",
    "\n",
    "S = [2**x for x in range(1,6)]\n",
    "print(S)\n",
    "print()\n",
    "\n",
    "m = [x for x in s if x%2==0]\n",
    "print(m)"
   ]
  },
  {
   "cell_type": "markdown",
   "metadata": {},
   "source": [
    "### Ex:- 1 WAP to print largest even and largest odd number in the list."
   ]
  },
  {
   "cell_type": "code",
   "execution_count": 41,
   "metadata": {},
   "outputs": [
    {
     "name": "stdout",
     "output_type": "stream",
     "text": [
      "Enter a List :[1,3,5,7]\n",
      "Largest Even Number: -4\n",
      "Largest Odd Number: 7\n"
     ]
    }
   ],
   "source": [
    "numbers = eval(input(\"Enter a List :\"))\n",
    "llargest_even = None\n",
    "largest_odd = None\n",
    "\n",
    "for num in numbers:\n",
    "    if num % 2 == 0: \n",
    "        if largest_even is None or num > largest_even:\n",
    "            largest_even = num\n",
    "    else:\n",
    "        if largest_odd is None or num > largest_odd:\n",
    "            largest_odd = num\n",
    "\n",
    "if largest_even is not None:\n",
    "    print(\"Largest Even Number:\", largest_even)\n",
    "else:\n",
    "    print(\"No even number found.\")\n",
    "\n",
    "if largest_odd is not None:\n",
    "    print(\"Largest Odd Number:\", largest_odd)\n",
    "else:\n",
    "    print(\"No odd number found.\")"
   ]
  },
  {
   "cell_type": "markdown",
   "metadata": {},
   "source": [
    "### Dictionary --->"
   ]
  },
  {
   "cell_type": "markdown",
   "metadata": {},
   "source": [
    "     -represent a group of objcts at key-Value Pairs\n",
    "        rollno - name \n",
    "        phoneno - address\n",
    "     - Duplicate keys not allowed but value can be duplicates\n",
    "     - heterogenous Objects re allowed for both keys and Values\n",
    "     - Insertion Order not Preserved\n",
    "     - Mutable\n",
    "     - Indexing and Slicing Concepts are not applicable"
   ]
  },
  {
   "cell_type": "code",
   "execution_count": 5,
   "metadata": {},
   "outputs": [
    {
     "name": "stdout",
     "output_type": "stream",
     "text": [
      "{10: 'ishan', 30: 'Dalwadi'}\n",
      "ishan\n",
      "{10: 'ishan'}\n",
      "{}\n"
     ]
    },
    {
     "ename": "NameError",
     "evalue": "name 'd' is not defined",
     "output_type": "error",
     "traceback": [
      "\u001b[1;31m---------------------------------------------------------------------------\u001b[0m",
      "\u001b[1;31mNameError\u001b[0m                                 Traceback (most recent call last)",
      "\u001b[1;32m<ipython-input-5-144320764bcd>\u001b[0m in \u001b[0;36m<module>\u001b[1;34m\u001b[0m\n\u001b[0;32m     11\u001b[0m \u001b[1;33m\u001b[0m\u001b[0m\n\u001b[0;32m     12\u001b[0m \u001b[1;32mdel\u001b[0m \u001b[0md\u001b[0m\u001b[1;33m\u001b[0m\u001b[1;33m\u001b[0m\u001b[0m\n\u001b[1;32m---> 13\u001b[1;33m \u001b[0mprint\u001b[0m\u001b[1;33m(\u001b[0m\u001b[0md\u001b[0m\u001b[1;33m)\u001b[0m\u001b[1;33m\u001b[0m\u001b[1;33m\u001b[0m\u001b[0m\n\u001b[0m",
      "\u001b[1;31mNameError\u001b[0m: name 'd' is not defined"
     ]
    }
   ],
   "source": [
    "d = {}\n",
    "d[10] = \"ishan\"\n",
    "d[30] = \"Dalwadi\"\n",
    "print(d)\n",
    "print(d[10]) # To get value we need to enter key of that value which is we want to see.\n",
    "del d[30] # to delete particlular key and Value\n",
    "print(d)\n",
    "\n",
    "d.clear() # to clear all key-value pair in Dic\n",
    "print(d)\n",
    "\n",
    "del d\n",
    "print(d)"
   ]
  },
  {
   "cell_type": "markdown",
   "metadata": {},
   "source": [
    "### Dictionary Comprehension"
   ]
  },
  {
   "cell_type": "code",
   "execution_count": 6,
   "metadata": {},
   "outputs": [
    {
     "name": "stdout",
     "output_type": "stream",
     "text": [
      "{1: 1, 2: 4, 3: 9, 4: 16, 5: 25, 6: 36, 7: 49, 8: 64, 9: 81, 10: 100}\n"
     ]
    }
   ],
   "source": [
    "square = {x:x*x for x in range(1,11)}\n",
    "print(square)"
   ]
  },
  {
   "cell_type": "code",
   "execution_count": 9,
   "metadata": {},
   "outputs": [],
   "source": [
    "### Important Function of Dict-->\n",
    "###    -1. dict()\n",
    "###    -2. len()\n",
    "###    -3. clear()\n",
    "###    -4. copy()\n",
    "###    -5.update()"
   ]
  },
  {
   "cell_type": "markdown",
   "metadata": {},
   "source": [
    "### 1. dict()"
   ]
  },
  {
   "cell_type": "code",
   "execution_count": 7,
   "metadata": {},
   "outputs": [
    {
     "name": "stdout",
     "output_type": "stream",
     "text": [
      "{10: 'ishan', 20: 'Dalwadi'}\n"
     ]
    }
   ],
   "source": [
    "d = dict([(10,\"ishan\"),(20,\"Dalwadi\")]) # this is other way to crete dictionary\n",
    "print(d)"
   ]
  },
  {
   "cell_type": "markdown",
   "metadata": {},
   "source": [
    "### 5. update()"
   ]
  },
  {
   "cell_type": "code",
   "execution_count": 13,
   "metadata": {},
   "outputs": [
    {
     "name": "stdout",
     "output_type": "stream",
     "text": [
      "{10: 'D', 20: 'E', 30: 'I', 40: 'D', 50: 'E', 60: 'F'}\n"
     ]
    }
   ],
   "source": [
    "d = {10:'D',20:'E',30:'a'}\n",
    "x = {40:\"D\",50:\"E\",60:\"F\",30:\"I\"}\n",
    "d.update(x) # if there is a same key in two dict then update will update that duplicate value and add.\n",
    "print(d)"
   ]
  },
  {
   "cell_type": "markdown",
   "metadata": {},
   "source": [
    "### 6. get()"
   ]
  },
  {
   "cell_type": "code",
   "execution_count": 16,
   "metadata": {},
   "outputs": [
    {
     "name": "stdout",
     "output_type": "stream",
     "text": [
      "D\n",
      "D\n",
      "None\n",
      "D\n",
      "ishnnnnnn\n"
     ]
    }
   ],
   "source": [
    "d = {10:'D',20:'E',30:'a'}\n",
    "print(d[10])\n",
    "print(d.get(10))\n",
    "print(d.get(40))\n",
    "#print(d[40])\n",
    "\n",
    "print(d.get(10,\"ishan\"))\n",
    "print(d.get(40,\"ishnnnnnn\")) #If there is no key that dict then defualt value ishannn is ans rather then give an error."
   ]
  },
  {
   "cell_type": "markdown",
   "metadata": {},
   "source": [
    "### 7. popitem()"
   ]
  },
  {
   "cell_type": "code",
   "execution_count": 18,
   "metadata": {},
   "outputs": [
    {
     "name": "stdout",
     "output_type": "stream",
     "text": [
      "(30, 'a')\n",
      "{10: 'D', 20: 'E'}\n"
     ]
    },
    {
     "ename": "KeyError",
     "evalue": "'popitem(): dictionary is empty'",
     "output_type": "error",
     "traceback": [
      "\u001b[1;31m---------------------------------------------------------------------------\u001b[0m",
      "\u001b[1;31mKeyError\u001b[0m                                  Traceback (most recent call last)",
      "\u001b[1;32m<ipython-input-18-261ab3395d1c>\u001b[0m in \u001b[0;36m<module>\u001b[1;34m\u001b[0m\n\u001b[0;32m      4\u001b[0m \u001b[1;33m\u001b[0m\u001b[0m\n\u001b[0;32m      5\u001b[0m \u001b[0md\u001b[0m\u001b[1;33m=\u001b[0m\u001b[1;33m{\u001b[0m\u001b[1;33m}\u001b[0m\u001b[1;33m\u001b[0m\u001b[1;33m\u001b[0m\u001b[0m\n\u001b[1;32m----> 6\u001b[1;33m \u001b[0mprint\u001b[0m\u001b[1;33m(\u001b[0m\u001b[0md\u001b[0m\u001b[1;33m.\u001b[0m\u001b[0mpopitem\u001b[0m\u001b[1;33m(\u001b[0m\u001b[1;33m)\u001b[0m\u001b[1;33m)\u001b[0m\u001b[1;33m\u001b[0m\u001b[1;33m\u001b[0m\u001b[0m\n\u001b[0m",
      "\u001b[1;31mKeyError\u001b[0m: 'popitem(): dictionary is empty'"
     ]
    }
   ],
   "source": [
    "d = {10:'D',20:'E',30:'a'}\n",
    "print(d.popitem()) # it will be in Tuple in popitem\n",
    "print(d)\n",
    "\n",
    "d={}\n",
    "print(d.popitem())"
   ]
  },
  {
   "cell_type": "markdown",
   "metadata": {},
   "source": [
    "### 8. keys()\n",
    "### 9. values()"
   ]
  },
  {
   "cell_type": "code",
   "execution_count": 21,
   "metadata": {},
   "outputs": [
    {
     "name": "stdout",
     "output_type": "stream",
     "text": [
      "dict_keys([10, 20, 30])\n",
      "dict_values(['D', 'E', 'a'])\n",
      "dict_items([(10, 'D'), (20, 'E'), (30, 'a')])\n"
     ]
    }
   ],
   "source": [
    "d = {10:'D',20:'E',30:'a'}\n",
    "print(d.keys())\n",
    "print(d.values())\n",
    "print(d.items())"
   ]
  },
  {
   "cell_type": "markdown",
   "metadata": {},
   "source": [
    "   ### Set Default "
   ]
  },
  {
   "cell_type": "markdown",
   "metadata": {},
   "source": [
    "#### d.set.defualt(k.v)"
   ]
  },
  {
   "cell_type": "code",
   "execution_count": 4,
   "metadata": {},
   "outputs": [
    {
     "name": "stdout",
     "output_type": "stream",
     "text": [
      "ishan\n",
      "{10: 'D', 20: 'E', 30: 'a', 40: 'ishan'}\n",
      "D\n",
      "{10: 'D', 20: 'E', 30: 'a', 40: 'ishan'}\n"
     ]
    }
   ],
   "source": [
    "d = {10:'D',20:'E',30:'a'}\n",
    "print(d.setdefault(40,\"ishan\")) #if there in dict if key is not available then add into it.\n",
    "print(d)\n",
    "print(d.setdefault(10,\"ishan\")) #if there in dict if key is present then it will Show the value of that key.\n",
    "print(d)"
   ]
  },
  {
   "cell_type": "markdown",
   "metadata": {},
   "source": [
    "### Ex:- WAP that reads the word from paragraph and store their key and store them into dic an count of frequancy and store into value."
   ]
  },
  {
   "cell_type": "code",
   "execution_count": 16,
   "metadata": {},
   "outputs": [
    {
     "name": "stdout",
     "output_type": "stream",
     "text": [
      "Enter a Small Paragraph :iah usf h h\n",
      "{'iah': 1, 'usf': 1, 'h': 2}\n"
     ]
    }
   ],
   "source": [
    "st = input(\"Enter a Small Paragraph :\")\n",
    "st.split(\" \")\n",
    "\n",
    "words = st.lower().split()\n",
    "    \n",
    "word_count = {}\n",
    "    \n",
    "for word in words:\n",
    "    word = word.strip('.,!?()[]{}\":;')\n",
    "        \n",
    "    if word in word_count:\n",
    "        word_count[word] += 1\n",
    "    else:\n",
    "        word_count[word] = 1\n",
    "        \n",
    "print(word_count)\n"
   ]
  },
  {
   "cell_type": "markdown",
   "metadata": {},
   "source": [
    "### Ex:- WAP to create dictionary with the key at the first character and value as a list of words starting with that character."
   ]
  },
  {
   "cell_type": "code",
   "execution_count": 21,
   "metadata": {},
   "outputs": [
    {
     "name": "stdout",
     "output_type": "stream",
     "text": [
      "Enter a Small paragraph :ishn ihsi iud h\n",
      "{'i': ['ishn', 'ihsi', 'iud'], 'h': ['h']}\n"
     ]
    }
   ],
   "source": [
    "st = input(\"Enter a Small paragraph :\")\n",
    "final_dic={}\n",
    "words = st.lower().split()\n",
    "\n",
    "for word in words:\n",
    "    \n",
    "    word = word.strip('.,!?()[]{}\":;')\n",
    "    fist_char = word[0]\n",
    "    \n",
    "    if fist_char in final_dic:\n",
    "        final_dic[fist_char].append(word)\n",
    "    else:\n",
    "        final_dic[fist_char] = [word]\n",
    "        \n",
    "print(final_dic)\n",
    "        "
   ]
  },
  {
   "cell_type": "markdown",
   "metadata": {},
   "source": [
    "### Set --- >\n",
    "    - Represent a group of unique value as a single entity.\n",
    "    - Duplicate not allowed.\n",
    "    - Insertion order not preserve but we can sort element.\n",
    "    - Indexing and Slicing not allowed.\n",
    "    - Heterogenous objects are allowed. (Mutiple data type we can Apply)\n",
    "    - Matable\n",
    "    - Curly Braces with comma Saparator.\n",
    "    - Unordered.\n",
    "    - Mathemtical opration like union,intersection,difference etc..."
   ]
  },
  {
   "cell_type": "markdown",
   "metadata": {},
   "source": [
    "### Creation of set :-"
   ]
  },
  {
   "cell_type": "code",
   "execution_count": 26,
   "metadata": {},
   "outputs": [
    {
     "name": "stdout",
     "output_type": "stream",
     "text": [
      "{1, 2, 3, 4, 5, 6, 7, 8}\n",
      "<class 'set'>\n",
      "\n",
      "{0, 1, 2, 3, 4}\n",
      "\n",
      "{'L', 'E', 'J', 'I', 'T'}\n"
     ]
    }
   ],
   "source": [
    "s = set()\n",
    "l = [1,2,3,4,5,6,7,8,3,6]\n",
    "s = set(l)\n",
    "print(s)\n",
    "print(type(s))\n",
    "print()\n",
    "s = set(range(5))\n",
    "print(s)\n",
    "print()\n",
    "s = set(\"LJIET\")\n",
    "print(s)"
   ]
  },
  {
   "cell_type": "markdown",
   "metadata": {},
   "source": [
    "### Mathematical Oprators on the set"
   ]
  },
  {
   "cell_type": "code",
   "execution_count": 38,
   "metadata": {},
   "outputs": [
    {
     "name": "stdout",
     "output_type": "stream",
     "text": [
      "{40, 10, 50, 20, 60, 30}\n",
      "{40, 10, 50, 20, 60, 30}\n",
      "{40, 30}\n",
      "{40, 30}\n"
     ]
    }
   ],
   "source": [
    "# 1. union() \n",
    "x = {10,20,30,40}\n",
    "y = {30,40,50,60}\n",
    "print(x.union(y)) # return a set and remove Duplecates , order are not preserve\n",
    "print(x | y)\n",
    "\n",
    "# 2. Intersection()  \n",
    "print(x.intersection(y)) # return a set in which both of element are same\n",
    "print(x&y)\n",
    "# if there is an no element match then it will return -> set()\n",
    "\n",
    "#3. differnce\n",
    "#4. symantric-differnce\n",
    "\n",
    "# issubset() :- if their all element present in another set then it will return True\n",
    "# issuperset() :- if their all element present in super set then it will return true"
   ]
  },
  {
   "cell_type": "markdown",
   "metadata": {},
   "source": [
    "### Membership Oprators For Set"
   ]
  },
  {
   "cell_type": "code",
   "execution_count": 39,
   "metadata": {},
   "outputs": [
    {
     "name": "stdout",
     "output_type": "stream",
     "text": [
      "{'L', 'E', 'J', 'I', 'T'}\n",
      "True\n",
      "False\n",
      "True\n"
     ]
    }
   ],
   "source": [
    "# 1. IN()\n",
    "# 2. OUT()\n",
    "\n",
    "s = set(\"LJEIT\")\n",
    "print(s)\n",
    "print('L' in s)\n",
    "print(\"L \" in s)\n",
    "print(\"t\" not in s)"
   ]
  },
  {
   "cell_type": "markdown",
   "metadata": {},
   "source": [
    "### Impontant Function Of set"
   ]
  },
  {
   "cell_type": "markdown",
   "metadata": {},
   "source": [
    "### 1.add(x)"
   ]
  },
  {
   "cell_type": "code",
   "execution_count": 40,
   "metadata": {},
   "outputs": [
    {
     "name": "stdout",
     "output_type": "stream",
     "text": [
      "{1, 2, 3, 4, 66}\n"
     ]
    }
   ],
   "source": [
    "s = {1,2,3,4}\n",
    "s.add(66)\n",
    "print(s)"
   ]
  },
  {
   "cell_type": "markdown",
   "metadata": {},
   "source": [
    "### 2. update(x,y,z)"
   ]
  },
  {
   "cell_type": "code",
   "execution_count": 41,
   "metadata": {},
   "outputs": [
    {
     "name": "stdout",
     "output_type": "stream",
     "text": [
      "{1, 2, 3, 4, 5, 6, 7, 10, 11, 12, 13, 14, 15, 16, 17, 18, 19}\n"
     ]
    }
   ],
   "source": [
    "s = {2,3,4,5,6,7}\n",
    "l = [1,2,3,4,5]\n",
    "s.update(l,range(1,5),range(10,20))\n",
    "print(s)"
   ]
  },
  {
   "cell_type": "markdown",
   "metadata": {},
   "source": [
    "### 3. copy()"
   ]
  },
  {
   "cell_type": "code",
   "execution_count": 43,
   "metadata": {},
   "outputs": [
    {
     "name": "stdout",
     "output_type": "stream",
     "text": [
      "{40, 10, 50, 20, 30}\n"
     ]
    }
   ],
   "source": [
    "s = {10,20,30,40,50}\n",
    "y = s\n",
    "y.add(50)\n",
    "print(y)"
   ]
  },
  {
   "cell_type": "markdown",
   "metadata": {},
   "source": [
    "### 4. Pop()"
   ]
  },
  {
   "cell_type": "code",
   "execution_count": 45,
   "metadata": {},
   "outputs": [
    {
     "name": "stdout",
     "output_type": "stream",
     "text": [
      "40\n",
      "{10, 50, 20, 30}\n"
     ]
    }
   ],
   "source": [
    "s = {10,20,30,40,50}\n",
    "print(s.pop())\n",
    "print(s)"
   ]
  },
  {
   "cell_type": "markdown",
   "metadata": {},
   "source": [
    "### 5. remove(x)"
   ]
  },
  {
   "cell_type": "code",
   "execution_count": 48,
   "metadata": {},
   "outputs": [
    {
     "name": "stdout",
     "output_type": "stream",
     "text": [
      "{40, 10, 50, 20, 30}\n",
      "{40, 50, 20, 30}\n"
     ]
    },
    {
     "ename": "KeyError",
     "evalue": "60",
     "output_type": "error",
     "traceback": [
      "\u001b[1;31m---------------------------------------------------------------------------\u001b[0m",
      "\u001b[1;31mKeyError\u001b[0m                                  Traceback (most recent call last)",
      "\u001b[1;32m<ipython-input-48-eed39bdb8278>\u001b[0m in \u001b[0;36m<module>\u001b[1;34m\u001b[0m\n\u001b[0;32m      3\u001b[0m \u001b[0ms\u001b[0m\u001b[1;33m.\u001b[0m\u001b[0mremove\u001b[0m\u001b[1;33m(\u001b[0m\u001b[1;36m10\u001b[0m\u001b[1;33m)\u001b[0m\u001b[1;33m\u001b[0m\u001b[1;33m\u001b[0m\u001b[0m\n\u001b[0;32m      4\u001b[0m \u001b[0mprint\u001b[0m\u001b[1;33m(\u001b[0m\u001b[0ms\u001b[0m\u001b[1;33m)\u001b[0m\u001b[1;33m\u001b[0m\u001b[1;33m\u001b[0m\u001b[0m\n\u001b[1;32m----> 5\u001b[1;33m \u001b[0ms\u001b[0m\u001b[1;33m.\u001b[0m\u001b[0mremove\u001b[0m\u001b[1;33m(\u001b[0m\u001b[1;36m60\u001b[0m\u001b[1;33m)\u001b[0m\u001b[1;33m\u001b[0m\u001b[1;33m\u001b[0m\u001b[0m\n\u001b[0m\u001b[0;32m      6\u001b[0m \u001b[0mprint\u001b[0m\u001b[1;33m(\u001b[0m\u001b[0ms\u001b[0m\u001b[1;33m)\u001b[0m\u001b[1;33m\u001b[0m\u001b[1;33m\u001b[0m\u001b[0m\n",
      "\u001b[1;31mKeyError\u001b[0m: 60"
     ]
    }
   ],
   "source": [
    "s = {10,20,30,40,50}\n",
    "print(s)\n",
    "s.remove(10)\n",
    "print(s)\n",
    "s.remove(60)\n",
    "print(s)"
   ]
  },
  {
   "cell_type": "markdown",
   "metadata": {},
   "source": [
    "### 6. discard()"
   ]
  },
  {
   "cell_type": "code",
   "execution_count": 51,
   "metadata": {},
   "outputs": [
    {
     "name": "stdout",
     "output_type": "stream",
     "text": [
      "{40, 10, 50, 20, 30}\n",
      "{40, 50, 20, 30}\n",
      "{40, 50, 20, 30}\n"
     ]
    }
   ],
   "source": [
    "s = {10,20,30,40,50}\n",
    "print(s)\n",
    "s.discard(10)\n",
    "print(s)\n",
    "s.discard(60)\n",
    "print(s)"
   ]
  },
  {
   "cell_type": "markdown",
   "metadata": {},
   "source": [
    "### 7. clear()"
   ]
  },
  {
   "cell_type": "code",
   "execution_count": 53,
   "metadata": {},
   "outputs": [
    {
     "name": "stdout",
     "output_type": "stream",
     "text": [
      "{40, 10, 50, 20, 30}\n",
      "{40, 50, 20, 30}\n",
      "{40, 50, 20, 30}\n",
      "set()\n"
     ]
    }
   ],
   "source": [
    "s = {10,20,30,40,50}\n",
    "print(s)\n",
    "s.discard(10)\n",
    "print(s)\n",
    "s.discard(60)\n",
    "print(s)\n",
    "s.clear()\n",
    "print(s)"
   ]
  },
  {
   "cell_type": "markdown",
   "metadata": {},
   "source": [
    "### Set Comprehension"
   ]
  },
  {
   "cell_type": "code",
   "execution_count": 56,
   "metadata": {},
   "outputs": [
    {
     "name": "stdout",
     "output_type": "stream",
     "text": [
      "{64, 1, 4, 36, 100, 9, 16, 49, 81, 25}\n",
      "{16, 256, 64, 4}\n"
     ]
    }
   ],
   "source": [
    "s = {x*x for x in range(1,11)}\n",
    "print(s)\n",
    "\n",
    "s = {2**x for x in range(2,10,2)}\n",
    "print(s)"
   ]
  },
  {
   "cell_type": "markdown",
   "metadata": {},
   "source": [
    "### Frozenset"
   ]
  },
  {
   "cell_type": "code",
   "execution_count": 60,
   "metadata": {},
   "outputs": [
    {
     "name": "stdout",
     "output_type": "stream",
     "text": [
      "{'ishan', 'banana', 'apple', 'cheery'}\n",
      "\n"
     ]
    },
    {
     "ename": "AttributeError",
     "evalue": "'frozenset' object has no attribute 'add'",
     "output_type": "error",
     "traceback": [
      "\u001b[1;31m---------------------------------------------------------------------------\u001b[0m",
      "\u001b[1;31mAttributeError\u001b[0m                            Traceback (most recent call last)",
      "\u001b[1;32m<ipython-input-60-9950f5b6fec8>\u001b[0m in \u001b[0;36m<module>\u001b[1;34m\u001b[0m\n\u001b[0;32m      6\u001b[0m \u001b[1;33m\u001b[0m\u001b[0m\n\u001b[0;32m      7\u001b[0m \u001b[0ms\u001b[0m \u001b[1;33m=\u001b[0m \u001b[0mfrozenset\u001b[0m\u001b[1;33m(\u001b[0m\u001b[0ml\u001b[0m\u001b[1;33m)\u001b[0m\u001b[1;33m\u001b[0m\u001b[1;33m\u001b[0m\u001b[0m\n\u001b[1;32m----> 8\u001b[1;33m \u001b[0ms\u001b[0m\u001b[1;33m.\u001b[0m\u001b[0madd\u001b[0m\u001b[1;33m(\u001b[0m\u001b[1;34m\"iasdhi\"\u001b[0m\u001b[1;33m)\u001b[0m\u001b[1;33m\u001b[0m\u001b[1;33m\u001b[0m\u001b[0m\n\u001b[0m\u001b[0;32m      9\u001b[0m \u001b[0mprint\u001b[0m\u001b[1;33m(\u001b[0m\u001b[0ms\u001b[0m\u001b[1;33m)\u001b[0m\u001b[1;33m\u001b[0m\u001b[1;33m\u001b[0m\u001b[0m\n",
      "\u001b[1;31mAttributeError\u001b[0m: 'frozenset' object has no attribute 'add'"
     ]
    }
   ],
   "source": [
    "l = [\"apple\",\"banana\",\"cheery\"]\n",
    "s = set(l)\n",
    "s.add(\"ishan\")\n",
    "print(s)\n",
    "print()\n",
    "\n",
    "s = frozenset(l)\n",
    "s.add(\"iasdhi\")\n",
    "print(s)"
   ]
  },
  {
   "cell_type": "markdown",
   "metadata": {},
   "source": [
    "### Ex:- WAP to word dictionary u are given string replace its words from lookup dictionary."
   ]
  },
  {
   "cell_type": "code",
   "execution_count": 64,
   "metadata": {},
   "outputs": [
    {
     "name": "stdout",
     "output_type": "stream",
     "text": [
      "Enter a String :hi hello morning \n"
     ]
    },
    {
     "ename": "NameError",
     "evalue": "name 'replace_words_in_string' is not defined",
     "output_type": "error",
     "traceback": [
      "\u001b[1;31m---------------------------------------------------------------------------\u001b[0m",
      "\u001b[1;31mNameError\u001b[0m                                 Traceback (most recent call last)",
      "\u001b[1;32m<ipython-input-64-173c28e3bcdd>\u001b[0m in \u001b[0;36m<module>\u001b[1;34m\u001b[0m\n\u001b[0;32m     18\u001b[0m         \u001b[0mreplaced_words\u001b[0m\u001b[1;33m.\u001b[0m\u001b[0mappend\u001b[0m\u001b[1;33m(\u001b[0m\u001b[0mword\u001b[0m\u001b[1;33m)\u001b[0m\u001b[1;33m\u001b[0m\u001b[1;33m\u001b[0m\u001b[0m\n\u001b[0;32m     19\u001b[0m \u001b[1;33m\u001b[0m\u001b[0m\n\u001b[1;32m---> 20\u001b[1;33m \u001b[0moutput_string\u001b[0m \u001b[1;33m=\u001b[0m \u001b[0mreplace_words_in_string\u001b[0m\u001b[1;33m(\u001b[0m\u001b[0minput_string\u001b[0m\u001b[1;33m,\u001b[0m \u001b[0mlookup_dict\u001b[0m\u001b[1;33m)\u001b[0m\u001b[1;33m\u001b[0m\u001b[1;33m\u001b[0m\u001b[0m\n\u001b[0m\u001b[0;32m     21\u001b[0m \u001b[1;33m\u001b[0m\u001b[0m\n\u001b[0;32m     22\u001b[0m \u001b[0mprint\u001b[0m\u001b[1;33m(\u001b[0m\u001b[1;34m\"Replaced String: \"\u001b[0m\u001b[1;33m)\u001b[0m\u001b[1;33m\u001b[0m\u001b[1;33m\u001b[0m\u001b[0m\n",
      "\u001b[1;31mNameError\u001b[0m: name 'replace_words_in_string' is not defined"
     ]
    }
   ],
   "source": [
    "input_string = input(\"Enter a String :\")\n",
    "lookup_dict = {\n",
    "    \"hello\": \"hi\",\n",
    "    \"world\": \"earth\",\n",
    "    \"good\": \"great\",\n",
    "    \"morning\": \"afternoon\"\n",
    "}\n",
    "\n",
    "words = input_string.split()\n",
    "replaced_words = []\n",
    "    \n",
    "for word in words:\n",
    "    clean_word = word.strip('.,!?()[]{}\":;')\n",
    "        \n",
    "    if clean_word in lookup_dict:\n",
    "        replaced_words.append(lookup_dict[clean_word])\n",
    "    else:\n",
    "        replaced_words.append(word)\n",
    "            \n",
    "output_string = replace_words_in_string(input_string, lookup_dict)\n",
    "\n",
    "print(\"Replaced String: \")\n",
    "print(output_string)"
   ]
  },
  {
   "cell_type": "markdown",
   "metadata": {},
   "source": [
    "### WAP to remove all accurances of an element from a given list."
   ]
  },
  {
   "cell_type": "markdown",
   "metadata": {},
   "source": [
    "### Ex:- WAP to find index at which the element of two list dose not match."
   ]
  },
  {
   "cell_type": "code",
   "execution_count": 8,
   "metadata": {},
   "outputs": [
    {
     "name": "stdout",
     "output_type": "stream",
     "text": [
      "[2, 4]\n"
     ]
    }
   ],
   "source": [
    "l1 = [1,2,3,4,5,6]\n",
    "l2 = [1,2,5,4,7,6]\n",
    "final_list = []\n",
    "\n",
    "for i in range(len(l1)):\n",
    "    if l1[i] != l2[i]:\n",
    "        final_list.append(i)\n",
    "        \n",
    "print(final_list)\n",
    "    "
   ]
  },
  {
   "cell_type": "markdown",
   "metadata": {},
   "source": [
    "### Ex:- GIven a list l of size n you need to count the number of special element in the given list an element is special if the removale of that element make the list balance , the list will be balanced if sum of even index element is equal to sum of odd element also print updated list after removal of special elements."
   ]
  },
  {
   "cell_type": "code",
   "execution_count": 5,
   "metadata": {},
   "outputs": [
    {
     "name": "stdout",
     "output_type": "stream",
     "text": [
      "Original list : [5, 2, 5, 8]\n",
      "Total no of specail element : 0\n"
     ]
    }
   ],
   "source": [
    "l = [5,5, 2, 5, 8]\n",
    "print(\"Original list :\",l)\n",
    "count = 0\n",
    "\n",
    "for i in range(len(l)):\n",
    "    c = l.copy()\n",
    "    c.pop(i)\n",
    "    sum1=sum2=0\n",
    "    \n",
    "    for k in c[::2]:\n",
    "        sum1 += k\n",
    "    for k in c[1::2]:\n",
    "        sum2 += k\n",
    "    \n",
    "    if sum1 == sum2:\n",
    "        print(\"index to be removed :\",i)\n",
    "        count += 1\n",
    "        print(\"List after remaining :\",l[0:1]+l[i+1:])\n",
    "        \n",
    "print(\"Total no of specail element :\",count)"
   ]
  },
  {
   "cell_type": "markdown",
   "metadata": {},
   "source": [
    "### Lambda Function\n",
    "       -Function Without Any Name Is Called Anonymous Lamda Funtion.\n",
    "       \n",
    "       -Syntax ------>\n",
    "           lambda Argument_list:expression\n",
    "           "
   ]
  },
  {
   "cell_type": "code",
   "execution_count": 10,
   "metadata": {},
   "outputs": [
    {
     "name": "stdout",
     "output_type": "stream",
     "text": [
      "25\n",
      "\n",
      "Sqaure is : 25\n",
      "100\n"
     ]
    }
   ],
   "source": [
    "def square(n):\n",
    "    return n*n\n",
    "print(square(5)) # normal function\n",
    "print()\n",
    "\n",
    "#----------------------------------\n",
    "s = lambda n:n*n\n",
    "print(\"Sqaure is :\",s(5))\n",
    "print(s(10))"
   ]
  },
  {
   "cell_type": "markdown",
   "metadata": {},
   "source": [
    "### Lambda Function :- \n",
    "    -1. map()\n",
    "    -2. reduce()\n",
    "    -3. filter()"
   ]
  },
  {
   "cell_type": "markdown",
   "metadata": {},
   "source": [
    "#### 1. map(Functiom, Sequance) ----->\n",
    "    - For every Present In Given Sequance , Apply Same Founctionality And Genrate New Element With Required Modification."
   ]
  },
  {
   "cell_type": "code",
   "execution_count": 15,
   "metadata": {},
   "outputs": [
    {
     "name": "stdout",
     "output_type": "stream",
     "text": [
      "[2, 4, 6, 8, 10]\n",
      "\n",
      "[2, 4, 6, 8, 10]\n",
      "\n",
      "[3, 6, 9, 12, 15]\n"
     ]
    }
   ],
   "source": [
    "#with normal basis----->\n",
    "l = [1,2,3,4,5]\n",
    "def double(x):\n",
    "    return 2*x\n",
    "l1 = list(map(double,l))\n",
    "print(l1)\n",
    "print()\n",
    "\n",
    "#with lambda------>\n",
    "l = [1,2,3,4,5]\n",
    "l1 = list(map(lambda x:2*x,l))\n",
    "print(l1)\n",
    "print()\n",
    "\n",
    "#---------------------------------\n",
    "l2 = [1,2,3,4,5]\n",
    "l3 = [6,7,8,9,1]\n",
    "\n",
    "l4 = list(map(lambda x,y:x+y,l1,l2))\n",
    "print(l4)"
   ]
  },
  {
   "cell_type": "markdown",
   "metadata": {},
   "source": [
    "#### 2. reduce() -------------->\n",
    "    -Reduce Sequance Of Element Into a Single Element By Applying The Specified Function\n",
    "    \n",
    "     Syntax - reduce(function, sequance)\n",
    "    \n",
    "    -reduce() function present in FUNCTOOLS Module so we need to import that first to use reduce() function."
   ]
  },
  {
   "cell_type": "code",
   "execution_count": 22,
   "metadata": {},
   "outputs": [
    {
     "name": "stdout",
     "output_type": "stream",
     "text": [
      "15\n",
      "120\n"
     ]
    }
   ],
   "source": [
    "from functools import *\n",
    "l = [1,2,3,4,5]\n",
    "sum = reduce(lambda x,y:x+y,l)\n",
    "print(sum)\n",
    "\n",
    "l = [1,2,3,4,5]\n",
    "sum = reduce(lambda x,y:x*y,l)\n",
    "print(sum)"
   ]
  },
  {
   "cell_type": "markdown",
   "metadata": {},
   "source": [
    "#### 3. filter() --------->\n",
    "    -We can use filter function to filter values from given sequance bored on same condition\n",
    "    \n",
    "     Syntax - filter(function,sequance)\n",
    "                    -function argument is resposible to perform codition chek\n",
    "                    -sequance argument can be list,tuple,string\n",
    "                    "
   ]
  },
  {
   "cell_type": "code",
   "execution_count": 23,
   "metadata": {},
   "outputs": [
    {
     "name": "stdout",
     "output_type": "stream",
     "text": [
      "[2, 4, 6]\n"
     ]
    }
   ],
   "source": [
    "l = [1,2,3,4,5,6,7]\n",
    "l1 = list(filter(lambda x: x % 2 == 0,l))\n",
    "print(l1)"
   ]
  },
  {
   "cell_type": "markdown",
   "metadata": {},
   "source": [
    "### WAP to convert strings to uppercase using map function"
   ]
  },
  {
   "cell_type": "code",
   "execution_count": 40,
   "metadata": {},
   "outputs": [
    {
     "name": "stdout",
     "output_type": "stream",
     "text": [
      "ISHAN DALWADI\n"
     ]
    }
   ],
   "source": [
    "s = \"ishan dalwadi\"\n",
    "ans = \"\".join(map(lambda x:x.upper(),s))\n",
    "print(ans)"
   ]
  },
  {
   "cell_type": "markdown",
   "metadata": {},
   "source": [
    "### WAP to fliter words with length greater then 5,"
   ]
  }
 ],
 "metadata": {
  "kernelspec": {
   "display_name": "Python 3",
   "language": "python",
   "name": "python3"
  },
  "language_info": {
   "codemirror_mode": {
    "name": "ipython",
    "version": 3
   },
   "file_extension": ".py",
   "mimetype": "text/x-python",
   "name": "python",
   "nbconvert_exporter": "python",
   "pygments_lexer": "ipython3",
   "version": "3.8.5"
  }
 },
 "nbformat": 4,
 "nbformat_minor": 4
}

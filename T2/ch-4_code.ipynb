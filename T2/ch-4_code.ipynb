{
 "cells": [
  {
   "cell_type": "code",
   "execution_count": 1,
   "metadata": {},
   "outputs": [
    {
     "name": "stdout",
     "output_type": "stream",
     "text": [
      "The Length of the String is 31\n",
      "Number of Letters : 16\n",
      "Number of Digits : 2\n",
      "Number of Spaces : 9\n",
      "Number of Characters : 4\n",
      "Number of Uppercase Letters : 3\n",
      "Number of Lowerscase Letters : 13\n"
     ]
    }
   ],
   "source": [
    "# EXAMPLE - 1 :- CALCULATE THE COUNT OF letters, digits, spaces, special characters and do uppercase and lowercase\n",
    "\n",
    "s = \"Pyt@$ho%n   is 12 Very    Ea$sy\"\n",
    "\n",
    "letters = 0\n",
    "digits = 0\n",
    "spaces = 0\n",
    "special_chars = 0\n",
    "uppercase = 0\n",
    "lowercase = 0\n",
    "\n",
    "# Iterate through each character in the string\n",
    "for char in s:\n",
    "    if char.isalpha():  # Check if it's a letter\n",
    "        letters += 1\n",
    "        if char.isupper():\n",
    "            uppercase += 1\n",
    "        elif char.islower():\n",
    "            lowercase += 1\n",
    "    elif char.isdigit():  # Check if it's a digit\n",
    "        digits += 1\n",
    "    elif char == ' ':  # Check if it's a space\n",
    "        spaces += 1\n",
    "    else:  # Otherwise, it's a special character\n",
    "        special_chars += 1\n",
    "\n",
    "print(\"The Length of the String is\",len(s))\n",
    "print(f\"Number of Letters : {letters}\")\n",
    "print(f\"Number of Digits : {digits}\")\n",
    "print(f\"Number of Spaces : {spaces}\")\n",
    "print(f\"Number of Characters : {special_chars}\")\n",
    "print(f\"Number of Uppercase Letters : {uppercase}\")\n",
    "print(f\"Number of Lowerscase Letters : {lowercase}\")"
   ]
  },
  {
   "cell_type": "code",
   "execution_count": 2,
   "metadata": {},
   "outputs": [
    {
     "name": "stdout",
     "output_type": "stream",
     "text": [
      "Enter a string = Hello world\n",
      "Enter a index you want to remove = 3\n",
      "Your String is = Helo world\n"
     ]
    }
   ],
   "source": [
    "# Example - 2 :- WAP to remove i'th character from a string\n",
    "\n",
    "s = input(\"Enter a string = \")\n",
    "index = int(input(\"Enter a index you want to remove = \"))\n",
    "x = s[:index]+s[index+1:] #Here Index will be excluded in s[:index]\n",
    "print(f\"Your String is = {x}\")"
   ]
  },
  {
   "cell_type": "code",
   "execution_count": 6,
   "metadata": {},
   "outputs": [
    {
     "name": "stdout",
     "output_type": "stream",
     "text": [
      "Enter a String = Welcome to USA. usa is awesome. Usain is from USA.\n",
      "Enter a substring you want to find the occurences of = usa\n",
      "4\n"
     ]
    }
   ],
   "source": [
    "# Example - 3 :- WAP to find all occurences of a substring in a given string by ignoring the case.\n",
    "\n",
    "s = input(\"Enter a String = \")\n",
    "sub_s = input(\"Enter a substring you want to find the occurences of = \") # Give usa here\n",
    "\n",
    "lower_s = s.lower()\n",
    "length = len(s)\n",
    "print(lower_s.count(sub_s,0,length))"
   ]
  },
  {
   "cell_type": "code",
   "execution_count": 3,
   "metadata": {},
   "outputs": [
    {
     "name": "stdout",
     "output_type": "stream",
     "text": [
      "Enter a string with numbers = pdand$#^123 as%4237\n",
      "Sum = 22\n",
      "Average = 7\n"
     ]
    }
   ],
   "source": [
    "# Example - 4 :- WAP to calculate sum and average of the digits present in a string\n",
    "\n",
    "s = input(\"Enter a string with numbers = \")\n",
    "digits = 0\n",
    "sum = 0\n",
    "\n",
    "for char in s:\n",
    "    if char.isdigit(): # Check if it's a digit\n",
    "        digits += 1\n",
    "        sum += int(char)\n",
    "\n",
    "average = sum / digits\n",
    "\n",
    "print(f\"Sum = {sum}\")\n",
    "print(f\"Average = {digits}\")"
   ]
  },
  {
   "cell_type": "code",
   "execution_count": 6,
   "metadata": {},
   "outputs": [
    {
     "name": "stdout",
     "output_type": "stream",
     "text": [
      "Enter a string = hii$%^\n",
      "The new String is =  hii###\n"
     ]
    }
   ],
   "source": [
    "# Example - 5 :- WAP to replace each special symbol with # in the given string\n",
    "\n",
    "import string\n",
    "s = input(\"Enter a string = \")\n",
    "\n",
    "for i in string.punctuation:\n",
    "    s = s.replace(i,\"#\") # Here dont do x = s.replace(i,\"#\") as it will consider the original string\n",
    "    \n",
    "print(\"The new String is = \",s)"
   ]
  },
  {
   "cell_type": "code",
   "execution_count": 11,
   "metadata": {},
   "outputs": [
    {
     "name": "stdout",
     "output_type": "stream",
     "text": [
      "5\n",
      "1\n"
     ]
    }
   ],
   "source": [
    "# Example - 6 :- WAP to print minimum and maximum elements in a given tuple without use of min, max and sorted function \n",
    "\n",
    "t = tuple(input(\"Enter numbers as data for a tuple to find min and max out of it = \"))\n",
    "length = len(t)\n",
    "max = t[0]\n",
    "min = t[0]\n",
    "\n",
    "for i in range(length):\n",
    "    if max < t[i]:\n",
    "        max = t[i]\n",
    "    \n",
    "    if min > t[i]:\n",
    "        min = t[i]\n",
    "        \n",
    "print(max)\n",
    "print(min)"
   ]
  },
  {
   "cell_type": "code",
   "execution_count": 14,
   "metadata": {},
   "outputs": [
    {
     "name": "stdout",
     "output_type": "stream",
     "text": [
      "to LJ University "
     ]
    }
   ],
   "source": [
    "# Example - 7 :- WAP to print even length words in a given string\n",
    "\n",
    "s = \"Welcome to LJ University\"\n",
    "s = s.split()\n",
    "\n",
    "for i in s:\n",
    "    if len(i)%2==0:\n",
    "        print(i,end=\" \")"
   ]
  },
  {
   "cell_type": "code",
   "execution_count": 16,
   "metadata": {},
   "outputs": [
    {
     "name": "stdout",
     "output_type": "stream",
     "text": [
      "UNIVErsityi\n"
     ]
    }
   ],
   "source": [
    "# Example- 8 :- WAP to uppercase the half string\n",
    "\n",
    "s = \"Universityi\"\n",
    "print(s[:len(s)//2].upper() + s[len(s)//2:]) # Slicing operator is better for Optimization"
   ]
  },
  {
   "cell_type": "code",
   "execution_count": 20,
   "metadata": {},
   "outputs": [
    {
     "name": "stdout",
     "output_type": "stream",
     "text": [
      "DevaM JhA IS MY NamE\n"
     ]
    }
   ],
   "source": [
    "# Example - 9 :- WAP to capitalize first and last letter of each word\n",
    "\n",
    "s = \"devam jha Is mY name\"\n",
    "s = s.title()\n",
    "result = \"\"\n",
    "\n",
    "for x in s.split():\n",
    "    result += x[:-1] + x[-1].upper() + \" \"\n",
    "print(result.rstrip())"
   ]
  },
  {
   "cell_type": "code",
   "execution_count": 27,
   "metadata": {},
   "outputs": [
    {
     "name": "stdout",
     "output_type": "stream",
     "text": [
      "Balanced\n"
     ]
    }
   ],
   "source": [
    "# Example - 10 :- WAP to check if two strings are balanced or not without considering position of characters \n",
    "\n",
    "str1 = \"jeet\"\n",
    "str2 = \"jet\"\n",
    "flag = 0\n",
    "\n",
    "for i in str1:\n",
    "    if i in str2:\n",
    "        continue\n",
    "    else:\n",
    "        flag = 1\n",
    "        break\n",
    "if flag == 1:\n",
    "    print(\"Not balanced\")\n",
    "else:\n",
    "    print(\"Balanced\")"
   ]
  },
  {
   "cell_type": "code",
   "execution_count": null,
   "metadata": {},
   "outputs": [],
   "source": [
    "# Example - 11 :- Write a python program to shift the decimal digits and places to the left,\n",
    "#                 wrapping the extra digits around, if shift is greater than the number of digits then reverse the digit\n",
    "\n",
    "# input :- n = 12345     n = 12345      n = 12345\n",
    "#          shift = 3     shift = 5      shift = 6\n",
    "\n",
    "# output :-  45123         12345          54321\n",
    "\n",
    "def shift_and_wrap(n, shift):\n",
    "    # Convert the number to a string\n",
    "    n_str = str(n)\n",
    "    \n",
    "    # Get the number of digits\n",
    "    length = len(n_str)\n",
    "    \n",
    "    # If shift is greater than or equal to the number of digits, reverse the digits\n",
    "    if shift >= length:\n",
    "        return int(n_str[::-1])  # Reverse and return as an integer\n",
    "    \n",
    "    # Compute effective shift (in case shift is larger than the length)\n",
    "    effective_shift = shift % length\n",
    "    \n",
    "    # Shift the digits and wrap around\n",
    "    shifted_str = n_str[effective_shift:] + n_str[:effective_shift]\n",
    "    \n",
    "    # Return the result as an integer\n",
    "    return int(shifted_str)\n",
    "\n",
    "# Example Usage\n",
    "n1 = 12345\n",
    "shift1 = 3\n",
    "print(shift_and_wrap(n1, shift1))  # Output: 45123\n",
    "\n",
    "n2 = 12345\n",
    "shift2 = 5\n",
    "print(shift_and_wrap(n2, shift2))  # Output: 12345\n",
    "\n",
    "n3 = 12345\n",
    "shift3 = 6\n",
    "print(shift_and_wrap(n3, shift3))  # Output: 54321"
   ]
  }
 ],
 "metadata": {
  "kernelspec": {
   "display_name": "Python 3",
   "language": "python",
   "name": "python3"
  },
  "language_info": {
   "codemirror_mode": {
    "name": "ipython",
    "version": 3
   },
   "file_extension": ".py",
   "mimetype": "text/x-python",
   "name": "python",
   "nbconvert_exporter": "python",
   "pygments_lexer": "ipython3",
   "version": "3.8.5"
  }
 },
 "nbformat": 4,
 "nbformat_minor": 4
}

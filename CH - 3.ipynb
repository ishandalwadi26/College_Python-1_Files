{
 "cells": [
  {
   "cell_type": "code",
   "execution_count": 2,
   "metadata": {},
   "outputs": [
    {
     "name": "stdout",
     "output_type": "stream",
     "text": [
      "['1', '2', '3']\n"
     ]
    }
   ],
   "source": [
    "import re\n",
    "txt = \"The rain in spain 123\"\n",
    "x = re.findall(\"\\d\",txt)\n",
    "print(x)"
   ]
  },
  {
   "cell_type": "code",
   "execution_count": 3,
   "metadata": {},
   "outputs": [
    {
     "name": "stdout",
     "output_type": "stream",
     "text": [
      "['T', 'h', 'e', ' ', 'r', 'a', 'i', 'n', ' ', 'i', 'n', ' ', 's', 'p', 'a', 'i', 'n', ' ']\n"
     ]
    }
   ],
   "source": [
    "import re\n",
    "txt = \"The rain in spain 123\"\n",
    "x = re.findall(\"\\D\",txt)\n",
    "print(x)"
   ]
  },
  {
   "cell_type": "code",
   "execution_count": 4,
   "metadata": {},
   "outputs": [
    {
     "name": "stdout",
     "output_type": "stream",
     "text": [
      "[' ', ' ', ' ', ' ']\n"
     ]
    }
   ],
   "source": [
    "import re\n",
    "txt = \"The rain in spain 123\"\n",
    "x = re.findall(\"\\s\",txt)\n",
    "print(x)"
   ]
  },
  {
   "cell_type": "code",
   "execution_count": 7,
   "metadata": {},
   "outputs": [
    {
     "name": "stdout",
     "output_type": "stream",
     "text": [
      "['T', 'h', 'e', 'r', 'a', 'i', 'n', 'i', 'n', 's', 'p', 'a', 'i', 'n', '1', '2', '3']\n"
     ]
    }
   ],
   "source": [
    "import re\n",
    "txt = \"The rain in spain 123\"\n",
    "x = re.findall(\"\\S\",txt)\n",
    "print(x)"
   ]
  },
  {
   "cell_type": "code",
   "execution_count": 9,
   "metadata": {},
   "outputs": [
    {
     "name": "stdout",
     "output_type": "stream",
     "text": [
      "['T', 'h', 'e', 'r', 'a', 'i', 'n', 'i', 'n', '_', 's', 'p', 'a', 'i', 'n', '1', '2', '3']\n"
     ]
    }
   ],
   "source": [
    "import re\n",
    "txt = \"The rain in_spain 123\"\n",
    "x = re.findall(\"\\w\",txt)\n",
    "print(x)"
   ]
  },
  {
   "cell_type": "code",
   "execution_count": 12,
   "metadata": {},
   "outputs": [
    {
     "name": "stdout",
     "output_type": "stream",
     "text": [
      "[' ', ' ', ' ']\n"
     ]
    }
   ],
   "source": [
    "import re\n",
    "txt = \"The rain in_spain 123\"\n",
    "x = re.findall(\"\\W\",txt)\n",
    "print(x)"
   ]
  },
  {
   "cell_type": "code",
   "execution_count": 15,
   "metadata": {},
   "outputs": [
    {
     "name": "stdout",
     "output_type": "stream",
     "text": [
      "['T', 'h', 'e', 'r', 'a', 'i', 'n', 'i', 'n', '_', 's', 'p', 'a', 'i', 'n', '1', '2', '3']\n"
     ]
    }
   ],
   "source": [
    "import re\n",
    "txt = \"The rain in_spain@ 123\"\n",
    "x = re.findall(\"\\w\",txt)\n",
    "print(x)"
   ]
  },
  {
   "cell_type": "code",
   "execution_count": 16,
   "metadata": {},
   "outputs": [
    {
     "name": "stdout",
     "output_type": "stream",
     "text": [
      "['8', '1', '1', '4', '5']\n"
     ]
    }
   ],
   "source": [
    "import re\n",
    "txt = \"8 times before 11:45 AM\"\n",
    "x = re.findall(\"\\d\",txt)\n",
    "print(x)"
   ]
  },
  {
   "cell_type": "code",
   "execution_count": 17,
   "metadata": {},
   "outputs": [
    {
     "name": "stdout",
     "output_type": "stream",
     "text": [
      "['8', '1', '1', '4', '5']\n"
     ]
    }
   ],
   "source": [
    "import re\n",
    "txt = \"8 times before 11:45 AM\"\n",
    "x = re.findall(\"[0-9]\",txt)\n",
    "print(x)"
   ]
  },
  {
   "cell_type": "code",
   "execution_count": 18,
   "metadata": {},
   "outputs": [
    {
     "name": "stdout",
     "output_type": "stream",
     "text": [
      "['8', '11', '45']\n"
     ]
    }
   ],
   "source": [
    "import re\n",
    "txt = \"8 times before 11:45 AM\"\n",
    "x = re.findall(\"\\d+\",txt)\n",
    "print(x)"
   ]
  },
  {
   "cell_type": "code",
   "execution_count": 21,
   "metadata": {},
   "outputs": [
    {
     "name": "stdout",
     "output_type": "stream",
     "text": [
      "['11', '45']\n"
     ]
    }
   ],
   "source": [
    "import re\n",
    "txt = \"8 times before 11:45 AM\"\n",
    "x = re.findall(\"[0-5][0-9]\",txt)\n",
    "print(x)"
   ]
  },
  {
   "cell_type": "code",
   "execution_count": 25,
   "metadata": {},
   "outputs": [
    {
     "name": "stdout",
     "output_type": "stream",
     "text": [
      "['08', '11', '45']\n"
     ]
    }
   ],
   "source": [
    "import re\n",
    "txt = \"08 times before 11:45 AM\"\n",
    "x = re.findall(\"[0-5][0-9]\",txt)\n",
    "print(x)"
   ]
  },
  {
   "cell_type": "markdown",
   "metadata": {},
   "source": [
    "### Search Function"
   ]
  },
  {
   "cell_type": "code",
   "execution_count": 38,
   "metadata": {},
   "outputs": [
    {
     "name": "stdout",
     "output_type": "stream",
     "text": [
      "<re.Match object; span=(3, 4), match=' '>\n",
      "(3, 4)\n",
      "3\n",
      "4\n"
     ]
    }
   ],
   "source": [
    "import re\n",
    "txt = \"The rain in spain\"\n",
    "x = re.search(\"\\s\",txt)\n",
    "print(x)\n",
    "print(x.span())\n",
    "print(x.start())\n",
    "print(x.end())\n",
    "# print(x.group())"
   ]
  },
  {
   "cell_type": "code",
   "execution_count": 39,
   "metadata": {},
   "outputs": [
    {
     "name": "stdout",
     "output_type": "stream",
     "text": [
      "<re.Match object; span=(3, 7), match='    '>\n",
      "(3, 7)\n",
      "3\n",
      "7\n"
     ]
    }
   ],
   "source": [
    "import re\n",
    "txt = \"The    rain in spain\"\n",
    "x = re.search(\"\\s+\",txt)\n",
    "print(x)\n",
    "print(x.span())\n",
    "print(x.start())\n",
    "print(x.end())\n",
    "# print(x.group())"
   ]
  },
  {
   "cell_type": "code",
   "execution_count": 47,
   "metadata": {},
   "outputs": [
    {
     "name": "stdout",
     "output_type": "stream",
     "text": [
      "<re.Match object; span=(4, 8), match='rain'>\n",
      "(4, 8)\n",
      "4\n",
      "8\n"
     ]
    }
   ],
   "source": [
    "import re\n",
    "txt = \"The rain in spain\"\n",
    "x = re.search(\"rain\",txt)\n",
    "print(x)\n",
    "print(x.span())\n",
    "print(x.start())\n",
    "print(x.end())\n",
    "# print(x.group())"
   ]
  },
  {
   "cell_type": "code",
   "execution_count": 48,
   "metadata": {},
   "outputs": [
    {
     "name": "stdout",
     "output_type": "stream",
     "text": [
      "<re.Match object; span=(3, 4), match='8'>\n",
      "(3, 4)\n"
     ]
    }
   ],
   "source": [
    "import re\n",
    "txt = \"no 8856spain\"\n",
    "x = re.search(\"\\d\",txt)\n",
    "print(x)\n",
    "print(x.span())"
   ]
  },
  {
   "cell_type": "code",
   "execution_count": 49,
   "metadata": {},
   "outputs": [
    {
     "name": "stdout",
     "output_type": "stream",
     "text": [
      "<re.Match object; span=(3, 7), match='8856'>\n",
      "(3, 7)\n"
     ]
    }
   ],
   "source": [
    "import re\n",
    "txt = \"no 8856spain\"\n",
    "x = re.search(\"\\d+\",txt)\n",
    "print(x)\n",
    "print(x.span())"
   ]
  },
  {
   "cell_type": "markdown",
   "metadata": {},
   "source": [
    "### Split Function"
   ]
  },
  {
   "cell_type": "code",
   "execution_count": null,
   "metadata": {},
   "outputs": [
    {
     "name": "stdout",
     "output_type": "stream",
     "text": [
      "['The', 'rain', 'in', 'spain']\n"
     ]
    }
   ],
   "source": [
    "import re\n",
    "txt = \"The rain in spain\"\n",
    "x = re.split(\"\\s\",txt)\n",
    "print(x)"
   ]
  },
  {
   "cell_type": "code",
   "execution_count": null,
   "metadata": {},
   "outputs": [
    {
     "name": "stdout",
     "output_type": "stream",
     "text": [
      "['The', 'rain', 'in spain']\n"
     ]
    }
   ],
   "source": [
    "import re\n",
    "txt = \"The rain in spain\"\n",
    "x = re.split(\"\\s\",txt,2)# Maxsplit parameter\n",
    "print(x)\n"
   ]
  },
  {
   "cell_type": "code",
   "execution_count": 65,
   "metadata": {},
   "outputs": [
    {
     "name": "stdout",
     "output_type": "stream",
     "text": [
      "['', '_', '_', '@', '*', '#', '$', '$', '&', '']\n"
     ]
    }
   ],
   "source": [
    "import re\n",
    "txt = \"The_quick_brown@fox*jump#over$the$lazy&dog\"\n",
    "x = re.split(\"[a-zA-Z]+\",txt)\n",
    "print(x)"
   ]
  },
  {
   "cell_type": "code",
   "execution_count": 76,
   "metadata": {},
   "outputs": [
    {
     "name": "stdout",
     "output_type": "stream",
     "text": [
      "['The', 'brown', 'jump', 'the', 'dog.']\n"
     ]
    }
   ],
   "source": [
    "import re\n",
    "txt = \"The quick brown fox jump over the lazy dog.\"\n",
    "x = re.split(\"\\s+\\w+\\s\",txt)\n",
    "print(x)"
   ]
  },
  {
   "cell_type": "code",
   "execution_count": 79,
   "metadata": {},
   "outputs": [
    {
     "name": "stdout",
     "output_type": "stream",
     "text": [
      "['Twelve:', ' Eighty Nine:', '.']\n"
     ]
    }
   ],
   "source": [
    "import re\n",
    "txt = \"Twelve:8 Eighty Nine:9.\"\n",
    "x = re.split(\"\\d\",txt)\n",
    "print(x)"
   ]
  },
  {
   "cell_type": "code",
   "execution_count": 80,
   "metadata": {},
   "outputs": [
    {
     "name": "stdout",
     "output_type": "stream",
     "text": [
      "['Twelve:', '', ' Eighty Nine:', '', '.']\n"
     ]
    }
   ],
   "source": [
    "import re\n",
    "txt = \"Twelve:28 Eighty Nine:29.\"\n",
    "x = re.split(\"\\d\",txt)\n",
    "print(x)"
   ]
  },
  {
   "cell_type": "code",
   "execution_count": 81,
   "metadata": {},
   "outputs": [
    {
     "name": "stdout",
     "output_type": "stream",
     "text": [
      "['Twelve:', ' Eighty Nine:', '.']\n"
     ]
    }
   ],
   "source": [
    "import re\n",
    "txt = \"Twelve:28 Eighty Nine:29.\"\n",
    "x = re.split(\"\\d+\",txt)\n",
    "print(x)"
   ]
  },
  {
   "cell_type": "markdown",
   "metadata": {},
   "source": [
    "### Sub Function"
   ]
  },
  {
   "cell_type": "code",
   "execution_count": 86,
   "metadata": {},
   "outputs": [
    {
     "name": "stdout",
     "output_type": "stream",
     "text": [
      "The9rain9in9spain\n"
     ]
    }
   ],
   "source": [
    "import re\n",
    "txt = \"The rain in spain\"\n",
    "x = re.sub('\\s','9',txt)\n",
    "print(x)"
   ]
  },
  {
   "cell_type": "code",
   "execution_count": null,
   "metadata": {},
   "outputs": [
    {
     "name": "stdout",
     "output_type": "stream",
     "text": [
      "The9rain9in spain\n"
     ]
    }
   ],
   "source": [
    "import re\n",
    "txt = \"The rain in spain\"\n",
    "x = re.sub('\\s','9', txt, 2)\n",
    "print(x)"
   ]
  },
  {
   "cell_type": "code",
   "execution_count": 88,
   "metadata": {},
   "outputs": [
    {
     "name": "stdout",
     "output_type": "stream",
     "text": [
      "The9rain9in999999999999spain\n"
     ]
    }
   ],
   "source": [
    "import re\n",
    "txt = \"The rain in            spain\"\n",
    "x = re.sub('\\s','9',txt)\n",
    "print(x)"
   ]
  },
  {
   "cell_type": "code",
   "execution_count": 89,
   "metadata": {},
   "outputs": [
    {
     "name": "stdout",
     "output_type": "stream",
     "text": [
      "The9rain9in9spain\n"
     ]
    }
   ],
   "source": [
    "import re\n",
    "txt = \"The rain in            spain\"\n",
    "x = re.sub('\\s+','9',txt)\n",
    "print(x)"
   ]
  },
  {
   "cell_type": "code",
   "execution_count": null,
   "metadata": {},
   "outputs": [
    {
     "name": "stdout",
     "output_type": "stream",
     "text": [
      "['The', 'rain', 'in', 'ahmedabad', 'earth']\n",
      "ahmedabad\n",
      "earth\n"
     ]
    }
   ],
   "source": [
    "import re\n",
    "txt = \"The rain in ahmedabad earth\"\n",
    "x = re.split('\\s',txt)\n",
    "\n",
    "print(x)\n",
    "\n",
    "for i in x:\n",
    "    if i[0] == 'a' or i[0] == 'e':\n",
    "        print(i)"
   ]
  },
  {
   "cell_type": "code",
   "execution_count": 114,
   "metadata": {},
   "outputs": [
    {
     "name": "stdout",
     "output_type": "stream",
     "text": [
      "['https:', '', 'www.washingtonpost.com', 'news', 'football-insider', 'wp', '2016/09/02/odell']\n",
      "2016/09/02/odell\n",
      "\n",
      "2016/09/02\n"
     ]
    }
   ],
   "source": [
    "import re\n",
    "txt = \"https://www.washingtonpost.com/news/football-insider/wp/2016/09/02/odell\"\n",
    "x = re.split('/',txt,6)\n",
    "print(x)\n",
    "\n",
    "print(x[6])\n",
    "print()\n",
    "answer = re.split('/odell',x[6])\n",
    "print(answer[0])"
   ]
  },
  {
   "cell_type": "code",
   "execution_count": 146,
   "metadata": {},
   "outputs": [
    {
     "name": "stdout",
     "output_type": "stream",
     "text": [
      "2016/09/02\n"
     ]
    }
   ],
   "source": [
    "import re\n",
    "txt = \"https://www.washingtonpost.com/news/football-insider/wp/2016/09/02/odell\"\n",
    "x = re.findall('\\d{4}[/-]\\d{2}[/-]\\d{2}',txt)\n",
    "print(x[0])"
   ]
  },
  {
   "cell_type": "code",
   "execution_count": 135,
   "metadata": {},
   "outputs": [
    {
     "name": "stdout",
     "output_type": "stream",
     "text": [
      "['9354838374', '6363636363']\n",
      "9354838374 6363636363\n"
     ]
    }
   ],
   "source": [
    "import re\n",
    "txt = \"9354838374 5473894739 6363636363\"\n",
    "answer = re.findall(r'[6-9]\\d{9}', txt)\n",
    "print(answer)\n",
    "\n",
    "st_list = map(str,answer)\n",
    "\n",
    "final_list = \" \".join(st_list)\n",
    "print(final_list)"
   ]
  },
  {
   "cell_type": "code",
   "execution_count": 151,
   "metadata": {},
   "outputs": [
    {
     "name": "stdout",
     "output_type": "stream",
     "text": [
      "ishandalwadi2006@gmail.com\n"
     ]
    }
   ],
   "source": [
    "import re\n",
    "txt = \"my email i'd is ishandalwadi2006@gmail.com\"\n",
    "answer = re.findall(r'[a-z]+\\d+[/@]+[a-z]+[/.]+[a-z]+', txt)\n",
    "print(answer[0])"
   ]
  },
  {
   "cell_type": "code",
   "execution_count": null,
   "metadata": {},
   "outputs": [],
   "source": []
  }
 ],
 "metadata": {
  "kernelspec": {
   "display_name": "base",
   "language": "python",
   "name": "python3"
  },
  "language_info": {
   "codemirror_mode": {
    "name": "ipython",
    "version": 3
   },
   "file_extension": ".py",
   "mimetype": "text/x-python",
   "name": "python",
   "nbconvert_exporter": "python",
   "pygments_lexer": "ipython3",
   "version": "3.8.5"
  }
 },
 "nbformat": 4,
 "nbformat_minor": 4
}

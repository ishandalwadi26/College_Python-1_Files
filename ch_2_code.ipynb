{
 "cells": [
  {
   "cell_type": "markdown",
   "metadata": {},
   "source": [
    "#### PB :- 154\n",
    "##### Write a program to find the maximum number among the three input numbers."
   ]
  },
  {
   "cell_type": "code",
   "execution_count": 1,
   "metadata": {},
   "outputs": [
    {
     "name": "stdout",
     "output_type": "stream",
     "text": [
      "The maximum number is: 8.0\n"
     ]
    }
   ],
   "source": [
    "# Input three numbers from the user\n",
    "num1 = float(input(\"Enter the first number: \"))\n",
    "num2 = float(input(\"Enter the second number: \"))\n",
    "num3 = float(input(\"Enter the third number: \"))\n",
    "\n",
    "# Finding the maximum number\n",
    "if num1 >= num2 and num1 >= num3:\n",
    "    max_num = num1\n",
    "elif num2 >= num1 and num2 >= num3:\n",
    "    max_num = num2\n",
    "else:\n",
    "    max_num = num3\n",
    "\n",
    "# Display the maximum number\n",
    "print(f\"The maximum number is: {max_num}\")\n"
   ]
  },
  {
   "cell_type": "markdown",
   "metadata": {},
   "source": [
    "#### PB :- 155\n",
    "##### Write a program to check if year is a leap year or not (Nested If)."
   ]
  },
  {
   "cell_type": "code",
   "execution_count": 29,
   "metadata": {},
   "outputs": [
    {
     "name": "stdout",
     "output_type": "stream",
     "text": [
      "2028 is a leap year.\n"
     ]
    }
   ],
   "source": [
    "year = int(input(\"Enter a year: \"))\n",
    "\n",
    "if year % 4 == 0:\n",
    "    if year % 100 == 0:\n",
    "        if year % 400 == 0:\n",
    "            print(f\"{year} is a leap year.\")\n",
    "        else:\n",
    "            print(f\"{year} is not a leap year.\")\n",
    "    else:\n",
    "        print(f\"{year} is a leap year.\")\n",
    "else:\n",
    "    print(f\"{year} is not a leap year.\")\n"
   ]
  },
  {
   "cell_type": "markdown",
   "metadata": {},
   "source": [
    "#### PB :- 158\n",
    "##### Write a python program to read three numbers (a,b,c) and check how many numbers between ‘a’ and ‘b’ are divisible by ‘c’. "
   ]
  },
  {
   "cell_type": "code",
   "execution_count": 30,
   "metadata": {},
   "outputs": [
    {
     "name": "stdout",
     "output_type": "stream",
     "text": [
      "Total numbers between 1 and 10 that are divisible by 2: 5\n"
     ]
    }
   ],
   "source": [
    "# Input the values of a, b, and c from the user\n",
    "a = int(input(\"Enter the value of a (starting number): \"))\n",
    "b = int(input(\"Enter the value of b (ending number): \"))\n",
    "c = int(input(\"Enter the value of c (divisor): \"))\n",
    "\n",
    "# Initialize a counter for the numbers divisible by 'c'\n",
    "count = 0\n",
    "\n",
    "# Loop through the numbers between 'a' and 'b'\n",
    "for num in range(a, b + 1):\n",
    "    if num % c == 0:\n",
    "        count += 1\n",
    "\n",
    "# Display the result\n",
    "print(f\"Total numbers between {a} and {b} that are divisible by {c}: {count}\")\n"
   ]
  },
  {
   "cell_type": "markdown",
   "metadata": {},
   "source": [
    "#### PB :- 163\n",
    "##### Write a program to take 10 values from keyboard using loop and print their average on the screen."
   ]
  },
  {
   "cell_type": "code",
   "execution_count": 4,
   "metadata": {},
   "outputs": [
    {
     "name": "stdout",
     "output_type": "stream",
     "text": [
      "The average of the entered numbers is: 5.5\n"
     ]
    }
   ],
   "source": [
    "# Initialize a variable to store the sum of the numbers\n",
    "total_sum = 0\n",
    "\n",
    "# Loop to take 10 values from the user\n",
    "for i in range(10):\n",
    "    number = float(input(f\"Enter number {i+1}: \"))\n",
    "    total_sum += number\n",
    "\n",
    "# Calculate the average\n",
    "average = total_sum / 10\n",
    "\n",
    "# Display the average\n",
    "print(f\"The average of the entered numbers is: {average}\")\n"
   ]
  },
  {
   "cell_type": "markdown",
   "metadata": {},
   "source": [
    "#### PB :- 166\n",
    "##### Write a program to check if a number is prime or not."
   ]
  },
  {
   "cell_type": "code",
   "execution_count": 9,
   "metadata": {},
   "outputs": [
    {
     "name": "stdout",
     "output_type": "stream",
     "text": [
      "7 is a prime number.\n"
     ]
    }
   ],
   "source": [
    "# Input the number from the user\n",
    "number = int(input(\"Enter a number: \"))\n",
    "\n",
    "# Prime numbers are greater than 1\n",
    "if number > 1:\n",
    "    # Check if the number is divisible by any number between 2 and number - 1\n",
    "    for i in range(2, number):\n",
    "        if number % i == 0:\n",
    "            print(f\"{number} is not a prime number.\")\n",
    "            break\n",
    "    else:\n",
    "        print(f\"{number} is a prime number.\")\n",
    "else:\n",
    "    print(f\"{number} is not a prime number.\")\n"
   ]
  },
  {
   "cell_type": "markdown",
   "metadata": {},
   "source": [
    "#### PB :- 167\n",
    "##### Write a program to print prime numbers between given interval from user."
   ]
  },
  {
   "cell_type": "code",
   "execution_count": 10,
   "metadata": {},
   "outputs": [
    {
     "name": "stdout",
     "output_type": "stream",
     "text": [
      "Prime numbers between 1 and 10 are:\n",
      "2 3 5 7 "
     ]
    }
   ],
   "source": [
    "start = int(input(\"Enter the start of the interval: \"))\n",
    "end = int(input(\"Enter the end of the interval: \"))\n",
    "\n",
    "print(f\"Prime numbers between {start} and {end} are:\")\n",
    "\n",
    "def is_prime(num):\n",
    "    if num <= 1:\n",
    "        return False\n",
    "    elif num == 2:\n",
    "        return True\n",
    "    for i in range(2, num):\n",
    "        if num % i == 0:\n",
    "            return False\n",
    "    return True\n",
    "\n",
    "for num in range(start, end + 1):\n",
    "    if is_prime(num):\n",
    "        print(num, end=\" \")\n"
   ]
  },
  {
   "cell_type": "markdown",
   "metadata": {},
   "source": [
    "#### PB :- 180\n"
   ]
  },
  {
   "cell_type": "code",
   "execution_count": null,
   "metadata": {},
   "outputs": [],
   "source": [
    "gradelevel=input(\"Enter Grade level : \")\n",
    "city=int(input(\"ENetr number of city : \"))\n",
    "gpA=0\n",
    "apA=0\n",
    "if (gradelevel==\"A\"):\n",
    "    if city==1:\n",
    "        gpA=60000+(0.3*60000)+(0.5*60000)+8000+900-200-(0.11*60000)\n",
    "        apA=gpA*12\n",
    "    elif city==2:\n",
    "        gpA=60000+(0.2*60000)+(0.5*60000)+8000+900-200-(0.11*60000)\n",
    "        apA=gpA*12\n",
    "    elif city==2:\n",
    "        gpA=60000+(0.1*60000)+(0.5*60000)+8000+900-200-(0.11*60000)\n",
    "        apA=gpA*12\n",
    "elif (gradelevel==\"B\"):\n",
    "    if city==1:\n",
    "        gpA=50000+(0.3*50000)+(0.5*50000)+7000+900-200-(0.11*50000)\n",
    "        apA=gpA*12\n",
    "    elif city==2:\n",
    "        gpA=50000+(0.2*50000)+(0.5*50000)+7000+900-200-(0.11*50000)\n",
    "        apA=gpA*12\n",
    "    elif city==3:\n",
    "        gpA=50000+(0.1*50000)+(0.5*50000)+7000+900-200-(0.11*50000)\n",
    "        apA=gpA*12\n",
    "elif (gradelevel==\"C\"):\n",
    "    if city==1:\n",
    "        gpA=40000+(0.3*40000)+(0.5*40000)+6000+900-200-(0.11*40000)\n",
    "        apA=gpA*12\n",
    "    elif city==2:\n",
    "        gpA=40000+(0.2*40000)+(0.5*40000)+6000+900-200-(0.11*40000)\n",
    "        apA=gpA*12\n",
    "    elif city==3:\n",
    "        gpA=40000+(0.1*40000)+(0.5*40000)+6000+900-200-(0.11*40000)\n",
    "        apA=gpA*12\n",
    "elif (gradelevel==\"D\"):\n",
    "    if city==1:\n",
    "        gpA=30000+(0.3*30000)+(0.5*30000)+5000+900-200-(0.11*30000)\n",
    "        apA=gpA*12\n",
    "    elif city==2:\n",
    "        gpA=30000+(0.2*30000)+(0.5*30000)+5000+900-200-(0.11*30000)\n",
    "        apA=gpA*12\n",
    "    elif city==3:\n",
    "        gpA=30000+(0.1*30000)+(0.5*30000)+5000+900-200-(0.11*30000)\n",
    "        apA=gpA*12\n",
    "elif (gradelevel==\"E\"):\n",
    "    if city==1:\n",
    "        gpA=20000+(0.3*20000)+(0.5*20000)+4000+900-200-(0.11*20000)\n",
    "        apA=gpA*12\n",
    "    elif city==2:\n",
    "        gpA=20000+(0.2*20000)+(0.5*20000)+4000+900-200-(0.11*20000)\n",
    "        apA=gpA*12\n",
    "    elif city==3:\n",
    "        gpA=20000+(0.1*20000)+(0.5*20000)+4000+900-200-(0.11*20000)\n",
    "        apA=gpA*12\n",
    "elif (gradelevel==\"F\"):\n",
    "    if city==1:\n",
    "        gpA=10000+(0.3*10000)+(0.5*10000)+3000+900-200-(0.11*10000)\n",
    "        apA=gpA*12\n",
    "    elif city==2:\n",
    "        gpA=10000+(0.2*10000)+(0.5*10000)+3000+900-200-(0.11*10000)\n",
    "        apA=gpA*12\n",
    "    elif city==3:\n",
    "        gpA=10000+(0.1*10000)+(0.5*10000)+3000+900-200-(0.11*10000)\n",
    "        apA=gpA*12\n",
    "tax=0\n",
    "\n",
    "if apA<=250000:\n",
    "    print(\"Tax is rs.\",tax)\n",
    "elif apA>=250001 and apA<=500000:\n",
    "    tax=(apA-200000)*0.05\n",
    "    \n",
    "elif apA>=500001 and apA<=750000:\n",
    "    tax=((apA-500000)*0.1)+12500\n",
    "    \n",
    "elif apA>=750001 and apA<=1000000:\n",
    "    tax=((apA-750000)*0.15)+37500\n",
    "    \n",
    "elif apA>=1000001 and apA<=1250000:\n",
    "    tax=((apA-1000000)*0.20)+75000\n",
    "    \n",
    "elif apA>=1250001 and apA<=1500000:\n",
    "    tax=((apA-1250000)*0.25)+125000\n",
    "    \n",
    "elif apA>=1500000:\n",
    "    tax=((apA-1500000)*0.30)+187500\n",
    "print(\"gross pay \",gpA)\n",
    "print(\"Annual Pay : \",apA)\n",
    "print(\"Tax : \",tax)"
   ]
  },
  {
   "cell_type": "markdown",
   "metadata": {},
   "source": [
    "#### PB :- 181\n",
    "##### Write a python program to print all numbers between 1 and 100 (including 1 and 100) that are both, Disarium and Harshad numbers.A number is said to be a Disarium number when the sum of its digit raised to the power of their respective positions becomes equal to the number itself.For example, 175 is a Disarium number as follows:11+ 72 + 53 = 1+ 49 + 125 = 175A harshad number is a number that is divisible by the sum of its digits. E.g., the number 18 is a harshad number, because the sum of the digits 1 and 8 is 9 (1 + 8 = 9), and 18 is divisible by 9. Grading scheme:2 marks for writing correct code for checking Disarium number2 marks for writing correct code for checking Harshad number1 mark for writing correct code for only printing those numbers that are both, Disarium and Harshad numbers."
   ]
  },
  {
   "cell_type": "code",
   "execution_count": 13,
   "metadata": {},
   "outputs": [
    {
     "name": "stdout",
     "output_type": "stream",
     "text": [
      "Disarium and Harshad numbers between 1 and 100:\n",
      "[1, 2, 3, 4, 5, 6, 7, 8, 9]\n"
     ]
    }
   ],
   "source": []
  },
  {
   "cell_type": "markdown",
   "metadata": {},
   "source": [
    "#### PB :- 182"
   ]
  },
  {
   "cell_type": "code",
   "execution_count": 47,
   "metadata": {},
   "outputs": [
    {
     "name": "stdout",
     "output_type": "stream",
     "text": [
      "highest score 9\n",
      "lowest score 1\n",
      "Avg test score 4.181818181818182\n",
      "Second Largest Score 9\n",
      "Average after dropping the two lowest scores 4.888888888888889\n"
     ]
    }
   ],
   "source": [
    "sum=0\n",
    "count=1\n",
    "f_max=0\n",
    "f_min=100\n",
    "while count<11:\n",
    "    n=int(input(f\"enter {count} score\"))\n",
    "    if n>100:\n",
    "        print(\"enter valid Score\")\n",
    "        continue\n",
    "    count+=1\n",
    "    sum+=n\n",
    "    if n>f_max:\n",
    "        s_max=f_max\n",
    "        f_max=n\n",
    "    elif n>s_max and s_max!=f_max:\n",
    "         s_max=n\n",
    "    if n<f_min:\n",
    "        s_min=f_min\n",
    "        f_min=n\n",
    "    elif n<s_min and s_min!=f_min:\n",
    "        s_min=n\n",
    "print(\"highest score\",f_max)\n",
    "print(\"lowest score\",f_min)\n",
    "print(\"Avg test score\",sum/count)\n",
    "print(\"Second Largest Score\",s_max)\n",
    "print(\"Average after dropping the two lowest scores\",(sum-f_min-s_min)/(count-2))"
   ]
  },
  {
   "cell_type": "markdown",
   "metadata": {},
   "source": [
    "#### PB :- 183"
   ]
  },
  {
   "cell_type": "code",
   "execution_count": 51,
   "metadata": {},
   "outputs": [
    {
     "name": "stdout",
     "output_type": "stream",
     "text": [
      "23456\n"
     ]
    }
   ],
   "source": [
    "num = int(input(\"Enter no : \"))\n",
    "\n",
    "en_num = 0\n",
    "multiplier = 1\n",
    "\n",
    "while num > 0:\n",
    "    rem = num % 10\n",
    "    if rem == 9:\n",
    "        encoded_digit = 0\n",
    "    else:\n",
    "        encoded_digit = rem + 1\n",
    "    \n",
    "    en_num += encoded_digit * multiplier\n",
    "    multiplier *= 10\n",
    "    num //= 10\n",
    "\n",
    "print(en_num)"
   ]
  },
  {
   "cell_type": "markdown",
   "metadata": {},
   "source": [
    "#### PB :- 184"
   ]
  },
  {
   "cell_type": "code",
   "execution_count": 52,
   "metadata": {},
   "outputs": [
    {
     "name": "stdout",
     "output_type": "stream",
     "text": [
      "The number after swapping first and last digits is: 923456781\n"
     ]
    }
   ],
   "source": [
    "n1 = int(input(\"Nter Number : \"))\n",
    "\n",
    "temp = n1\n",
    "digit_count = 0\n",
    "\n",
    "while n1 > 0:\n",
    "    temp //= 10\n",
    "    digit_count += 1\n",
    "\n"
   ]
  },
  {
   "cell_type": "markdown",
   "metadata": {},
   "source": [
    "#### disirium Code."
   ]
  },
  {
   "cell_type": "code",
   "execution_count": 35,
   "metadata": {},
   "outputs": [
    {
     "name": "stdout",
     "output_type": "stream",
     "text": [
      "Yes, it is a Disarium number.\n"
     ]
    }
   ],
   "source": [
    "def check(number):\n",
    "    temp = number\n",
    "    sum_d = 0\n",
    "    digit_count = 0\n",
    "    temp_copy = temp \n",
    "    \n",
    "    while temp:\n",
    "        temp //= 10\n",
    "        digit_count += 1\n",
    "\n",
    "    while temp_copy > 0:\n",
    "        digit = temp_copy % 10\n",
    "        sum_d += digit ** digit_count\n",
    "        temp_copy //= 10\n",
    "        digit_count -= 1\n",
    "\n",
    "    if sum_d == number:\n",
    "        print(\"Yes, it is a Disarium number.\")\n",
    "    else:\n",
    "        print(\"No, it is not a Disarium number.\")\n",
    "\n",
    "# Take input from the user\n",
    "number = int(input(\"Enter a number: \"))\n",
    "check(number)\n"
   ]
  },
  {
   "cell_type": "markdown",
   "metadata": {},
   "source": [
    "### Harshad Code."
   ]
  },
  {
   "cell_type": "code",
   "execution_count": 36,
   "metadata": {},
   "outputs": [
    {
     "name": "stdout",
     "output_type": "stream",
     "text": [
      "Its an harshad no.\n"
     ]
    }
   ],
   "source": [
    "def check(number):\n",
    "    temp = number\n",
    "    digit_sum = 0\n",
    "\n",
    "    while temp > 0:\n",
    "        digit_sum += temp % 10\n",
    "        temp //= 10\n",
    "    \n",
    "    if digit_sum % number == 0:\n",
    "        print(\"Its an harshad no.\")\n",
    "    else:\n",
    "        print(\"Its not a harshad no.\")\n",
    "\n",
    "number = int(input(\"Enter no : \"))\n",
    "\n",
    "check(number)"
   ]
  },
  {
   "cell_type": "markdown",
   "metadata": {},
   "source": [
    "### Both harshad and disirium code and range is 1 to 100"
   ]
  },
  {
   "cell_type": "code",
   "execution_count": 13,
   "metadata": {},
   "outputs": [
    {
     "name": "stdout",
     "output_type": "stream",
     "text": [
      "1 is both Disarium and Harshad.\n",
      "2 is both Disarium and Harshad.\n",
      "3 is both Disarium and Harshad.\n",
      "4 is both Disarium and Harshad.\n",
      "5 is both Disarium and Harshad.\n",
      "6 is both Disarium and Harshad.\n",
      "7 is both Disarium and Harshad.\n",
      "8 is both Disarium and Harshad.\n",
      "9 is both Disarium and Harshad.\n"
     ]
    }
   ],
   "source": [
    "for number in range(1, 100):\n",
    "    # Counting the number of digits\n",
    "    digit_count = 0\n",
    "    temp = number\n",
    "    while temp:\n",
    "        temp //= 10\n",
    "        digit_count += 1\n",
    "\n",
    "    # Calculating the sum for Disarium check\n",
    "    temp_copy = number\n",
    "    sum_dis = 0\n",
    "    while temp_copy > 0:\n",
    "        digit = temp_copy % 10\n",
    "        sum_dis += digit ** digit_count\n",
    "        temp_copy //= 10\n",
    "        digit_count -= 1\n",
    "\n",
    "    # Calculating the sum of digits for Harshad check\n",
    "    digit_sum = 0\n",
    "    temp = number\n",
    "    while temp > 0:\n",
    "        digit_sum += temp % 10\n",
    "        temp //= 10\n",
    "\n",
    "    # Checking both Disarium and Harshad conditions\n",
    "    if sum_dis == number and number % digit_sum == 0:\n",
    "        print(f\"{number} is both Disarium and Harshad.\")"
   ]
  },
  {
   "cell_type": "markdown",
   "metadata": {},
   "source": [
    "#### PB :- 185\n",
    "##### Butterfly Pattern."
   ]
  },
  {
   "cell_type": "code",
   "execution_count": 18,
   "metadata": {},
   "outputs": [
    {
     "name": "stdout",
     "output_type": "stream",
     "text": [
      "*        *\n",
      "**      **\n",
      "***    ***\n",
      "****  ****\n",
      "**********\n",
      "****  ****\n",
      "***    ***\n",
      "**      **\n",
      "*        *\n"
     ]
    }
   ],
   "source": [
    "def fly(number):\n",
    "    for i in range(1,n+1):\n",
    "        for j in range(i):\n",
    "            print(\"*\",end=\"\")\n",
    "        for j in range(2 * (n-i)):\n",
    "            print(\" \",end=\"\")\n",
    "        for j in range(i):\n",
    "            print(\"*\",end=\"\")\n",
    "        print()\n",
    "    \n",
    "    for i in range(n-1,0,-1):\n",
    "        for j in range(i):\n",
    "            print(\"*\",end=\"\")\n",
    "        for j in range(2 * (n-i)):\n",
    "            print(\" \",end=\"\")\n",
    "        for j in range(i):\n",
    "            print(\"*\",end=\"\")\n",
    "        print()\n",
    "\n",
    "number = int(input(\"ENter no : \"))\n",
    "fly(number)"
   ]
  },
  {
   "cell_type": "markdown",
   "metadata": {},
   "source": [
    "#### GCD."
   ]
  },
  {
   "cell_type": "code",
   "execution_count": 19,
   "metadata": {},
   "outputs": [
    {
     "name": "stdout",
     "output_type": "stream",
     "text": [
      "50\n"
     ]
    }
   ],
   "source": [
    "a = int(input(\"nter no = \"))\n",
    "b = int(input('nter second no = '))\n",
    "\n",
    "if a<=0 or b<=0:\n",
    "    print(\"both numbers should be positive\")\n",
    "else:\n",
    "    while b!= 0:\n",
    "        temp = b\n",
    "        b = a % b\n",
    "        a = temp\n",
    "    print(a)\n"
   ]
  },
  {
   "cell_type": "markdown",
   "metadata": {},
   "source": [
    "#### PB :- 188\n"
   ]
  },
  {
   "cell_type": "code",
   "execution_count": 25,
   "metadata": {},
   "outputs": [
    {
     "name": "stdout",
     "output_type": "stream",
     "text": [
      "no number enterd\n"
     ]
    }
   ],
   "source": [
    "count = 0\n",
    "min = None\n",
    "max = None\n",
    "sum = 0\n",
    "\n",
    "number = input('Enter a number or Quit to exit : ')\n",
    "\n",
    "while number != \"Quit\":\n",
    "    number = int(number)\n",
    "    sum += number\n",
    "    count += 1\n",
    "\n",
    "    if min is None or number < min:\n",
    "        min = number\n",
    "\n",
    "    if max is None or max < number:\n",
    "        max = number\n",
    "\n",
    "    number = input('Enter a number or Quit to exit : ')\n",
    "\n",
    "if count>0 and sum>0:\n",
    "    avg = sum / count\n",
    "    print(\"sum :\",sum)\n",
    "    print(\"Max :\",max)\n",
    "    print(\"Min :\",min)\n",
    "    print(\"Average :\",avg)\n",
    "else:\n",
    "    print(\"no number enterd\")\n",
    "    "
   ]
  },
  {
   "cell_type": "markdown",
   "metadata": {},
   "source": [
    "#### Collatz."
   ]
  },
  {
   "cell_type": "code",
   "execution_count": 2,
   "metadata": {},
   "outputs": [
    {
     "name": "stdout",
     "output_type": "stream",
     "text": [
      "Straing number : 10\n",
      "5.0\n",
      "16.0\n",
      "8.0\n",
      "4.0\n",
      "2.0\n",
      "1.0\n"
     ]
    }
   ],
   "source": [
    "def col(number):\n",
    "    print(f\"Straing number : {number}\")\n",
    "\n",
    "    while number != 1:\n",
    "        if number % 2 == 0:\n",
    "            number = number / 2\n",
    "        else:\n",
    "            number = 3 * number + 1\n",
    "        print(number)\n",
    "\n",
    "\n",
    "number = int(input('ENter no : '))\n",
    "col(number)"
   ]
  },
  {
   "cell_type": "markdown",
   "metadata": {},
   "source": [
    "#### 20 Program to convert seconds into hour:min:seconds format."
   ]
  },
  {
   "cell_type": "code",
   "execution_count": 8,
   "metadata": {},
   "outputs": [
    {
     "name": "stdout",
     "output_type": "stream",
     "text": [
      "seconds value in hours: 1\n",
      "seconds value in minutes: 0\n",
      "Time is:  1 : 0 : 1\n"
     ]
    }
   ],
   "source": [
    "sec = int(input(\"Enter seconds: \"))\n",
    "hour = sec // 3600\n",
    "sec %= 3600\n",
    "min = sec // 60\n",
    "sec %= 60\n",
    "print(\"seconds value in hours:\",hour)\n",
    "print(\"seconds value in minutes:\",min)\n",
    "print(\"Time is: \",hour,\":\",min,\":\",sec)"
   ]
  }
 ],
 "metadata": {
  "kernelspec": {
   "display_name": "Python 3",
   "language": "python",
   "name": "python3"
  },
  "language_info": {
   "codemirror_mode": {
    "name": "ipython",
    "version": 3
   },
   "file_extension": ".py",
   "mimetype": "text/x-python",
   "name": "python",
   "nbconvert_exporter": "python",
   "pygments_lexer": "ipython3",
   "version": "3.12.4"
  }
 },
 "nbformat": 4,
 "nbformat_minor": 2
}

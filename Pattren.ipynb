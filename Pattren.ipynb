{
 "cells": [
  {
   "cell_type": "markdown",
   "metadata": {},
   "source": [
    "### Pattern - 1"
   ]
  },
  {
   "cell_type": "code",
   "execution_count": 1,
   "metadata": {},
   "outputs": [
    {
     "name": "stdout",
     "output_type": "stream",
     "text": [
      "* \n",
      "* * \n",
      "* * * \n",
      "* * * * \n",
      "* * * * * \n"
     ]
    }
   ],
   "source": [
    "n = int(input(\"Enter number of rows = \"))\n",
    "for i in range(1,n+1):\n",
    "    for j in range(1,i+1):\n",
    "        print(\"*\",end=\" \")\n",
    "    print()"
   ]
  },
  {
   "cell_type": "code",
   "execution_count": 2,
   "metadata": {},
   "outputs": [
    {
     "name": "stdout",
     "output_type": "stream",
     "text": [
      "1 \n",
      "2 2 \n",
      "3 3 3 \n",
      "4 4 4 4 \n",
      "5 5 5 5 5 \n"
     ]
    }
   ],
   "source": [
    "n = int(input(\"Enter number of rows = \"))\n",
    "for i in range(1,n+1):\n",
    "    for j in range(1,i+1):\n",
    "        print(i,end=\" \")\n",
    "    print()"
   ]
  },
  {
   "cell_type": "code",
   "execution_count": 3,
   "metadata": {},
   "outputs": [
    {
     "name": "stdout",
     "output_type": "stream",
     "text": [
      "1 \n",
      "1 2 \n",
      "1 2 3 \n",
      "1 2 3 4 \n",
      "1 2 3 4 5 \n"
     ]
    }
   ],
   "source": [
    "n = int(input(\"Enter number of rows = \"))\n",
    "for i in range(1,n+1):\n",
    "    for j in range(1,i+1):\n",
    "        print(j,end=\" \")\n",
    "    print()"
   ]
  },
  {
   "cell_type": "code",
   "execution_count": 4,
   "metadata": {},
   "outputs": [
    {
     "name": "stdout",
     "output_type": "stream",
     "text": [
      "1 \n",
      "2 3 \n",
      "4 5 6 \n",
      "7 8 9 10 \n"
     ]
    }
   ],
   "source": [
    "n = int(input(\"Enter number of rows = \"))\n",
    "k = 1\n",
    "for i in range(1,n+1):\n",
    "    for j in range(1,i+1):\n",
    "        print(k,end=\" \")\n",
    "        k += 1\n",
    "    print()"
   ]
  },
  {
   "cell_type": "code",
   "execution_count": 5,
   "metadata": {},
   "outputs": [
    {
     "name": "stdout",
     "output_type": "stream",
     "text": [
      "A \n",
      "B C \n",
      "D E F \n",
      "G H I J \n"
     ]
    }
   ],
   "source": [
    "n = int(input(\"Enter number of rows = \"))\n",
    "k = 65\n",
    "for i in range(1,n+1):\n",
    "    for j in range(1,i+1):\n",
    "        print(chr(k),end=\" \")\n",
    "        k += 1\n",
    "    print()"
   ]
  },
  {
   "cell_type": "code",
   "execution_count": 6,
   "metadata": {},
   "outputs": [
    {
     "name": "stdout",
     "output_type": "stream",
     "text": [
      "a \n",
      "b c \n",
      "d e f \n",
      "g h i j \n"
     ]
    }
   ],
   "source": [
    "n = int(input(\"Enter number of rows = \"))\n",
    "k = 97\n",
    "for i in range(1,n+1):\n",
    "    for j in range(1,i+1):\n",
    "        print(chr(k),end=\" \")\n",
    "        k += 1\n",
    "    print()"
   ]
  },
  {
   "cell_type": "code",
   "execution_count": 7,
   "metadata": {},
   "outputs": [
    {
     "name": "stdout",
     "output_type": "stream",
     "text": [
      "A \n",
      "A B \n",
      "A B C \n",
      "A B C D \n",
      "A B C D E \n"
     ]
    }
   ],
   "source": [
    "n = int(input(\"Enter number of rows = \"))\n",
    "for i in range(1,n+1):\n",
    "    k = 65\n",
    "    for j in range(1,i+1):\n",
    "        print(chr(k),end=\" \")\n",
    "        k += 1\n",
    "    print()"
   ]
  },
  {
   "cell_type": "code",
   "execution_count": 22,
   "metadata": {},
   "outputs": [
    {
     "name": "stdout",
     "output_type": "stream",
     "text": [
      "A \n",
      "B B \n",
      "C C C \n",
      "D D D D \n",
      "E E E E E \n"
     ]
    }
   ],
   "source": [
    "k = 65\n",
    "for i in range(1,6):\n",
    "    for j in range(1,i+1):\n",
    "        print(chr(k),end=\" \")\n",
    "    print()\n",
    "    k += 1"
   ]
  },
  {
   "cell_type": "code",
   "execution_count": 24,
   "metadata": {},
   "outputs": [
    {
     "name": "stdout",
     "output_type": "stream",
     "text": [
      "1 \n",
      "A B \n",
      "2 3 4 \n",
      "C D E F \n"
     ]
    }
   ],
   "source": [
    "n = int(input(\"\\nenter no to create number pattern : \"))\n",
    "k = 65\n",
    "num = 1\n",
    "for i in range(1,n+1):\n",
    "    for j in range(1,i+1):\n",
    "        if i%2 != 0:\n",
    "            print(num,end=\" \")\n",
    "            num+=1\n",
    "        else: \n",
    "            print(chr(k),end=\" \")\n",
    "            k+=1\n",
    "    print()"
   ]
  },
  {
   "cell_type": "code",
   "execution_count": 77,
   "metadata": {},
   "outputs": [
    {
     "name": "stdout",
     "output_type": "stream",
     "text": [
      "* \n",
      "# # \n",
      "* * * \n",
      "# # # # \n",
      "* * * * * \n"
     ]
    }
   ],
   "source": [
    "n = int(input(\"Enter number of rows = \"))\n",
    "for i in range(1,n+1):\n",
    "    for j in range(1,i+1):\n",
    "        if i % 2 == 0:\n",
    "            print(\"#\",end=\" \")\n",
    "        else:\n",
    "            print(\"*\",end=\" \")\n",
    "    print()"
   ]
  },
  {
   "cell_type": "code",
   "execution_count": 10,
   "metadata": {},
   "outputs": [
    {
     "name": "stdout",
     "output_type": "stream",
     "text": [
      "1 \n",
      "0 1 \n",
      "1 0 1 \n",
      "0 1 0 1 \n"
     ]
    }
   ],
   "source": [
    "n = int(input(\"Enter number of rows = \"))\n",
    "for i in range(1,n+1):\n",
    "    for j in range(1,i+1):\n",
    "        if (i + j) % 2 == 0:\n",
    "            print(\"1\",end=\" \")\n",
    "        else:\n",
    "            print(\"0\",end=\" \")\n",
    "    print()"
   ]
  },
  {
   "cell_type": "markdown",
   "metadata": {},
   "source": [
    "### Pattern 2"
   ]
  },
  {
   "cell_type": "code",
   "execution_count": 47,
   "metadata": {},
   "outputs": [
    {
     "name": "stdout",
     "output_type": "stream",
     "text": [
      "* * * * * \n",
      "* * * * \n",
      "* * * \n",
      "* * \n",
      "* \n"
     ]
    }
   ],
   "source": [
    "n = int(input(\"Enter number of rows = \"))\n",
    "for i in range(n,0,-1):\n",
    "    for j in range(1,i+1):\n",
    "        print(\"*\",end=\" \")\n",
    "    print()"
   ]
  },
  {
   "cell_type": "code",
   "execution_count": 42,
   "metadata": {},
   "outputs": [
    {
     "name": "stdout",
     "output_type": "stream",
     "text": [
      "5 5 5 5 5 \n",
      "4 4 4 4 \n",
      "3 3 3 \n",
      "2 2 \n",
      "1 \n"
     ]
    }
   ],
   "source": [
    "n = int(input(\"Enter number of rows = \"))\n",
    "for i in range(n,0,-1):\n",
    "    for j in range(1,i+1):\n",
    "        print(i,end=\" \")\n",
    "    print()"
   ]
  },
  {
   "cell_type": "code",
   "execution_count": 46,
   "metadata": {},
   "outputs": [
    {
     "name": "stdout",
     "output_type": "stream",
     "text": [
      "1 2 3 4 5 \n",
      "1 2 3 4 \n",
      "1 2 3 \n",
      "1 2 \n",
      "1 \n"
     ]
    }
   ],
   "source": [
    "n = int(input(\"Enter number of rows = \"))\n",
    "for i in range(n,0,-1):\n",
    "    for j in range(1,i+1):\n",
    "        print(j,end=\" \")\n",
    "    print()"
   ]
  },
  {
   "cell_type": "markdown",
   "metadata": {},
   "source": [
    "### Pattern 3"
   ]
  },
  {
   "cell_type": "code",
   "execution_count": 84,
   "metadata": {},
   "outputs": [
    {
     "name": "stdout",
     "output_type": "stream",
     "text": [
      "* * * * * * \n",
      "  * * * * * \n",
      "    * * * * \n",
      "      * * * \n",
      "        * * \n",
      "          * \n"
     ]
    }
   ],
   "source": [
    "n = int(input(\"Enter No. of Rows : \"))\n",
    "\n",
    "for i in range(n):\n",
    "    for j in range(i):\n",
    "        print(\" \",end=\" \")\n",
    "    for k in range(n-i):\n",
    "        print(\"*\",end=\" \")\n",
    "    print()"
   ]
  },
  {
   "cell_type": "markdown",
   "metadata": {},
   "source": [
    "### Pattern 4"
   ]
  },
  {
   "cell_type": "code",
   "execution_count": 63,
   "metadata": {},
   "outputs": [
    {
     "name": "stdout",
     "output_type": "stream",
     "text": [
      "* * * * * \n",
      " * * * * \n",
      "  * * * \n",
      "   * * \n",
      "    * \n"
     ]
    }
   ],
   "source": [
    "n = int(input(\"Enter number of rows = \"))\n",
    "for i in range(1,n+1):\n",
    "    for j in range(1,i):\n",
    "        print(\" \",end=\"\")\n",
    "    for k in range(i,n+1):\n",
    "        print(\"*\",end=\" \")\n",
    "    print()"
   ]
  },
  {
   "cell_type": "code",
   "execution_count": 90,
   "metadata": {},
   "outputs": [
    {
     "name": "stdout",
     "output_type": "stream",
     "text": [
      "    * \n",
      "   * * \n",
      "  * * * \n",
      " * * * * \n",
      "* * * * * \n"
     ]
    }
   ],
   "source": [
    "n = int(input(\"Enter No . of Rows : \"))\n",
    "\n",
    "for i in range(n):\n",
    "    for j in range(n-i-1):\n",
    "        print(\" \",end=\"\")\n",
    "    for k in range(i + 1):\n",
    "        print(\"*\",end=\" \")\n",
    "    print()"
   ]
  },
  {
   "cell_type": "markdown",
   "metadata": {},
   "source": [
    "### Pattern 5"
   ]
  },
  {
   "cell_type": "code",
   "execution_count": 73,
   "metadata": {},
   "outputs": [
    {
     "name": "stdout",
     "output_type": "stream",
     "text": [
      "    *\n",
      "   **\n",
      "  ***\n",
      " ****\n",
      "*****\n"
     ]
    }
   ],
   "source": [
    "n = int(input(\"Enter number of rows = \"))\n",
    "for i in range(1,n+1):\n",
    "    for j in range(1,n+1-i):\n",
    "        print(\" \",end=\"\")\n",
    "    for k in range(i):\n",
    "        print(\"*\",end=\"\")\n",
    "    print()"
   ]
  },
  {
   "cell_type": "code",
   "execution_count": 94,
   "metadata": {},
   "outputs": [
    {
     "name": "stdout",
     "output_type": "stream",
     "text": [
      "   1 \n",
      "  2 2 \n",
      " 3 3 3 \n",
      "4 4 4 4 \n"
     ]
    }
   ],
   "source": [
    "n = int(input(\"Enter number of rows = \"))\n",
    "for i in range(1,n+1):\n",
    "    for j in range(n-i):\n",
    "        print(\" \",end=\" \")\n",
    "    for k in range(i):\n",
    "        print(i,end=\" \")\n",
    "    print()"
   ]
  },
  {
   "cell_type": "code",
   "execution_count": 78,
   "metadata": {},
   "outputs": [
    {
     "name": "stdout",
     "output_type": "stream",
     "text": [
      "     * \n",
      "    # # \n",
      "   * * * \n",
      "  # # # # \n",
      " * * * * * \n",
      "# # # # # # \n"
     ]
    }
   ],
   "source": [
    "n = int(input(\"Enter number of rows = \"))\n",
    "for i in range(1,n+1):\n",
    "    for j in range(1,n+1-i):\n",
    "        print(\" \",end=\"\")\n",
    "    for k in range(i):\n",
    "        if i % 2 == 0:\n",
    "            print(\"#\",end=\" \")\n",
    "        else:\n",
    "            print(\"*\",end=\" \")\n",
    "    print()"
   ]
  },
  {
   "cell_type": "code",
   "execution_count": 93,
   "metadata": {},
   "outputs": [
    {
     "name": "stdout",
     "output_type": "stream",
     "text": [
      "        1   \n",
      "      1   2   \n",
      "    1   2   3   \n",
      "  1   2   3   4   \n",
      "1   2   3   4   5   \n"
     ]
    }
   ],
   "source": [
    "n = int(input(\"Enter No. Of Rows : \"))\n",
    "\n",
    "for i in range(1,n+1):\n",
    "    for j in range(n-i):\n",
    "        print(\" \",end=\" \")\n",
    "    for k in range(1,i+1):\n",
    "        print(k,\" \",end=\" \")\n",
    "    print()"
   ]
  },
  {
   "cell_type": "code",
   "execution_count": 8,
   "metadata": {},
   "outputs": [
    {
     "name": "stdout",
     "output_type": "stream",
     "text": [
      "* * * * * * * * * * \n",
      "* * * *     * * * * \n",
      "* * *         * * * \n",
      "* *             * * \n",
      "*                 * \n",
      "*                 * \n",
      "* *             * * \n",
      "* * *         * * * \n",
      "* * * *     * * * * \n",
      "* * * * * * * * * * \n"
     ]
    }
   ],
   "source": [
    "n = int(input(\"Enter no of rows : \"))\n",
    "\n",
    "for i in range(n):\n",
    "    for j in range(n,i,-1):\n",
    "        print(\"*\", end=\" \")\n",
    "    for j in range(i):\n",
    "        print(\" \"*3, end=\" \")\n",
    "    for j in range(n,i,-1):\n",
    "        print(\"*\", end=\" \")\n",
    "    print()\n",
    "\n",
    "for i in range(n):\n",
    "    for j in range(i+1):\n",
    "        print(\"*\", end=\" \")\n",
    "    for j in range(n,i+1,-1):\n",
    "        print(\" \"*3, end=\" \")\n",
    "    for j in range(i+1):\n",
    "        print(\"*\", end=\" \")\n",
    "    print()"
   ]
  },
  {
   "cell_type": "code",
   "execution_count": 2,
   "metadata": {},
   "outputs": [
    {
     "name": "stdout",
     "output_type": "stream",
     "text": [
      "     \n",
      "    *\n",
      "   ***\n",
      "  *****\n",
      " *******\n",
      "*********\n",
      " *******\n",
      "  *****\n",
      "   ***\n",
      "    *\n"
     ]
    }
   ],
   "source": [
    "n = int(input(\"ENter no of height of diomand : \"))\n",
    "\n",
    "for i in range(n):\n",
    "    for j in range(n-i):\n",
    "        print(\" \",end=\"\")\n",
    "    for j in range((i * 2)-1):\n",
    "        print(\"*\",end=\"\")\n",
    "    print()\n",
    "\n",
    "for i in range(n,0,-1):\n",
    "    for j in range(n - i):\n",
    "        print(\" \",end=\"\")\n",
    "    for j in range((2 * i)-1):\n",
    "        print(\"*\",end=\"\")\n",
    "    print()"
   ]
  }
 ],
 "metadata": {
  "kernelspec": {
   "display_name": "Python 3",
   "language": "python",
   "name": "python3"
  },
  "language_info": {
   "codemirror_mode": {
    "name": "ipython",
    "version": 3
   },
   "file_extension": ".py",
   "mimetype": "text/x-python",
   "name": "python",
   "nbconvert_exporter": "python",
   "pygments_lexer": "ipython3",
   "version": "3.12.4"
  }
 },
 "nbformat": 4,
 "nbformat_minor": 2
}

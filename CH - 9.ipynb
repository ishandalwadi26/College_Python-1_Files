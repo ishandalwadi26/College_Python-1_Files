{
 "cells": [
  {
   "cell_type": "markdown",
   "metadata": {},
   "source": [
    "# CH - 9 Advanced OOPS and Numpy"
   ]
  },
  {
   "cell_type": "markdown",
   "metadata": {},
   "source": [
    "### Polymorphism\n",
    "    poly = many\n",
    "    morph = forms"
   ]
  },
  {
   "cell_type": "markdown",
   "metadata": {},
   "source": [
    "### Overloading - compile time polymorphism(not possible in python)\n",
    "    # It occurs in same class\n",
    "    # methods must have the same name and different parameters\n",
    "    # Python does not support method Overloading"
   ]
  },
  {
   "cell_type": "markdown",
   "metadata": {},
   "source": [
    "### Overriding - runtime polymorphism\n",
    "     # It occurs in deifferent classes via inheritance\n",
    "     # Methods must have same name and same parameters\n",
    "     # Python supports method Overriding"
   ]
  },
  {
   "cell_type": "markdown",
   "metadata": {},
   "source": [
    "### Examples of method Overloading"
   ]
  },
  {
   "cell_type": "code",
   "execution_count": 5,
   "metadata": {},
   "outputs": [
    {
     "name": "stdout",
     "output_type": "stream",
     "text": [
      "12\n"
     ]
    },
    {
     "ename": "TypeError",
     "evalue": "area() missing 1 required positional argument: 'b'",
     "output_type": "error",
     "traceback": [
      "\u001b[1;31m---------------------------------------------------------------------------\u001b[0m",
      "\u001b[1;31mTypeError\u001b[0m                                 Traceback (most recent call last)",
      "\u001b[1;32m<ipython-input-5-161f26278772>\u001b[0m in \u001b[0;36m<module>\u001b[1;34m\u001b[0m\n\u001b[0;32m      6\u001b[0m \u001b[0ms\u001b[0m \u001b[1;33m=\u001b[0m \u001b[0mShape\u001b[0m\u001b[1;33m(\u001b[0m\u001b[1;33m)\u001b[0m\u001b[1;33m\u001b[0m\u001b[1;33m\u001b[0m\u001b[0m\n\u001b[0;32m      7\u001b[0m \u001b[0mprint\u001b[0m\u001b[1;33m(\u001b[0m\u001b[0ms\u001b[0m\u001b[1;33m.\u001b[0m\u001b[0marea\u001b[0m\u001b[1;33m(\u001b[0m\u001b[1;36m3\u001b[0m\u001b[1;33m,\u001b[0m\u001b[1;36m4\u001b[0m\u001b[1;33m)\u001b[0m\u001b[1;33m)\u001b[0m\u001b[1;33m\u001b[0m\u001b[1;33m\u001b[0m\u001b[0m\n\u001b[1;32m----> 8\u001b[1;33m \u001b[0mprint\u001b[0m\u001b[1;33m(\u001b[0m\u001b[0ms\u001b[0m\u001b[1;33m.\u001b[0m\u001b[0marea\u001b[0m\u001b[1;33m(\u001b[0m\u001b[1;36m2\u001b[0m\u001b[1;33m,\u001b[0m\u001b[1;33m)\u001b[0m\u001b[1;33m)\u001b[0m\u001b[1;33m\u001b[0m\u001b[1;33m\u001b[0m\u001b[0m\n\u001b[0m",
      "\u001b[1;31mTypeError\u001b[0m: area() missing 1 required positional argument: 'b'"
     ]
    }
   ],
   "source": [
    "class Shape:\n",
    "    def area(self,a):\n",
    "        return 3.14*a*a\n",
    "    def area(self,a,b):\n",
    "        return a*b\n",
    "s = Shape()\n",
    "print(s.area(3,4))\n",
    "print(s.area(2,))"
   ]
  },
  {
   "cell_type": "code",
   "execution_count": 7,
   "metadata": {},
   "outputs": [
    {
     "ename": "TypeError",
     "evalue": "area() missing 1 required positional argument: 'b'",
     "output_type": "error",
     "traceback": [
      "\u001b[1;31m---------------------------------------------------------------------------\u001b[0m",
      "\u001b[1;31mTypeError\u001b[0m                                 Traceback (most recent call last)",
      "\u001b[1;32m<ipython-input-7-80662ada1d30>\u001b[0m in \u001b[0;36m<module>\u001b[1;34m\u001b[0m\n\u001b[0;32m      5\u001b[0m         \u001b[1;32mreturn\u001b[0m \u001b[0ma\u001b[0m\u001b[1;33m*\u001b[0m\u001b[0mb\u001b[0m\u001b[1;33m\u001b[0m\u001b[1;33m\u001b[0m\u001b[0m\n\u001b[0;32m      6\u001b[0m \u001b[0ms\u001b[0m \u001b[1;33m=\u001b[0m \u001b[0mShape\u001b[0m\u001b[1;33m(\u001b[0m\u001b[1;33m)\u001b[0m\u001b[1;33m\u001b[0m\u001b[1;33m\u001b[0m\u001b[0m\n\u001b[1;32m----> 7\u001b[1;33m \u001b[0mprint\u001b[0m\u001b[1;33m(\u001b[0m\u001b[0ms\u001b[0m\u001b[1;33m.\u001b[0m\u001b[0marea\u001b[0m\u001b[1;33m(\u001b[0m\u001b[1;36m2\u001b[0m\u001b[1;33m,\u001b[0m\u001b[1;33m)\u001b[0m\u001b[1;33m)\u001b[0m\u001b[1;33m\u001b[0m\u001b[1;33m\u001b[0m\u001b[0m\n\u001b[0m\u001b[0;32m      8\u001b[0m \u001b[0mprint\u001b[0m\u001b[1;33m(\u001b[0m\u001b[0ms\u001b[0m\u001b[1;33m.\u001b[0m\u001b[0marea\u001b[0m\u001b[1;33m(\u001b[0m\u001b[1;36m3\u001b[0m\u001b[1;33m,\u001b[0m\u001b[1;36m4\u001b[0m\u001b[1;33m)\u001b[0m\u001b[1;33m)\u001b[0m\u001b[1;33m\u001b[0m\u001b[1;33m\u001b[0m\u001b[0m\n",
      "\u001b[1;31mTypeError\u001b[0m: area() missing 1 required positional argument: 'b'"
     ]
    }
   ],
   "source": [
    "class Shape:\n",
    "    def area(self,a):\n",
    "        return 3.14*a*a\n",
    "    def area(self,a,b):\n",
    "        return a*b\n",
    "s = Shape()\n",
    "print(s.area(2,))\n",
    "print(s.area(3,4))"
   ]
  },
  {
   "cell_type": "code",
   "execution_count": 8,
   "metadata": {},
   "outputs": [
    {
     "name": "stdout",
     "output_type": "stream",
     "text": [
      "4\n",
      "12\n"
     ]
    }
   ],
   "source": [
    "class Shape:\n",
    "    def area(self,a):\n",
    "        return 3.14*a*a\n",
    "    def area(self,a,b):\n",
    "        return a*b\n",
    "s = Shape()\n",
    "print(s.area(2,2))\n",
    "print(s.area(3,4))"
   ]
  },
  {
   "cell_type": "markdown",
   "metadata": {},
   "source": [
    "### Explanation of Method Overriding"
   ]
  },
  {
   "cell_type": "code",
   "execution_count": 11,
   "metadata": {},
   "outputs": [
    {
     "name": "stdout",
     "output_type": "stream",
     "text": [
      "Addition =  5\n",
      "Multiplication =  6\n",
      "Addition =  5\n"
     ]
    }
   ],
   "source": [
    "class Add:\n",
    "    def result(self,a,b):\n",
    "        print(\"Addition = \",a+b)\n",
    "class Multi(Add):\n",
    "    def result(self,a,b):\n",
    "        super().result(a,b)\n",
    "        print(\"Multiplication = \",a*b)\n",
    "a = Multi()\n",
    "a.result(2,3)\n",
    "m = Add()\n",
    "m.result(2,3)"
   ]
  },
  {
   "cell_type": "code",
   "execution_count": 15,
   "metadata": {},
   "outputs": [
    {
     "name": "stdout",
     "output_type": "stream",
     "text": [
      "First Function of class A\n",
      "First Function of class B\n",
      "Second Function of class A\n",
      "Second Function of class A\n",
      "Display Function of class B\n"
     ]
    }
   ],
   "source": [
    "class A:\n",
    "    def first(self):\n",
    "        print(\"First Function of class A\")\n",
    "    def second(self):\n",
    "        print(\"Second Function of class A\")\n",
    "class B(A):\n",
    "    def first(self):\n",
    "        print(\"First Function of class B\")\n",
    "    def display(self):\n",
    "        print(\"Display Function of class B\")\n",
    "obj1 = A()\n",
    "obj2 = B()\n",
    "obj1.first()\n",
    "obj2.first()\n",
    "obj1.second()\n",
    "obj2.second()\n",
    "obj2.display()\n",
    "# obj1.display()"
   ]
  },
  {
   "cell_type": "markdown",
   "metadata": {},
   "source": [
    "### Explanation of Operator Overloading\n",
    "    --> Giving extended meaning beyond their predefined meaning"
   ]
  },
  {
   "cell_type": "code",
   "execution_count": 17,
   "metadata": {},
   "outputs": [
    {
     "name": "stdout",
     "output_type": "stream",
     "text": [
      "300\n"
     ]
    }
   ],
   "source": [
    "class A:\n",
    "    def __init__(self,x):\n",
    "        self.x = x\n",
    "    def __add__(self,other):\n",
    "        return self.x + other.x\n",
    "class B:\n",
    "    def __init__(self,x):\n",
    "        self.x = x\n",
    "a = A(100)\n",
    "b = B(200)\n",
    "print(a+b)"
   ]
  },
  {
   "cell_type": "code",
   "execution_count": 19,
   "metadata": {},
   "outputs": [
    {
     "name": "stdout",
     "output_type": "stream",
     "text": [
      "2\n",
      "HelloHi\n",
      "2\n",
      "HelloHi\n",
      "2\n",
      "HelloHi\n"
     ]
    }
   ],
   "source": [
    "class A:\n",
    "    def __init__(self,a):\n",
    "        self.a = a\n",
    "    def __add__(self,other):\n",
    "        return self.a+other.a\n",
    "obj1 = A(1)\n",
    "obj2 = A(1)\n",
    "obj3 = A(\"Hello\")\n",
    "obj4 = A(\"Hi\")\n",
    "print(obj1+obj2)\n",
    "print(obj3+obj4)\n",
    "print(A.__add__(obj1,obj2))\n",
    "print(A.__add__(obj3,obj4))\n",
    "print(obj1.__add__(obj2))\n",
    "print(obj3.__add__(obj4))"
   ]
  },
  {
   "cell_type": "code",
   "execution_count": 20,
   "metadata": {},
   "outputs": [
    {
     "name": "stdout",
     "output_type": "stream",
     "text": [
      "obj2 is greater than obj1\n"
     ]
    }
   ],
   "source": [
    "class A:\n",
    "    def __init__(self,a):\n",
    "        self.a = a\n",
    "    def __gt__(self,other):\n",
    "        if self.a > other.a:\n",
    "            return True\n",
    "        else:\n",
    "            return False\n",
    "obj1 = A(2)\n",
    "obj2 = A(3)\n",
    "\n",
    "if obj1 > obj2:\n",
    "    print(\"Obj1 is greater than obj2\")\n",
    "else:\n",
    "    print(\"obj2 is greater than obj1\")"
   ]
  },
  {
   "cell_type": "markdown",
   "metadata": {},
   "source": [
    "### Mathematical Operators\n",
    "    +\t__add__(self, other)\ta + b\n",
    "    -\t__sub__(self, other)\ta - b\n",
    "    *\t__mul__(self, other)\ta * b\n",
    "    /\t__truediv__(self, other)\ta / b\n",
    "    //\t__floordiv__(self, other)\ta // b\n",
    "    %\t__mod__(self, other)\ta % b\n",
    "    **\t__pow__(self, other)\ta ** b\n",
    "\n",
    "###  Comparision Operators\n",
    "    ==\t__eq__(self, other)\ta == b\n",
    "    !=\t__ne__(self, other)\ta != b\n",
    "    <\t__lt__(self, other)\ta < b\n",
    "    <=\t__le__(self, other)\ta <= b\n",
    "    >\t__gt__(self, other)\ta > b\n",
    "    >=\t__ge__(self, other)\ta >= b\n",
    "\n",
    "\n",
    "    [] (Indexing)\t__getitem__(self, key)\ta[key]\n",
    "    [] (Assignment)\t__setitem__(self, key, value)\ta[key] = value\n",
    "    len()\t__len__(self)\tlen(a)\n",
    "    str()\t__str__(self)\tstr(a)\n",
    "    repr()\t__repr__(self)\trepr(a)"
   ]
  },
  {
   "cell_type": "markdown",
   "metadata": {},
   "source": [
    "### Inheritance\n",
    "    --> Ability to inherit features or attributes from already written classes into newer classes we make\n",
    "    --> These features and attributes are defined data structures and the functions we can perform with them\n",
    "    --> It promotes code reusability"
   ]
  },
  {
   "cell_type": "markdown",
   "metadata": {},
   "source": [
    "### Single Inheritance"
   ]
  },
  {
   "cell_type": "code",
   "execution_count": 26,
   "metadata": {},
   "outputs": [
    {
     "name": "stdout",
     "output_type": "stream",
     "text": [
      "Hello Parent\n",
      "Hello Child\n"
     ]
    }
   ],
   "source": [
    "class parent:\n",
    "    def fun1(self):\n",
    "        print(\"Hello Parent\")\n",
    "class child(parent):\n",
    "    def fun2(self):\n",
    "        print(\"Hello Child\")\n",
    "test = child()\n",
    "test.fun1()\n",
    "test.fun2()"
   ]
  },
  {
   "cell_type": "code",
   "execution_count": 27,
   "metadata": {
    "scrolled": true
   },
   "outputs": [
    {
     "name": "stdout",
     "output_type": "stream",
     "text": [
      "Hello Parent\n",
      "Hello Child\n"
     ]
    }
   ],
   "source": [
    "class parent:\n",
    "    def fun1(self):\n",
    "        print(\"Hello Parent\")\n",
    "class child(parent):\n",
    "    def fun2(self):\n",
    "        super().fun1()\n",
    "        print(\"Hello Child\")\n",
    "test = child()\n",
    "test.fun2()"
   ]
  },
  {
   "cell_type": "code",
   "execution_count": 28,
   "metadata": {},
   "outputs": [
    {
     "name": "stdout",
     "output_type": "stream",
     "text": [
      "Hello Child\n",
      "Hello Parent\n"
     ]
    }
   ],
   "source": [
    "class parent:\n",
    "    def fun1(self):\n",
    "        print(\"Hello Parent\")\n",
    "class child(parent):\n",
    "    def fun2(self):\n",
    "        print(\"Hello Child\")\n",
    "        super().fun1()\n",
    "test = child()\n",
    "test.fun2()"
   ]
  },
  {
   "cell_type": "markdown",
   "metadata": {},
   "source": [
    "### Multiple Inheritance"
   ]
  },
  {
   "cell_type": "code",
   "execution_count": 29,
   "metadata": {},
   "outputs": [
    {
     "name": "stdout",
     "output_type": "stream",
     "text": [
      "Hello Parent 1\n",
      "Hello Parent 2\n",
      "Hello Child\n",
      "(<class '__main__.child'>, <class '__main__.parent1'>, <class '__main__.parent2'>, <class '__main__.parent3'>, <class 'object'>)\n"
     ]
    }
   ],
   "source": [
    "class parent1:\n",
    "    def fun1(self):\n",
    "        print(\"Hello Parent 1\")\n",
    "class parent2:\n",
    "    def fun2(self):\n",
    "        print(\"Hello Parent 2\")\n",
    "class parent3:\n",
    "    def fun2(self):\n",
    "        print(\"Hello Parent 3\")\n",
    "class child(parent1,parent2,parent3):\n",
    "    def fun3(self):\n",
    "        print(\"Hello Child\")\n",
    "test = child()\n",
    "test.fun1()\n",
    "test.fun2()\n",
    "test.fun3()\n",
    "print(child.__mro__)"
   ]
  },
  {
   "cell_type": "markdown",
   "metadata": {},
   "source": [
    "### Multi-Level Inheritance"
   ]
  },
  {
   "cell_type": "code",
   "execution_count": 3,
   "metadata": {},
   "outputs": [
    {
     "name": "stdout",
     "output_type": "stream",
     "text": [
      "Hello Grandfather\n",
      "Hello Parent\n",
      "Hello Child\n",
      "(<class '__main__.child'>, <class '__main__.parent'>, <class '__main__.grandparent'>, <class 'object'>)\n"
     ]
    }
   ],
   "source": [
    "class grandparent:\n",
    "    def fun1(self):\n",
    "        print(\"Hello Grandfather\")\n",
    "class parent(grandparent):\n",
    "    def fun2(self):\n",
    "        print(\"Hello Parent\")\n",
    "class child(parent):\n",
    "    def fun3(self):\n",
    "        print(\"Hello Child\")\n",
    "test = child()\n",
    "test.fun1()\n",
    "test.fun2()\n",
    "test.fun3()\n",
    "print(child.__mro__)"
   ]
  },
  {
   "cell_type": "markdown",
   "metadata": {},
   "source": [
    "### Hierarchical Inheritance"
   ]
  },
  {
   "cell_type": "code",
   "execution_count": 4,
   "metadata": {},
   "outputs": [
    {
     "name": "stdout",
     "output_type": "stream",
     "text": [
      "Hello Parent\n",
      "Hello Parent\n",
      "Hello Child1\n",
      "Hello Parent\n",
      "Hello Child2\n",
      "(<class '__main__.child1'>, <class '__main__.parent'>, <class 'object'>)\n",
      "(<class '__main__.child2'>, <class '__main__.parent'>, <class 'object'>)\n"
     ]
    }
   ],
   "source": [
    "class parent:\n",
    "    def fun1(self):\n",
    "        print(\"Hello Parent\")\n",
    "class child1(parent):\n",
    "    def fun2(self):\n",
    "        print(\"Hello Child1\")\n",
    "class child2(parent):\n",
    "    def fun3(self):\n",
    "        print(\"Hello Child2\")\n",
    "p_obj = parent()\n",
    "c1 = child1()\n",
    "c2 = child2()\n",
    "\n",
    "p_obj.fun1()\n",
    "c1.fun1()\n",
    "c1.fun2()\n",
    "c2.fun1()\n",
    "c2.fun3()\n",
    "print(child1.__mro__)\n",
    "print(child2.__mro__)"
   ]
  },
  {
   "cell_type": "markdown",
   "metadata": {},
   "source": [
    "### Hybrid Inheritance"
   ]
  },
  {
   "cell_type": "code",
   "execution_count": 6,
   "metadata": {},
   "outputs": [
    {
     "name": "stdout",
     "output_type": "stream",
     "text": [
      "Hello Parent1\n",
      "Hello Parent1\n",
      "Hello Parent2\n",
      "Hello Child1\n",
      "Hello Child2\n",
      "(<class '__main__.child1'>, <class '__main__.parent1'>, <class 'object'>)\n",
      "(<class '__main__.child2'>, <class '__main__.child1'>, <class '__main__.parent1'>, <class '__main__.parent2'>, <class 'object'>)\n",
      "[<class '__main__.parent1'>, <class 'object'>]\n"
     ]
    }
   ],
   "source": [
    "class parent1:\n",
    "    def fun1(self):\n",
    "        print(\"Hello Parent1\")\n",
    "class parent2:\n",
    "    def fun2(self):\n",
    "        print(\"Hello Parent2\")\n",
    "class child1(parent1):\n",
    "    def fun3(self):\n",
    "        print(\"Hello Child1\")\n",
    "class child2(child1,parent2):\n",
    "    def fun4(self):\n",
    "        print(\"Hello Child2\")\n",
    "test1 = child1()\n",
    "test2 = child2()\n",
    "\n",
    "test1.fun1()\n",
    "\n",
    "test2.fun1()\n",
    "test2.fun2()\n",
    "test2.fun3()\n",
    "test2.fun4()\n",
    "\n",
    "print(child1.__mro__)\n",
    "print(child2.__mro__)\n",
    "print(parent1.mro())"
   ]
  },
  {
   "cell_type": "markdown",
   "metadata": {},
   "source": [
    "### Super Function"
   ]
  },
  {
   "cell_type": "code",
   "execution_count": 13,
   "metadata": {},
   "outputs": [
    {
     "name": "stdout",
     "output_type": "stream",
     "text": [
      "50\n"
     ]
    }
   ],
   "source": [
    "class parent:\n",
    "    def __init__(self):\n",
    "        self.attr1 = 50\n",
    "        self.attr2 = 65\n",
    "class child(parent):\n",
    "    def __init__(self):\n",
    "        super().__init__()\n",
    "        self.attr3 = 45\n",
    "        parent.__init__(self)\n",
    "test = child()\n",
    "print(test.attr1)"
   ]
  },
  {
   "cell_type": "code",
   "execution_count": 1,
   "metadata": {},
   "outputs": [
    {
     "ename": "AttributeError",
     "evalue": "'child' object has no attribute 'attr1'",
     "output_type": "error",
     "traceback": [
      "\u001b[1;31m---------------------------------------------------------------------------\u001b[0m",
      "\u001b[1;31mAttributeError\u001b[0m                            Traceback (most recent call last)",
      "\u001b[1;32m<ipython-input-1-7eb99fb238b5>\u001b[0m in \u001b[0;36m<module>\u001b[1;34m\u001b[0m\n\u001b[0;32m      9\u001b[0m \u001b[1;31m#         parent.__init__(self)\u001b[0m\u001b[1;33m\u001b[0m\u001b[1;33m\u001b[0m\u001b[1;33m\u001b[0m\u001b[0m\n\u001b[0;32m     10\u001b[0m \u001b[0mtest\u001b[0m \u001b[1;33m=\u001b[0m \u001b[0mchild\u001b[0m\u001b[1;33m(\u001b[0m\u001b[1;33m)\u001b[0m\u001b[1;33m\u001b[0m\u001b[1;33m\u001b[0m\u001b[0m\n\u001b[1;32m---> 11\u001b[1;33m \u001b[0mprint\u001b[0m\u001b[1;33m(\u001b[0m\u001b[0mtest\u001b[0m\u001b[1;33m.\u001b[0m\u001b[0mattr1\u001b[0m\u001b[1;33m)\u001b[0m\u001b[1;33m\u001b[0m\u001b[1;33m\u001b[0m\u001b[0m\n\u001b[0m",
      "\u001b[1;31mAttributeError\u001b[0m: 'child' object has no attribute 'attr1'"
     ]
    }
   ],
   "source": [
    "class parent:\n",
    "    def __init__(self):\n",
    "        self.attr1 = 50\n",
    "        self.attr2 = 65\n",
    "class child():\n",
    "    def __init__(self):\n",
    "        super().__init__()\n",
    "        self.attr3 = 45\n",
    "#         parent.__init__(self)\n",
    "test = child()\n",
    "print(test.attr1)"
   ]
  },
  {
   "cell_type": "code",
   "execution_count": null,
   "metadata": {},
   "outputs": [],
   "source": [
    "class parent:\n",
    "    def __init__(self):\n",
    "        self.attr1 = 50\n",
    "        self.attr2 = 65\n",
    "class child():\n",
    "    def __init__(self):\n",
    "        parent.__init__(self)\n",
    "        self.attr3 = 45\n",
    "test = child()\n",
    "print(test.attr1)"
   ]
  },
  {
   "cell_type": "markdown",
   "metadata": {},
   "source": [
    "### issubclass() and isinstance()"
   ]
  },
  {
   "cell_type": "code",
   "execution_count": null,
   "metadata": {},
   "outputs": [],
   "source": [
    "class parent:\n",
    "    def fun1(self):\n",
    "        print(\"Hello Parent\")\n",
    "class child(parent):\n",
    "    def fun2(self):\n",
    "        print(\"Hello Child\")\n",
    "print(issubclass(child,parent))"
   ]
  },
  {
   "cell_type": "code",
   "execution_count": 5,
   "metadata": {},
   "outputs": [
    {
     "name": "stdout",
     "output_type": "stream",
     "text": [
      "bar from c2\n",
      "foo from p1\n",
      "(<class '__main__.GC'>, <class '__main__.c1'>, <class '__main__.p1'>, <class '__main__.c2'>, <class '__main__.p2'>, <class 'object'>)\n"
     ]
    }
   ],
   "source": [
    "class p1:\n",
    "    def foo(self):\n",
    "        print(\"foo from p1\")\n",
    "        \n",
    "class p2:\n",
    "    def foo(self):\n",
    "        print(\"foo from p2\")\n",
    "    def bar(self):\n",
    "        print(\"bar from p2\")\n",
    "\n",
    "class c1(p1):\n",
    "    pass\n",
    "class c2(p2):\n",
    "    def bar(self):\n",
    "        print(\"bar from c2\")\n",
    "        \n",
    "class GC(c1,c2):\n",
    "    pass\n",
    "\n",
    "gc = GC()\n",
    "gc.bar()\n",
    "gc.foo()\n",
    "print(GC.__mro__)\n"
   ]
  },
  {
   "cell_type": "code",
   "execution_count": 6,
   "metadata": {},
   "outputs": [
    {
     "name": "stdout",
     "output_type": "stream",
     "text": [
      "bar from c2\n",
      "foo from p1\n",
      "(<class '__main__.GC'>, <class '__main__.c1'>, <class '__main__.c2'>, <class '__main__.p1'>, <class 'object'>)\n"
     ]
    }
   ],
   "source": [
    "class p1:\n",
    "    def foo(self):\n",
    "        print(\"foo from p1\")\n",
    "        \n",
    "class p2:\n",
    "    def foo(self):\n",
    "        print(\"foo from p2\")\n",
    "    def bar(self):\n",
    "        print(\"bar from p2\")\n",
    "\n",
    "class c1(p1):\n",
    "    pass\n",
    "class c2(p1):\n",
    "    def bar(self):\n",
    "        print(\"bar from c2\")\n",
    "        \n",
    "class GC(c1,c2):\n",
    "    pass\n",
    "\n",
    "gc = GC()\n",
    "gc.bar()\n",
    "gc.foo()\n",
    "print(GC.__mro__)\n"
   ]
  },
  {
   "cell_type": "code",
   "execution_count": 7,
   "metadata": {},
   "outputs": [
    {
     "name": "stdout",
     "output_type": "stream",
     "text": [
      "bar from p2\n",
      "foo from p2\n",
      "(<class '__main__.GC'>, <class '__main__.c1'>, <class '__main__.p2'>, <class '__main__.c2'>, <class '__main__.p1'>, <class 'object'>)\n"
     ]
    }
   ],
   "source": [
    "class p1:\n",
    "    def foo(self):\n",
    "        print(\"foo from p1\")\n",
    "        \n",
    "class p2:\n",
    "    def foo(self):\n",
    "        print(\"foo from p2\")\n",
    "    def bar(self):\n",
    "        print(\"bar from p2\")\n",
    "\n",
    "class c1(p2):\n",
    "    pass\n",
    "class c2(p1):\n",
    "    def bar(self):\n",
    "        print(\"bar from c2\")\n",
    "        \n",
    "class GC(c1,c2):\n",
    "    pass\n",
    "\n",
    "gc = GC()\n",
    "gc.bar()\n",
    "gc.foo()\n",
    "print(GC.__mro__)\n"
   ]
  },
  {
   "cell_type": "code",
   "execution_count": 9,
   "metadata": {},
   "outputs": [
    {
     "name": "stdout",
     "output_type": "stream",
     "text": [
      "bar from c2\n",
      "foo from p1\n",
      "(<class '__main__.GC'>, <class '__main__.c1'>, <class '__main__.c2'>, <class '__main__.p1'>, <class '__main__.p2'>, <class 'object'>)\n"
     ]
    }
   ],
   "source": [
    "class p1:\n",
    "    def foo(self):\n",
    "        print(\"foo from p1\")\n",
    "        \n",
    "class p2:\n",
    "    def foo(self):\n",
    "        print(\"foo from p2\")\n",
    "    def bar(self):\n",
    "        print(\"bar from p2\")\n",
    "\n",
    "class c1(p1,p2):\n",
    "    pass\n",
    "class c2(p1,p2):\n",
    "    def bar(self):\n",
    "        print(\"bar from c2\")\n",
    "        \n",
    "class GC(c1,c2):\n",
    "    pass\n",
    "\n",
    "gc = GC()\n",
    "gc.bar()\n",
    "gc.foo()\n",
    "print(GC.__mro__)\n"
   ]
  },
  {
   "cell_type": "markdown",
   "metadata": {},
   "source": [
    "### Abstract Class\n",
    "- Abstraction is implemented using abstract class\n",
    "- Abstract class is created to declare a set of methods that must be created in any child class builton top of this abstract class\n",
    "- Abstract method doesn't have any implementation\n",
    "- Inheritance ABC class from module abc\n",
    "@abstractmethod"
   ]
  },
  {
   "cell_type": "code",
   "execution_count": 12,
   "metadata": {},
   "outputs": [
    {
     "name": "stdout",
     "output_type": "stream",
     "text": [
      "Draw circle\n"
     ]
    }
   ],
   "source": [
    "from abc import ABC,abstractmethod\n",
    "class shape(ABC):\n",
    "    def __init__(self,shape_name):\n",
    "        self.shape_name = shape_name\n",
    "        \n",
    "    @abstractmethod\n",
    "    def draw(self):\n",
    "        pass\n",
    "    \n",
    "class Circle(shape):\n",
    "    def __init__(self):\n",
    "        super().__init__(\"Circle\")\n",
    "    \n",
    "    def draw(self):\n",
    "        print(\"Draw circle\")\n",
    "        \n",
    "c = Circle()\n",
    "c.draw()"
   ]
  },
  {
   "cell_type": "code",
   "execution_count": null,
   "metadata": {},
   "outputs": [],
   "source": []
  }
 ],
 "metadata": {
  "kernelspec": {
   "display_name": "Python 3",
   "language": "python",
   "name": "python3"
  },
  "language_info": {
   "codemirror_mode": {
    "name": "ipython",
    "version": 3
   },
   "file_extension": ".py",
   "mimetype": "text/x-python",
   "name": "python",
   "nbconvert_exporter": "python",
   "pygments_lexer": "ipython3",
   "version": "3.8.5"
  }
 },
 "nbformat": 4,
 "nbformat_minor": 4
}

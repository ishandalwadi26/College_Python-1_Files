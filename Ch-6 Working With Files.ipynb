{
 "cells": [
  {
   "cell_type": "markdown",
   "metadata": {},
   "source": [
    "### Inbulit Function\n",
    "    -Create\n",
    "    -Write\n",
    "    -Reading"
   ]
  },
  {
   "cell_type": "markdown",
   "metadata": {},
   "source": [
    "###### Types Of Files - 1. Text\n",
    "                 2. binary (Not we Use)\n",
    "                 \n",
    "###### Modes : r,r+,w,w+,a,a+"
   ]
  },
  {
   "cell_type": "markdown",
   "metadata": {},
   "source": [
    "### Read Only ('r')\n",
    "    -Handle Position At The Begining Of the File\n",
    "    -If File Does not exist, raise the an error\n",
    "    -default mode\n",
    "    \n",
    "    "
   ]
  },
  {
   "cell_type": "markdown",
   "metadata": {},
   "source": [
    "### First Way To Open a File ---"
   ]
  },
  {
   "cell_type": "code",
   "execution_count": 6,
   "metadata": {},
   "outputs": [
    {
     "name": "stdout",
     "output_type": "stream",
     "text": [
      "gr uer uihre ue rht hergeriher iu ierh gh er giher gerg reg erg  hgtrge rgoihb  fdg fgyreg er geg\n",
      "False\n",
      "True\n"
     ]
    }
   ],
   "source": [
    "f = open(\"demo.txt\",\"r\")\n",
    "print(f.read())\n",
    "print(f.closed)\n",
    "f.close()\n",
    "print(f.closed)"
   ]
  },
  {
   "cell_type": "markdown",
   "metadata": {},
   "source": [
    "### Second Way To Open a File ---"
   ]
  },
  {
   "cell_type": "code",
   "execution_count": 11,
   "metadata": {},
   "outputs": [
    {
     "name": "stdout",
     "output_type": "stream",
     "text": [
      "gr uer uihre ue rht hergeriher iu ierh gh er giher gerg reg erg  hgtrge rgoihb  fdg fgyreg er geg\n",
      "False\n",
      "True\n"
     ]
    }
   ],
   "source": [
    "with open(\"demo.txt\",\"r\") as f:\n",
    "    print(f.read())\n",
    "    print(f.closed)\n",
    "print(f.closed)"
   ]
  },
  {
   "cell_type": "code",
   "execution_count": 2,
   "metadata": {},
   "outputs": [
    {
     "name": "stdout",
     "output_type": "stream",
     "text": [
      "4\n",
      " is python\n",
      "3\n",
      "o is python\n"
     ]
    }
   ],
   "source": [
    "f = open(\"demo.txt\",\"r+\")\n",
    "f.write(\"Helo\")\n",
    "print(f.tell())\n",
    "print(f.read())\n",
    "f.seek(3)\n",
    "print(f.tell())\n",
    "print(f.read())\n",
    "f.close()"
   ]
  },
  {
   "cell_type": "markdown",
   "metadata": {},
   "source": [
    "### Read Functions --\n",
    "#### read()\n",
    "#### readline()\n",
    "#### readlines()"
   ]
  },
  {
   "cell_type": "code",
   "execution_count": 10,
   "metadata": {},
   "outputs": [
    {
     "name": "stdout",
     "output_type": "stream",
     "text": [
      "Helo \n",
      "is python u \n"
     ]
    }
   ],
   "source": [
    "f = open(\"demo.txt\",\"r\")\n",
    "print(f.read(5))\n",
    "print(f.read(12))"
   ]
  },
  {
   "cell_type": "code",
   "execution_count": 14,
   "metadata": {},
   "outputs": [
    {
     "name": "stdout",
     "output_type": "stream",
     "text": [
      "he\n",
      "loo is\n",
      "han hi 1\n",
      "\n",
      "heloo\n",
      " \n"
     ]
    }
   ],
   "source": [
    "f = open(\"demo.txt\",\"r\")\n",
    "print(f.readline(2))\n",
    "print(f.readline(6))\n",
    "print(f.readline(10))\n",
    "print(f.readline(5))\n",
    "print(f.readline(1))"
   ]
  },
  {
   "cell_type": "code",
   "execution_count": 7,
   "metadata": {},
   "outputs": [
    {
     "name": "stdout",
     "output_type": "stream",
     "text": [
      "['heloo ishan hi 1\\n', 'heloo ishan hi 2\\n']\n"
     ]
    }
   ],
   "source": [
    "f = open(\"demo.txt\",\"r\")\n",
    "print(f.readlines(33))"
   ]
  },
  {
   "cell_type": "markdown",
   "metadata": {},
   "source": [
    "### Write Functoins --\n",
    "    --write()\n",
    "    --writelines()"
   ]
  },
  {
   "cell_type": "code",
   "execution_count": 11,
   "metadata": {},
   "outputs": [],
   "source": [
    "f = open(\"demo.txt\",\"w\")\n",
    "f.write(\"This is test data\")\n",
    "f.close()"
   ]
  },
  {
   "cell_type": "code",
   "execution_count": 13,
   "metadata": {},
   "outputs": [],
   "source": [
    "f = open(\"demo.txt\",\"w\")\n",
    "l = ['a','b','c','d']\n",
    "f.writelines(l)\n",
    "f.close()"
   ]
  },
  {
   "cell_type": "markdown",
   "metadata": {},
   "source": [
    "### Ex :- 1"
   ]
  },
  {
   "cell_type": "code",
   "execution_count": 16,
   "metadata": {},
   "outputs": [
    {
     "name": "stdout",
     "output_type": "stream",
     "text": [
      "Enter name :ishan\n",
      "Enter name :dalwadi\n",
      "Enter name :devam\n",
      "Enter name :jha\n",
      "Enter name :jaswani\n"
     ]
    }
   ],
   "source": [
    "f = open(\"ex1.txt\",\"w\")\n",
    "for i in range(0,5):\n",
    "    name = input(\"Enter name :\")\n",
    "    f.write(name+\"\\n\")\n",
    "f.close()"
   ]
  }
 ],
 "metadata": {
  "kernelspec": {
   "display_name": "Python 3",
   "language": "python",
   "name": "python3"
  },
  "language_info": {
   "codemirror_mode": {
    "name": "ipython",
    "version": 3
   },
   "file_extension": ".py",
   "mimetype": "text/x-python",
   "name": "python",
   "nbconvert_exporter": "python",
   "pygments_lexer": "ipython3",
   "version": "3.8.5"
  }
 },
 "nbformat": 4,
 "nbformat_minor": 4
}
